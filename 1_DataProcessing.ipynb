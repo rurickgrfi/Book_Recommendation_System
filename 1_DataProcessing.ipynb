{
 "cells": [
  {
   "attachments": {},
   "cell_type": "markdown",
   "id": "a2370b54",
   "metadata": {},
   "source": [
    "-----"
   ]
  },
  {
   "attachments": {},
   "cell_type": "markdown",
   "id": "e55402c5",
   "metadata": {},
   "source": [
    "# **BrainStation Bootcamp:**\n",
    "### **Book Recommendation System - Data Processing**\n",
    "\n",
    "* Author: Rurick Alejandro Granados Figueredo\n",
    "* Contact: rurickgrfi@gmail.com\n",
    "* Date: July 31, 2023\n",
    "-----------"
   ]
  },
  {
   "attachments": {},
   "cell_type": "markdown",
   "id": "1f805799",
   "metadata": {},
   "source": [
    "## **Project Overview**\n",
    "Discovering the perfect book that aligns with our personal preferences can be challenging, especially for those who are not regular readers. In my capstone project, I have chosen to address this issue by building a book recommendation system. By developing this tool, I aim to predict and suggest books that individuals would enjoy reading, making the process of book selection easier and more personalized.\n",
    "\n",
    "\n"
   ]
  },
  {
   "attachments": {},
   "cell_type": "markdown",
   "id": "08825f93",
   "metadata": {},
   "source": [
    "## **Dataset**\n",
    "\n",
    "For this project, we utilized the Amazon Books Reviews dataset, which comprises 2 files. The first file consists of Book Reviews, gathering feedback from 3 million users on 212,404 distinct books. It forms part of the Amazon review Dataset and encompasses product reviews and metadata from Amazon, containing an impressive 142.8 million reviews covering the period from May 1996 to July 2014.\n",
    "\n",
    "The second file, known as the Books Details file, contains comprehensive information about the same 212,404 unique books. This data was obtained by utilizing the Google Books API, ensuring that each book's details and ratings were thoroughly documented. "
   ]
  },
  {
   "attachments": {},
   "cell_type": "markdown",
   "id": "d85edb1a",
   "metadata": {},
   "source": [
    "\n",
    "### **Data Dictionary**\n",
    "---\n",
    "\n",
    "### Books Details File\n",
    "|Features|Description|\n",
    "|:------------|  ---------------:|\n",
    "|Title|Book Title|\n",
    "|description|Description of the book|\n",
    "|authors|Name of book authors|\n",
    "|image|url for book cover|\n",
    "|previewLink|link to access this book on google Books|\n",
    "|publisher|Name of the publisheer|\n",
    "|publishedDate|the date of publish|\n",
    "|infoLink|link to get more information about the book on google books|\n",
    "|categories|genres of books|\n",
    "|ratingsCount|averaging rating for book|\n",
    "\n",
    "\n",
    "### Reviews File\n",
    "|Features|Description|\n",
    "|:------------|  ---------------:|\n",
    "|id|The Id of Book|\n",
    "|Title|Book Title|\n",
    "|Price|The price of Book|\n",
    "|User_id|Id of the user who rates the book|\n",
    "|profileName|Name of the user who rates the book|\n",
    "|review/helpfulness|helpfulness rating of the review, e.g. 2/3|\n",
    "|review/score|rating from 0 to 5 for the book|\n",
    "|review/time|time of given the review|\n",
    "|review/summary|the summary of a text review|\n",
    "|review/text|the full text of a review|"
   ]
  },
  {
   "attachments": {},
   "cell_type": "markdown",
   "id": "d7b2f1d6",
   "metadata": {},
   "source": [
    "---\n"
   ]
  },
  {
   "attachments": {},
   "cell_type": "markdown",
   "id": "b432c551",
   "metadata": {},
   "source": [
    "## **Table of Contents** \n",
    "---\n",
    "- [1. Loading Data and Libraries Setup](#_1)  \n",
    "- [2. Data Preparation and Exploration](#_2)\n",
    "    - [2.1 `ratings` data exploration](#_2.1)    \n",
    "        - [2.1.1 Cleaning `ratings`](#_2.1.1) \n",
    "        - [2.1.2 Feature Engineering](#_2.1.2) \n",
    "    - [2.2 `books` data exploration](#_2.2) \n",
    "        - [2.2.1 Cleaning `books`](#_2.2.1) \n",
    "        - [2.2.2 Feature Engineering](#_2.2.2) \n",
    "- [3. Merging `books` and `ratings` data frames](#_3)\n",
    "    - [3.1 Data Cleaning](#_3.1)  \n",
    "    - [3.2 Feature Enginering](#_3.2)  \n",
    "- [4. Save Processed Data](#_4) "
   ]
  },
  {
   "attachments": {},
   "cell_type": "markdown",
   "id": "cf15a06a",
   "metadata": {},
   "source": [
    "-----"
   ]
  },
  {
   "attachments": {},
   "cell_type": "markdown",
   "id": "e9988dd7",
   "metadata": {},
   "source": [
    "## 1. Loading Data and Libraries Setup <a class=\"anchor\" id=\"_1\"></a>"
   ]
  },
  {
   "cell_type": "code",
   "execution_count": 1,
   "id": "c3e9a36a",
   "metadata": {},
   "outputs": [],
   "source": [
    "# Import libraries needed for the project\n",
    "import re\n",
    "import numpy as np\n",
    "import pandas as pd\n",
    "import matplotlib.pyplot as plt\n"
   ]
  },
  {
   "cell_type": "code",
   "execution_count": 2,
   "id": "be100518",
   "metadata": {},
   "outputs": [],
   "source": [
    "# Read the Books_rating csv file and asigne it to a data frame ratings\n",
    "ratings = pd.read_csv('Books_rating.csv')"
   ]
  },
  {
   "cell_type": "code",
   "execution_count": 3,
   "id": "5201e2b8",
   "metadata": {},
   "outputs": [],
   "source": [
    "# Read the Books_data csv file and asigne it to a data frame books\n",
    "books = pd.read_csv('books_data.csv')"
   ]
  },
  {
   "attachments": {},
   "cell_type": "markdown",
   "id": "a7131b19",
   "metadata": {},
   "source": [
    "## 2. Data Preparation and Exploration <a class=\"anchor\" id=\"_2\"></a>"
   ]
  },
  {
   "attachments": {},
   "cell_type": "markdown",
   "id": "02078799",
   "metadata": {},
   "source": [
    "### 2.1 `ratings` data exploration <a class=\"anchor\" id=\"_2.1\"></a>"
   ]
  },
  {
   "cell_type": "code",
   "execution_count": 4,
   "id": "704474d5",
   "metadata": {},
   "outputs": [
    {
     "data": {
      "text/html": [
       "<div>\n",
       "<style scoped>\n",
       "    .dataframe tbody tr th:only-of-type {\n",
       "        vertical-align: middle;\n",
       "    }\n",
       "\n",
       "    .dataframe tbody tr th {\n",
       "        vertical-align: top;\n",
       "    }\n",
       "\n",
       "    .dataframe thead th {\n",
       "        text-align: right;\n",
       "    }\n",
       "</style>\n",
       "<table border=\"1\" class=\"dataframe\">\n",
       "  <thead>\n",
       "    <tr style=\"text-align: right;\">\n",
       "      <th></th>\n",
       "      <th>Id</th>\n",
       "      <th>Title</th>\n",
       "      <th>Price</th>\n",
       "      <th>User_id</th>\n",
       "      <th>profileName</th>\n",
       "      <th>review/helpfulness</th>\n",
       "      <th>review/score</th>\n",
       "      <th>review/time</th>\n",
       "      <th>review/summary</th>\n",
       "      <th>review/text</th>\n",
       "    </tr>\n",
       "  </thead>\n",
       "  <tbody>\n",
       "    <tr>\n",
       "      <th>1519757</th>\n",
       "      <td>1580624073</td>\n",
       "      <td>Make Up, Don't Break Up: Finding and Keeping L...</td>\n",
       "      <td>NaN</td>\n",
       "      <td>A1HGNXVD4859MZ</td>\n",
       "      <td>Freda J. Hill</td>\n",
       "      <td>22/23</td>\n",
       "      <td>5.0</td>\n",
       "      <td>1004486400</td>\n",
       "      <td>This book is the best kept secret for troubled...</td>\n",
       "      <td>If you think, &amp;quot;Men are from Mars, Women a...</td>\n",
       "    </tr>\n",
       "  </tbody>\n",
       "</table>\n",
       "</div>"
      ],
      "text/plain": [
       "                 Id                                              Title  Price  \\\n",
       "1519757  1580624073  Make Up, Don't Break Up: Finding and Keeping L...    NaN   \n",
       "\n",
       "                User_id    profileName review/helpfulness  review/score  \\\n",
       "1519757  A1HGNXVD4859MZ  Freda J. Hill              22/23           5.0   \n",
       "\n",
       "         review/time                                     review/summary  \\\n",
       "1519757   1004486400  This book is the best kept secret for troubled...   \n",
       "\n",
       "                                               review/text  \n",
       "1519757  If you think, &quot;Men are from Mars, Women a...  "
      ]
     },
     "execution_count": 4,
     "metadata": {},
     "output_type": "execute_result"
    }
   ],
   "source": [
    "ratings.sample(1)"
   ]
  },
  {
   "cell_type": "code",
   "execution_count": 5,
   "id": "30352884",
   "metadata": {},
   "outputs": [
    {
     "name": "stdout",
     "output_type": "stream",
     "text": [
      "<class 'pandas.core.frame.DataFrame'>\n",
      "RangeIndex: 3000000 entries, 0 to 2999999\n",
      "Data columns (total 10 columns):\n",
      " #   Column              Dtype  \n",
      "---  ------              -----  \n",
      " 0   Id                  object \n",
      " 1   Title               object \n",
      " 2   Price               float64\n",
      " 3   User_id             object \n",
      " 4   profileName         object \n",
      " 5   review/helpfulness  object \n",
      " 6   review/score        float64\n",
      " 7   review/time         int64  \n",
      " 8   review/summary      object \n",
      " 9   review/text         object \n",
      "dtypes: float64(2), int64(1), object(7)\n",
      "memory usage: 228.9+ MB\n"
     ]
    }
   ],
   "source": [
    "ratings.info()"
   ]
  },
  {
   "cell_type": "code",
   "execution_count": 6,
   "id": "1cd980e8",
   "metadata": {},
   "outputs": [
    {
     "name": "stdout",
     "output_type": "stream",
     "text": [
      "Total rows: 3000000\n",
      "Total columns: 10\n",
      "Null values: 3643144\n"
     ]
    }
   ],
   "source": [
    "# ratings shape\n",
    "print(f\"Total rows: {ratings.shape[0]}\")\n",
    "print(f\"Total columns: {ratings.shape[1]}\")\n",
    "print(f\"Null values: {ratings.isna().sum().sum()}\")"
   ]
  },
  {
   "cell_type": "code",
   "execution_count": 7,
   "id": "50ce8671",
   "metadata": {
    "scrolled": false
   },
   "outputs": [
    {
     "data": {
      "text/plain": [
       "Id                          0\n",
       "Title                     208\n",
       "Price                 2518829\n",
       "User_id                561787\n",
       "profileName            561905\n",
       "review/helpfulness          0\n",
       "review/score                0\n",
       "review/time                 0\n",
       "review/summary            407\n",
       "review/text                 8\n",
       "dtype: int64"
      ]
     },
     "execution_count": 7,
     "metadata": {},
     "output_type": "execute_result"
    }
   ],
   "source": [
    "# ratings NaN values\n",
    "ratings.isna().sum()"
   ]
  },
  {
   "attachments": {},
   "cell_type": "markdown",
   "id": "826ddfa1",
   "metadata": {},
   "source": [
    "#### 2.1.1 Cleaning `ratings` data frame: <a class=\"anchor\" id=\"_2.1.1\"></a>"
   ]
  },
  {
   "attachments": {},
   "cell_type": "markdown",
   "id": "18813610",
   "metadata": {},
   "source": [
    "##### A. Dropping NaN values (Title, User_id)\n",
    "- The `Title` and `User_id` columns are essential for the project, and therefore, any rows with NaN values in these columns will be removed."
   ]
  },
  {
   "cell_type": "code",
   "execution_count": 8,
   "id": "ad0439e8",
   "metadata": {},
   "outputs": [],
   "source": [
    "ratings.dropna(subset=[\"Title\",\"User_id\"],inplace = True)"
   ]
  },
  {
   "cell_type": "code",
   "execution_count": 9,
   "id": "49cc26d1",
   "metadata": {},
   "outputs": [
    {
     "data": {
      "text/plain": [
       "Id                          0\n",
       "Title                       0\n",
       "Price                 2023443\n",
       "User_id                     0\n",
       "profileName               118\n",
       "review/helpfulness          0\n",
       "review/score                0\n",
       "review/time                 0\n",
       "review/summary            397\n",
       "review/text                 1\n",
       "dtype: int64"
      ]
     },
     "execution_count": 9,
     "metadata": {},
     "output_type": "execute_result"
    }
   ],
   "source": [
    "ratings.isna().sum()"
   ]
  },
  {
   "attachments": {},
   "cell_type": "markdown",
   "id": "2395a4ec",
   "metadata": {},
   "source": [
    "The `review/text` and  `review/summary` columns have 1 and 397 NaN values each, since this amounts are not significant, those records will be droped."
   ]
  },
  {
   "cell_type": "code",
   "execution_count": 10,
   "id": "29bb46d9",
   "metadata": {},
   "outputs": [],
   "source": [
    "# drop review/summary NaN values\n",
    "ratings.dropna(subset=[\"review/summary\"],inplace = True)\n",
    "\n",
    "# drop review/text NaN values\n",
    "ratings.dropna(subset=[\"review/text\"],inplace = True)"
   ]
  },
  {
   "cell_type": "code",
   "execution_count": 11,
   "id": "b8162515",
   "metadata": {},
   "outputs": [
    {
     "data": {
      "text/plain": [
       "(2437620, 10)"
      ]
     },
     "execution_count": 11,
     "metadata": {},
     "output_type": "execute_result"
    }
   ],
   "source": [
    "ratings.shape"
   ]
  },
  {
   "attachments": {},
   "cell_type": "markdown",
   "id": "5efa3ea4",
   "metadata": {},
   "source": [
    "##### B. Duplicate rows"
   ]
  },
  {
   "cell_type": "code",
   "execution_count": 12,
   "id": "e1f37123",
   "metadata": {},
   "outputs": [
    {
     "data": {
      "text/plain": [
       "5546"
      ]
     },
     "execution_count": 12,
     "metadata": {},
     "output_type": "execute_result"
    }
   ],
   "source": [
    "# Calculate the number of duplicated rows\n",
    "ratings.duplicated().sum()"
   ]
  },
  {
   "cell_type": "code",
   "execution_count": 13,
   "id": "f9a34895",
   "metadata": {},
   "outputs": [
    {
     "data": {
      "text/plain": [
       "(2432074, 10)"
      ]
     },
     "execution_count": 13,
     "metadata": {},
     "output_type": "execute_result"
    }
   ],
   "source": [
    "# Drop the duplicated rows\n",
    "ratings.drop_duplicates(inplace=True)\n",
    "ratings.shape"
   ]
  },
  {
   "attachments": {},
   "cell_type": "markdown",
   "id": "5b8453b2",
   "metadata": {},
   "source": [
    "##### C. Cleanign Book Title column"
   ]
  },
  {
   "attachments": {},
   "cell_type": "markdown",
   "id": "ae79a1b5",
   "metadata": {},
   "source": [
    "Cleaning title column from ratings data frame since this column will be used for to merge the books dataset\n"
   ]
  },
  {
   "cell_type": "code",
   "execution_count": 14,
   "id": "c5431b4e",
   "metadata": {},
   "outputs": [],
   "source": [
    "# Remove the extra space from the title column\n",
    "ratings['Title'] = ratings['Title'].str.strip()\n",
    "\n",
    "# remove the punctuation from the Title column\n",
    "ratings['Title'] = ratings['Title'].str.replace('[^\\w\\s]','')"
   ]
  },
  {
   "cell_type": "code",
   "execution_count": 15,
   "id": "3b819ca5",
   "metadata": {},
   "outputs": [
    {
     "data": {
      "text/plain": [
       "Title\n",
       "The Hobbit             17854\n",
       "Pride and Prejudice    17739\n",
       "Atlas Shrugged         10741\n",
       "Wuthering Heights       8570\n",
       "Great Expectations      5648\n",
       "Name: count, dtype: int64"
      ]
     },
     "execution_count": 15,
     "metadata": {},
     "output_type": "execute_result"
    }
   ],
   "source": [
    "clean_title = ratings['Title'].value_counts()\n",
    "clean_title.head(5)"
   ]
  },
  {
   "attachments": {},
   "cell_type": "markdown",
   "id": "d894c2fe",
   "metadata": {},
   "source": [
    "Identify the number of unique users and titles:"
   ]
  },
  {
   "cell_type": "code",
   "execution_count": 16,
   "id": "90f5331e",
   "metadata": {},
   "outputs": [
    {
     "name": "stdout",
     "output_type": "stream",
     "text": [
      "Shape: (2432074, 10)\n",
      "Number of Unique Users: 1008822\n",
      "Number of Unique Titles: 206706\n"
     ]
    }
   ],
   "source": [
    "print(\"Shape:\", ratings.shape)\n",
    "print(\"Number of Unique Users:\",len(ratings[\"User_id\"].unique()))\n",
    "print(\"Number of Unique Titles:\",len(ratings[\"Title\"].unique()))"
   ]
  },
  {
   "attachments": {},
   "cell_type": "markdown",
   "id": "a31a2b16",
   "metadata": {},
   "source": [
    "#### 2.1.2 `ratings` feature engineering: <a class=\"anchor\" id=\"_2.1.2\"></a>"
   ]
  },
  {
   "cell_type": "code",
   "execution_count": 17,
   "id": "9ce18d79",
   "metadata": {},
   "outputs": [
    {
     "data": {
      "text/html": [
       "<div>\n",
       "<style scoped>\n",
       "    .dataframe tbody tr th:only-of-type {\n",
       "        vertical-align: middle;\n",
       "    }\n",
       "\n",
       "    .dataframe tbody tr th {\n",
       "        vertical-align: top;\n",
       "    }\n",
       "\n",
       "    .dataframe thead th {\n",
       "        text-align: right;\n",
       "    }\n",
       "</style>\n",
       "<table border=\"1\" class=\"dataframe\">\n",
       "  <thead>\n",
       "    <tr style=\"text-align: right;\">\n",
       "      <th></th>\n",
       "      <th>Id</th>\n",
       "      <th>Title</th>\n",
       "      <th>Price</th>\n",
       "      <th>User_id</th>\n",
       "      <th>profileName</th>\n",
       "      <th>review/helpfulness</th>\n",
       "      <th>review/score</th>\n",
       "      <th>review/time</th>\n",
       "      <th>review/summary</th>\n",
       "      <th>review/text</th>\n",
       "    </tr>\n",
       "  </thead>\n",
       "  <tbody>\n",
       "    <tr>\n",
       "      <th>2590982</th>\n",
       "      <td>B0000640E8</td>\n",
       "      <td>The Buffalo Soldier</td>\n",
       "      <td>NaN</td>\n",
       "      <td>A1YC6AYVXK7NRQ</td>\n",
       "      <td>DesDaz \"torr0015\"</td>\n",
       "      <td>0/0</td>\n",
       "      <td>5.0</td>\n",
       "      <td>1291852800</td>\n",
       "      <td>A wonderful story</td>\n",
       "      <td>I really, really enjoyed this book. I found th...</td>\n",
       "    </tr>\n",
       "  </tbody>\n",
       "</table>\n",
       "</div>"
      ],
      "text/plain": [
       "                 Id                Title  Price         User_id  \\\n",
       "2590982  B0000640E8  The Buffalo Soldier    NaN  A1YC6AYVXK7NRQ   \n",
       "\n",
       "               profileName review/helpfulness  review/score  review/time  \\\n",
       "2590982  DesDaz \"torr0015\"                0/0           5.0   1291852800   \n",
       "\n",
       "            review/summary                                        review/text  \n",
       "2590982  A wonderful story  I really, really enjoyed this book. I found th...  "
      ]
     },
     "execution_count": 17,
     "metadata": {},
     "output_type": "execute_result"
    }
   ],
   "source": [
    "ratings.sample(1)"
   ]
  },
  {
   "attachments": {},
   "cell_type": "markdown",
   "id": "50c6cd72",
   "metadata": {},
   "source": [
    "##### A. New column: Review_Counts"
   ]
  },
  {
   "cell_type": "code",
   "execution_count": 18,
   "id": "80bd06aa",
   "metadata": {},
   "outputs": [
    {
     "data": {
      "text/plain": [
       "Title\n",
       "The Hobbit             17854\n",
       "Pride and Prejudice    17739\n",
       "Atlas Shrugged         10741\n",
       "Wuthering Heights       8570\n",
       "Great Expectations      5648\n",
       "Name: count, dtype: int64"
      ]
     },
     "execution_count": 18,
     "metadata": {},
     "output_type": "execute_result"
    }
   ],
   "source": [
    "# Create a new variable with the number records per each title\n",
    "title_counts = ratings['Title'].value_counts()\n",
    "title_counts.head(5)"
   ]
  },
  {
   "attachments": {},
   "cell_type": "markdown",
   "id": "b6c68f50",
   "metadata": {},
   "source": [
    "The number of records per title is equal to the number of reviews per title, \n",
    "Therefore we can create a new column to the ratings data frame with the number of reviews per title `Review_Counts`"
   ]
  },
  {
   "cell_type": "code",
   "execution_count": 19,
   "id": "5550c608",
   "metadata": {},
   "outputs": [
    {
     "data": {
      "text/html": [
       "<div>\n",
       "<style scoped>\n",
       "    .dataframe tbody tr th:only-of-type {\n",
       "        vertical-align: middle;\n",
       "    }\n",
       "\n",
       "    .dataframe tbody tr th {\n",
       "        vertical-align: top;\n",
       "    }\n",
       "\n",
       "    .dataframe thead th {\n",
       "        text-align: right;\n",
       "    }\n",
       "</style>\n",
       "<table border=\"1\" class=\"dataframe\">\n",
       "  <thead>\n",
       "    <tr style=\"text-align: right;\">\n",
       "      <th></th>\n",
       "      <th>Id</th>\n",
       "      <th>Title</th>\n",
       "      <th>Price</th>\n",
       "      <th>User_id</th>\n",
       "      <th>profileName</th>\n",
       "      <th>review/helpfulness</th>\n",
       "      <th>review/score</th>\n",
       "      <th>review/time</th>\n",
       "      <th>review/summary</th>\n",
       "      <th>review/text</th>\n",
       "      <th>Review_Counts</th>\n",
       "    </tr>\n",
       "  </thead>\n",
       "  <tbody>\n",
       "    <tr>\n",
       "      <th>748494</th>\n",
       "      <td>1560975393</td>\n",
       "      <td>Palomar: The Heartbreak Soup Stories (Love and...</td>\n",
       "      <td>NaN</td>\n",
       "      <td>A3GJGBF7FO8WDJ</td>\n",
       "      <td>Tom Knapp \"Rambles.NET editor\"</td>\n",
       "      <td>11/11</td>\n",
       "      <td>5.0</td>\n",
       "      <td>1075248000</td>\n",
       "      <td>A living, breathing town...</td>\n",
       "      <td>Palomar is just shy of being an offbeat spot o...</td>\n",
       "      <td>14</td>\n",
       "    </tr>\n",
       "    <tr>\n",
       "      <th>2057522</th>\n",
       "      <td>0321334876</td>\n",
       "      <td>Effective C++: 55 Specific Ways to Improve You...</td>\n",
       "      <td>NaN</td>\n",
       "      <td>A39C15CHMOE37U</td>\n",
       "      <td>Lykos \"Lykos\"</td>\n",
       "      <td>1/1</td>\n",
       "      <td>5.0</td>\n",
       "      <td>1228348800</td>\n",
       "      <td>Yet Another Must Own C++ Title!</td>\n",
       "      <td>This Book should be on every C++ programmers s...</td>\n",
       "      <td>67</td>\n",
       "    </tr>\n",
       "    <tr>\n",
       "      <th>604822</th>\n",
       "      <td>B000KAIZX4</td>\n",
       "      <td>Lion, the Witch, and the Wardrobe</td>\n",
       "      <td>NaN</td>\n",
       "      <td>A7FJVRLMG5BF9</td>\n",
       "      <td>Michael JR Jose</td>\n",
       "      <td>2/2</td>\n",
       "      <td>5.0</td>\n",
       "      <td>1154908800</td>\n",
       "      <td>THE WORLD OF NARNIA, SO LIKE HOME</td>\n",
       "      <td>Set early in World War II, four children are e...</td>\n",
       "      <td>352</td>\n",
       "    </tr>\n",
       "  </tbody>\n",
       "</table>\n",
       "</div>"
      ],
      "text/plain": [
       "                 Id                                              Title  Price  \\\n",
       "748494   1560975393  Palomar: The Heartbreak Soup Stories (Love and...    NaN   \n",
       "2057522  0321334876  Effective C++: 55 Specific Ways to Improve You...    NaN   \n",
       "604822   B000KAIZX4                  Lion, the Witch, and the Wardrobe    NaN   \n",
       "\n",
       "                User_id                     profileName review/helpfulness  \\\n",
       "748494   A3GJGBF7FO8WDJ  Tom Knapp \"Rambles.NET editor\"              11/11   \n",
       "2057522  A39C15CHMOE37U                   Lykos \"Lykos\"                1/1   \n",
       "604822    A7FJVRLMG5BF9                 Michael JR Jose                2/2   \n",
       "\n",
       "         review/score  review/time                     review/summary  \\\n",
       "748494            5.0   1075248000        A living, breathing town...   \n",
       "2057522           5.0   1228348800    Yet Another Must Own C++ Title!   \n",
       "604822            5.0   1154908800  THE WORLD OF NARNIA, SO LIKE HOME   \n",
       "\n",
       "                                               review/text  Review_Counts  \n",
       "748494   Palomar is just shy of being an offbeat spot o...             14  \n",
       "2057522  This Book should be on every C++ programmers s...             67  \n",
       "604822   Set early in World War II, four children are e...            352  "
      ]
     },
     "execution_count": 19,
     "metadata": {},
     "output_type": "execute_result"
    }
   ],
   "source": [
    "ratings[\"Review_Counts\"] = ratings[\"Title\"].map(title_counts)\n",
    "ratings.sample(3)"
   ]
  },
  {
   "cell_type": "code",
   "execution_count": 20,
   "id": "ab0dd91b",
   "metadata": {},
   "outputs": [
    {
     "data": {
      "text/html": [
       "<div>\n",
       "<style scoped>\n",
       "    .dataframe tbody tr th:only-of-type {\n",
       "        vertical-align: middle;\n",
       "    }\n",
       "\n",
       "    .dataframe tbody tr th {\n",
       "        vertical-align: top;\n",
       "    }\n",
       "\n",
       "    .dataframe thead th {\n",
       "        text-align: right;\n",
       "    }\n",
       "</style>\n",
       "<table border=\"1\" class=\"dataframe\">\n",
       "  <thead>\n",
       "    <tr style=\"text-align: right;\">\n",
       "      <th></th>\n",
       "      <th>Id</th>\n",
       "      <th>Title</th>\n",
       "      <th>Price</th>\n",
       "      <th>User_id</th>\n",
       "      <th>profileName</th>\n",
       "      <th>review/helpfulness</th>\n",
       "      <th>review/score</th>\n",
       "      <th>review/time</th>\n",
       "      <th>review/summary</th>\n",
       "      <th>review/text</th>\n",
       "      <th>Review_Counts</th>\n",
       "    </tr>\n",
       "  </thead>\n",
       "  <tbody>\n",
       "    <tr>\n",
       "      <th>2363198</th>\n",
       "      <td>B000NBH78O</td>\n",
       "      <td>French Hand Sewing, Vol. 1</td>\n",
       "      <td>NaN</td>\n",
       "      <td>A1PHDSHG09FQYT</td>\n",
       "      <td>Virginia Popper</td>\n",
       "      <td>2/3</td>\n",
       "      <td>5.0</td>\n",
       "      <td>1187136000</td>\n",
       "      <td>Essential Reference</td>\n",
       "      <td>I am glad that out-of-print books are so readi...</td>\n",
       "      <td>4</td>\n",
       "    </tr>\n",
       "    <tr>\n",
       "      <th>2363199</th>\n",
       "      <td>B000NBH78O</td>\n",
       "      <td>French Hand Sewing, Vol. 1</td>\n",
       "      <td>NaN</td>\n",
       "      <td>A3TVB34TUT4DOF</td>\n",
       "      <td>T.Lizzee</td>\n",
       "      <td>0/0</td>\n",
       "      <td>5.0</td>\n",
       "      <td>1355875200</td>\n",
       "      <td>By the master of French hand sewing</td>\n",
       "      <td>Beautiful book, the only one I have found with...</td>\n",
       "      <td>4</td>\n",
       "    </tr>\n",
       "    <tr>\n",
       "      <th>2363200</th>\n",
       "      <td>B000NBH78O</td>\n",
       "      <td>French Hand Sewing, Vol. 1</td>\n",
       "      <td>NaN</td>\n",
       "      <td>A6RDL9WUMSGWA</td>\n",
       "      <td>S. Roncevaux</td>\n",
       "      <td>0/0</td>\n",
       "      <td>5.0</td>\n",
       "      <td>1289433600</td>\n",
       "      <td>A Great Book!</td>\n",
       "      <td>I haven't put the instructions to actual pract...</td>\n",
       "      <td>4</td>\n",
       "    </tr>\n",
       "    <tr>\n",
       "      <th>2363201</th>\n",
       "      <td>B000NBH78O</td>\n",
       "      <td>French Hand Sewing, Vol. 1</td>\n",
       "      <td>NaN</td>\n",
       "      <td>A29HWEN7ZBFENT</td>\n",
       "      <td>wild child's mom</td>\n",
       "      <td>0/0</td>\n",
       "      <td>5.0</td>\n",
       "      <td>1252713600</td>\n",
       "      <td>Fabulous!</td>\n",
       "      <td>This invaluable book covers all aspects of bea...</td>\n",
       "      <td>4</td>\n",
       "    </tr>\n",
       "  </tbody>\n",
       "</table>\n",
       "</div>"
      ],
      "text/plain": [
       "                 Id                       Title  Price         User_id  \\\n",
       "2363198  B000NBH78O  French Hand Sewing, Vol. 1    NaN  A1PHDSHG09FQYT   \n",
       "2363199  B000NBH78O  French Hand Sewing, Vol. 1    NaN  A3TVB34TUT4DOF   \n",
       "2363200  B000NBH78O  French Hand Sewing, Vol. 1    NaN   A6RDL9WUMSGWA   \n",
       "2363201  B000NBH78O  French Hand Sewing, Vol. 1    NaN  A29HWEN7ZBFENT   \n",
       "\n",
       "              profileName review/helpfulness  review/score  review/time  \\\n",
       "2363198   Virginia Popper                2/3           5.0   1187136000   \n",
       "2363199          T.Lizzee                0/0           5.0   1355875200   \n",
       "2363200      S. Roncevaux                0/0           5.0   1289433600   \n",
       "2363201  wild child's mom                0/0           5.0   1252713600   \n",
       "\n",
       "                              review/summary  \\\n",
       "2363198                  Essential Reference   \n",
       "2363199  By the master of French hand sewing   \n",
       "2363200                        A Great Book!   \n",
       "2363201                            Fabulous!   \n",
       "\n",
       "                                               review/text  Review_Counts  \n",
       "2363198  I am glad that out-of-print books are so readi...              4  \n",
       "2363199  Beautiful book, the only one I have found with...              4  \n",
       "2363200  I haven't put the instructions to actual pract...              4  \n",
       "2363201  This invaluable book covers all aspects of bea...              4  "
      ]
     },
     "execution_count": 20,
     "metadata": {},
     "output_type": "execute_result"
    }
   ],
   "source": [
    "# Checking the new column Review_Counts\n",
    "# Searching the review Id=B000NBH78O to verify the Review_Counts column\n",
    "ratings[ratings[\"Id\"] == \"B000NBH78O\"]"
   ]
  },
  {
   "attachments": {},
   "cell_type": "markdown",
   "id": "cea985bf",
   "metadata": {},
   "source": [
    "- #### B. Selecting Columns for the desired data frame\n",
    "    - `Price`: Will not be consider for the analysis due to having 2023443 NaN vaules which is around 82% of the records. \n",
    "    - `profileName`: Will not be consider for the analysis since we would use `User_id` as the identifier.\n",
    "    - `review/time`, `review/helpfulness` : Will not be consider for the analysis."
   ]
  },
  {
   "cell_type": "code",
   "execution_count": 21,
   "id": "0f22079e",
   "metadata": {},
   "outputs": [
    {
     "data": {
      "text/html": [
       "<div>\n",
       "<style scoped>\n",
       "    .dataframe tbody tr th:only-of-type {\n",
       "        vertical-align: middle;\n",
       "    }\n",
       "\n",
       "    .dataframe tbody tr th {\n",
       "        vertical-align: top;\n",
       "    }\n",
       "\n",
       "    .dataframe thead th {\n",
       "        text-align: right;\n",
       "    }\n",
       "</style>\n",
       "<table border=\"1\" class=\"dataframe\">\n",
       "  <thead>\n",
       "    <tr style=\"text-align: right;\">\n",
       "      <th></th>\n",
       "      <th>RatingID</th>\n",
       "      <th>BookTitle</th>\n",
       "      <th>UserID</th>\n",
       "      <th>Review_Score</th>\n",
       "      <th>Review_Summary</th>\n",
       "      <th>Review_Text</th>\n",
       "      <th>Review_Counts</th>\n",
       "    </tr>\n",
       "  </thead>\n",
       "  <tbody>\n",
       "    <tr>\n",
       "      <th>1193310</th>\n",
       "      <td>B000CEXDTO</td>\n",
       "      <td>Midnight in the Garden of Good and Evil</td>\n",
       "      <td>AQIG9HZFIDDRV</td>\n",
       "      <td>4.0</td>\n",
       "      <td>Makes me want to go to Savannah</td>\n",
       "      <td>I enjoyed this book because it stands out from...</td>\n",
       "      <td>416</td>\n",
       "    </tr>\n",
       "    <tr>\n",
       "      <th>1513130</th>\n",
       "      <td>B0009RJTTC</td>\n",
       "      <td>The Girl in the Red Coat: A Memoir</td>\n",
       "      <td>A2UKKZEITHXC8K</td>\n",
       "      <td>1.0</td>\n",
       "      <td>A book of vanity</td>\n",
       "      <td>I have read hundreds of books about those who ...</td>\n",
       "      <td>14</td>\n",
       "    </tr>\n",
       "    <tr>\n",
       "      <th>355154</th>\n",
       "      <td>0967353602</td>\n",
       "      <td>Get All The Facts: HIV does not cause AIDS</td>\n",
       "      <td>A2VVPBN82YWC2</td>\n",
       "      <td>5.0</td>\n",
       "      <td>AIDS is rooted in poverty in Africa</td>\n",
       "      <td>I have read this book and I wish that I could ...</td>\n",
       "      <td>12</td>\n",
       "    </tr>\n",
       "  </tbody>\n",
       "</table>\n",
       "</div>"
      ],
      "text/plain": [
       "           RatingID                                   BookTitle  \\\n",
       "1193310  B000CEXDTO     Midnight in the Garden of Good and Evil   \n",
       "1513130  B0009RJTTC          The Girl in the Red Coat: A Memoir   \n",
       "355154   0967353602  Get All The Facts: HIV does not cause AIDS   \n",
       "\n",
       "                 UserID  Review_Score                       Review_Summary  \\\n",
       "1193310   AQIG9HZFIDDRV           4.0      Makes me want to go to Savannah   \n",
       "1513130  A2UKKZEITHXC8K           1.0                     A book of vanity   \n",
       "355154    A2VVPBN82YWC2           5.0  AIDS is rooted in poverty in Africa   \n",
       "\n",
       "                                               Review_Text  Review_Counts  \n",
       "1193310  I enjoyed this book because it stands out from...            416  \n",
       "1513130  I have read hundreds of books about those who ...             14  \n",
       "355154   I have read this book and I wish that I could ...             12  "
      ]
     },
     "execution_count": 21,
     "metadata": {},
     "output_type": "execute_result"
    }
   ],
   "source": [
    "rating_df = ratings[[\"Id\",\"Title\",\"User_id\",\"review/score\",\"review/summary\",\"review/text\",\"Review_Counts\"]]\n",
    "\n",
    "rating_df = rating_df.rename(columns={\n",
    "    \"Id\": \"RatingID\",\n",
    "    \"Title\": \"BookTitle\",\n",
    "    \"User_id\": \"UserID\",\n",
    "    \"review/score\": \"Review_Score\",\n",
    "    \"review/summary\": \"Review_Summary\",\n",
    "    \"review/text\": \"Review_Text\",\n",
    "    \"Review_Counts\": \"Review_Counts\"\n",
    "})\n",
    "\n",
    "rating_df.sample(3)"
   ]
  },
  {
   "cell_type": "code",
   "execution_count": 22,
   "id": "26c5eddb",
   "metadata": {
    "scrolled": true
   },
   "outputs": [
    {
     "data": {
      "text/plain": [
       "RatingID          0\n",
       "BookTitle         0\n",
       "UserID            0\n",
       "Review_Score      0\n",
       "Review_Summary    0\n",
       "Review_Text       0\n",
       "Review_Counts     0\n",
       "dtype: int64"
      ]
     },
     "execution_count": 22,
     "metadata": {},
     "output_type": "execute_result"
    }
   ],
   "source": [
    "rating_df.isna().sum()"
   ]
  },
  {
   "attachments": {},
   "cell_type": "markdown",
   "id": "22899e5f",
   "metadata": {},
   "source": [
    "### 2.2 `books` data exploration <a class=\"anchor\" id=\"_2.2\"></a>"
   ]
  },
  {
   "cell_type": "code",
   "execution_count": 23,
   "id": "3c436d31",
   "metadata": {
    "scrolled": false
   },
   "outputs": [
    {
     "data": {
      "text/html": [
       "<div>\n",
       "<style scoped>\n",
       "    .dataframe tbody tr th:only-of-type {\n",
       "        vertical-align: middle;\n",
       "    }\n",
       "\n",
       "    .dataframe tbody tr th {\n",
       "        vertical-align: top;\n",
       "    }\n",
       "\n",
       "    .dataframe thead th {\n",
       "        text-align: right;\n",
       "    }\n",
       "</style>\n",
       "<table border=\"1\" class=\"dataframe\">\n",
       "  <thead>\n",
       "    <tr style=\"text-align: right;\">\n",
       "      <th></th>\n",
       "      <th>Title</th>\n",
       "      <th>description</th>\n",
       "      <th>authors</th>\n",
       "      <th>image</th>\n",
       "      <th>previewLink</th>\n",
       "      <th>publisher</th>\n",
       "      <th>publishedDate</th>\n",
       "      <th>infoLink</th>\n",
       "      <th>categories</th>\n",
       "      <th>ratingsCount</th>\n",
       "    </tr>\n",
       "  </thead>\n",
       "  <tbody>\n",
       "    <tr>\n",
       "      <th>149784</th>\n",
       "      <td>What Matters Most: The Power of Living Your Va...</td>\n",
       "      <td>The author explores existential angst, dissati...</td>\n",
       "      <td>['Hyrum W. Smith']</td>\n",
       "      <td>http://books.google.com/books/content?id=NJNWe...</td>\n",
       "      <td>http://books.google.com/books?id=NJNWetlo-okC&amp;...</td>\n",
       "      <td>Simon and Schuster</td>\n",
       "      <td>2001-10-09</td>\n",
       "      <td>http://books.google.com/books?id=NJNWetlo-okC&amp;...</td>\n",
       "      <td>['Business &amp; Economics']</td>\n",
       "      <td>1.0</td>\n",
       "    </tr>\n",
       "  </tbody>\n",
       "</table>\n",
       "</div>"
      ],
      "text/plain": [
       "                                                    Title  \\\n",
       "149784  What Matters Most: The Power of Living Your Va...   \n",
       "\n",
       "                                              description             authors  \\\n",
       "149784  The author explores existential angst, dissati...  ['Hyrum W. Smith']   \n",
       "\n",
       "                                                    image  \\\n",
       "149784  http://books.google.com/books/content?id=NJNWe...   \n",
       "\n",
       "                                              previewLink           publisher  \\\n",
       "149784  http://books.google.com/books?id=NJNWetlo-okC&...  Simon and Schuster   \n",
       "\n",
       "       publishedDate                                           infoLink  \\\n",
       "149784    2001-10-09  http://books.google.com/books?id=NJNWetlo-okC&...   \n",
       "\n",
       "                      categories  ratingsCount  \n",
       "149784  ['Business & Economics']           1.0  "
      ]
     },
     "execution_count": 23,
     "metadata": {},
     "output_type": "execute_result"
    }
   ],
   "source": [
    "books.sample(1)"
   ]
  },
  {
   "cell_type": "code",
   "execution_count": 24,
   "id": "d7f63f65",
   "metadata": {},
   "outputs": [
    {
     "name": "stdout",
     "output_type": "stream",
     "text": [
      "<class 'pandas.core.frame.DataFrame'>\n",
      "RangeIndex: 212404 entries, 0 to 212403\n",
      "Data columns (total 10 columns):\n",
      " #   Column         Non-Null Count   Dtype  \n",
      "---  ------         --------------   -----  \n",
      " 0   Title          212403 non-null  object \n",
      " 1   description    143962 non-null  object \n",
      " 2   authors        180991 non-null  object \n",
      " 3   image          160329 non-null  object \n",
      " 4   previewLink    188568 non-null  object \n",
      " 5   publisher      136518 non-null  object \n",
      " 6   publishedDate  187099 non-null  object \n",
      " 7   infoLink       188568 non-null  object \n",
      " 8   categories     171205 non-null  object \n",
      " 9   ratingsCount   49752 non-null   float64\n",
      "dtypes: float64(1), object(9)\n",
      "memory usage: 16.2+ MB\n"
     ]
    }
   ],
   "source": [
    "books.info()"
   ]
  },
  {
   "cell_type": "code",
   "execution_count": 25,
   "id": "7884fd1f",
   "metadata": {},
   "outputs": [
    {
     "name": "stdout",
     "output_type": "stream",
     "text": [
      "Total rows: 212404\n",
      "Total columns: 10\n",
      "Null values: 504645\n"
     ]
    }
   ],
   "source": [
    "# books shape\n",
    "print(f\"Total rows: {books.shape[0]}\")\n",
    "print(f\"Total columns: {books.shape[1]}\")\n",
    "print(f\"Null values: {books.isna().sum().sum()}\")"
   ]
  },
  {
   "cell_type": "code",
   "execution_count": 26,
   "id": "8ec9a737",
   "metadata": {},
   "outputs": [
    {
     "data": {
      "text/plain": [
       "Title                 1\n",
       "description       68442\n",
       "authors           31413\n",
       "image             52075\n",
       "previewLink       23836\n",
       "publisher         75886\n",
       "publishedDate     25305\n",
       "infoLink          23836\n",
       "categories        41199\n",
       "ratingsCount     162652\n",
       "dtype: int64"
      ]
     },
     "execution_count": 26,
     "metadata": {},
     "output_type": "execute_result"
    }
   ],
   "source": [
    "books.isna().sum()"
   ]
  },
  {
   "attachments": {},
   "cell_type": "markdown",
   "id": "d50ad041",
   "metadata": {},
   "source": [
    "#### 2.2.1 Cleaning `books` data frame: <a class=\"anchor\" id=\"_2.2.1\"></a>"
   ]
  },
  {
   "attachments": {},
   "cell_type": "markdown",
   "id": "ba56e0e6",
   "metadata": {},
   "source": [
    "##### A. Duplicate rows"
   ]
  },
  {
   "cell_type": "code",
   "execution_count": 27,
   "id": "35a92720",
   "metadata": {},
   "outputs": [
    {
     "data": {
      "text/plain": [
       "0"
      ]
     },
     "execution_count": 27,
     "metadata": {},
     "output_type": "execute_result"
    }
   ],
   "source": [
    "# Calculate the number of duplicated rows\n",
    "books.duplicated().sum()"
   ]
  },
  {
   "attachments": {},
   "cell_type": "markdown",
   "id": "09b7bdc9",
   "metadata": {},
   "source": [
    "##### B. Droping columns that are not needed for the analysis\n",
    "- The columns: `image`, `previewLink`, `infoLink `, will not be used in the analysis\n",
    "\n"
   ]
  },
  {
   "cell_type": "code",
   "execution_count": 28,
   "id": "304fb1f5",
   "metadata": {},
   "outputs": [],
   "source": [
    "books = books.drop([\"image\",\"previewLink\",\"infoLink\"],axis=1)"
   ]
  },
  {
   "attachments": {},
   "cell_type": "markdown",
   "id": "767aea5b",
   "metadata": {},
   "source": [
    "##### C. Droping NaN Values"
   ]
  },
  {
   "cell_type": "code",
   "execution_count": 29,
   "id": "a973aa67",
   "metadata": {},
   "outputs": [
    {
     "data": {
      "text/plain": [
       "Title                 1\n",
       "description       68442\n",
       "authors           31413\n",
       "publisher         75886\n",
       "publishedDate     25305\n",
       "categories        41199\n",
       "ratingsCount     162652\n",
       "dtype: int64"
      ]
     },
     "execution_count": 29,
     "metadata": {},
     "output_type": "execute_result"
    }
   ],
   "source": [
    "books.isna().sum()"
   ]
  },
  {
   "cell_type": "code",
   "execution_count": 30,
   "id": "07776983",
   "metadata": {},
   "outputs": [
    {
     "data": {
      "text/plain": [
       "Title             0.000471\n",
       "description      32.222557\n",
       "authors          14.789270\n",
       "publisher        35.727199\n",
       "publishedDate    11.913617\n",
       "categories       19.396527\n",
       "ratingsCount     76.576712\n",
       "dtype: float64"
      ]
     },
     "execution_count": 30,
     "metadata": {},
     "output_type": "execute_result"
    }
   ],
   "source": [
    "# calculate the percentage of nan values in each column\n",
    "nan_percent = books.isna().sum() / len(books) * 100\n",
    "nan_percent"
   ]
  },
  {
   "attachments": {},
   "cell_type": "markdown",
   "id": "e5a4d549",
   "metadata": {},
   "source": [
    "- Since the `ratingsCount` column has 76% of NaN values, the column will be droped, and this feature will be calculated using the ratings dataframe\n",
    "- Since the `publisher` column has over 35% of their values NaN, this column will be droped\n",
    "- Since the `Title` column has only 1 NaN value, this one will be droped\n",
    "- Since the `description` column has over 32% of NaN values, this records will be droped\n",
    "\n"
   ]
  },
  {
   "cell_type": "code",
   "execution_count": 31,
   "id": "47ca45b6",
   "metadata": {},
   "outputs": [],
   "source": [
    "# Drop ratingsCount and publisher columns\n",
    "books = books.drop([\"ratingsCount\",\"publisher\"],axis=1)"
   ]
  },
  {
   "cell_type": "code",
   "execution_count": 32,
   "id": "8b87829f",
   "metadata": {},
   "outputs": [],
   "source": [
    "# drop the Title nan values\n",
    "books.dropna(subset=[\"Title\"],inplace = True)\n",
    "\n",
    "# drop the description nan values\n",
    "books.dropna(subset=[\"description\"],inplace = True)"
   ]
  },
  {
   "cell_type": "code",
   "execution_count": 33,
   "id": "fff6c213",
   "metadata": {},
   "outputs": [
    {
     "data": {
      "text/plain": [
       "(143962, 5)"
      ]
     },
     "execution_count": 33,
     "metadata": {},
     "output_type": "execute_result"
    }
   ],
   "source": [
    "books.shape"
   ]
  },
  {
   "cell_type": "code",
   "execution_count": 34,
   "id": "5b63e3c8",
   "metadata": {},
   "outputs": [
    {
     "data": {
      "text/plain": [
       "Title            0.000000\n",
       "description      0.000000\n",
       "authors          1.533043\n",
       "publishedDate    0.288965\n",
       "categories       4.219169\n",
       "dtype: float64"
      ]
     },
     "execution_count": 34,
     "metadata": {},
     "output_type": "execute_result"
    }
   ],
   "source": [
    "# Checking the nan values in the books data frame\n",
    "nan_percent = books.isna().sum() / len(books) * 100\n",
    "nan_percent"
   ]
  },
  {
   "cell_type": "code",
   "execution_count": 35,
   "id": "294c42dc",
   "metadata": {},
   "outputs": [],
   "source": [
    "# Dropping the remaining nan values as they are less than 5% of the data frame\n",
    "\n",
    "# drop the nan values from the authors column\n",
    "books.dropna(subset=[\"authors\"],inplace = True)\n",
    "\n",
    "# drop the nan values from the categories column\n",
    "books.dropna(subset=[\"categories\"],inplace = True)\n",
    "\n",
    "# drop the nan values from the publishedDate column\n",
    "books.dropna(subset=[\"publishedDate\"],inplace = True)"
   ]
  },
  {
   "attachments": {},
   "cell_type": "markdown",
   "id": "19255371",
   "metadata": {},
   "source": [
    "##### D. Cleaning the Title column"
   ]
  },
  {
   "cell_type": "code",
   "execution_count": 36,
   "id": "2d93c952",
   "metadata": {},
   "outputs": [],
   "source": [
    "# cleaning the Title column\n",
    "\n",
    "# remove the extra spaces\n",
    "books[\"Title\"] = books[\"Title\"].str.strip()\n",
    "\n",
    "# remove the punctuation from the Title column\n",
    "books['Title'] = books['Title'].str.replace('[^\\w\\s]','')"
   ]
  },
  {
   "attachments": {},
   "cell_type": "markdown",
   "id": "f2d0e667",
   "metadata": {},
   "source": [
    "##### E. Cleaning the categories column"
   ]
  },
  {
   "cell_type": "code",
   "execution_count": 37,
   "id": "8b0156ba",
   "metadata": {},
   "outputs": [],
   "source": [
    "# Define a function to remove the square brackets \n",
    "def remove_square_brackets(text):\n",
    "\n",
    "    cleaned_text = re.sub(r\"^\\['|\\']$\", '', text)\n",
    "    return cleaned_text"
   ]
  },
  {
   "cell_type": "code",
   "execution_count": 38,
   "id": "294190bb",
   "metadata": {},
   "outputs": [
    {
     "data": {
      "text/html": [
       "<div>\n",
       "<style scoped>\n",
       "    .dataframe tbody tr th:only-of-type {\n",
       "        vertical-align: middle;\n",
       "    }\n",
       "\n",
       "    .dataframe tbody tr th {\n",
       "        vertical-align: top;\n",
       "    }\n",
       "\n",
       "    .dataframe thead th {\n",
       "        text-align: right;\n",
       "    }\n",
       "</style>\n",
       "<table border=\"1\" class=\"dataframe\">\n",
       "  <thead>\n",
       "    <tr style=\"text-align: right;\">\n",
       "      <th></th>\n",
       "      <th>Title</th>\n",
       "      <th>description</th>\n",
       "      <th>authors</th>\n",
       "      <th>publishedDate</th>\n",
       "      <th>categories</th>\n",
       "    </tr>\n",
       "  </thead>\n",
       "  <tbody>\n",
       "    <tr>\n",
       "      <th>1</th>\n",
       "      <td>Dr. Seuss: American Icon</td>\n",
       "      <td>Philip Nel takes a fascinating look into the k...</td>\n",
       "      <td>['Philip Nel']</td>\n",
       "      <td>2005-01-01</td>\n",
       "      <td>Biography &amp; Autobiography</td>\n",
       "    </tr>\n",
       "    <tr>\n",
       "      <th>2</th>\n",
       "      <td>Wonderful Worship in Smaller Churches</td>\n",
       "      <td>This resource includes twelve principles in un...</td>\n",
       "      <td>['David R. Ray']</td>\n",
       "      <td>2000</td>\n",
       "      <td>Religion</td>\n",
       "    </tr>\n",
       "    <tr>\n",
       "      <th>3</th>\n",
       "      <td>Whispers of the Wicked Saints</td>\n",
       "      <td>Julia Thomas finds her life spinning out of co...</td>\n",
       "      <td>['Veronica Haddon']</td>\n",
       "      <td>2005-02</td>\n",
       "      <td>Fiction</td>\n",
       "    </tr>\n",
       "    <tr>\n",
       "      <th>5</th>\n",
       "      <td>The Church of Christ: A Biblical Ecclesiology ...</td>\n",
       "      <td>In The Church of Christ: A Biblical Ecclesiolo...</td>\n",
       "      <td>['Everett Ferguson']</td>\n",
       "      <td>1996</td>\n",
       "      <td>Religion</td>\n",
       "    </tr>\n",
       "    <tr>\n",
       "      <th>8</th>\n",
       "      <td>Saint Hyacinth of Poland</td>\n",
       "      <td>The story for children 10 and up of St. Hyacin...</td>\n",
       "      <td>['Mary Fabyan Windeatt']</td>\n",
       "      <td>2009-01-01</td>\n",
       "      <td>Biography &amp; Autobiography</td>\n",
       "    </tr>\n",
       "  </tbody>\n",
       "</table>\n",
       "</div>"
      ],
      "text/plain": [
       "                                               Title  \\\n",
       "1                           Dr. Seuss: American Icon   \n",
       "2              Wonderful Worship in Smaller Churches   \n",
       "3                      Whispers of the Wicked Saints   \n",
       "5  The Church of Christ: A Biblical Ecclesiology ...   \n",
       "8                           Saint Hyacinth of Poland   \n",
       "\n",
       "                                         description  \\\n",
       "1  Philip Nel takes a fascinating look into the k...   \n",
       "2  This resource includes twelve principles in un...   \n",
       "3  Julia Thomas finds her life spinning out of co...   \n",
       "5  In The Church of Christ: A Biblical Ecclesiolo...   \n",
       "8  The story for children 10 and up of St. Hyacin...   \n",
       "\n",
       "                    authors publishedDate                 categories  \n",
       "1            ['Philip Nel']    2005-01-01  Biography & Autobiography  \n",
       "2          ['David R. Ray']          2000                   Religion  \n",
       "3       ['Veronica Haddon']       2005-02                    Fiction  \n",
       "5      ['Everett Ferguson']          1996                   Religion  \n",
       "8  ['Mary Fabyan Windeatt']    2009-01-01  Biography & Autobiography  "
      ]
     },
     "execution_count": 38,
     "metadata": {},
     "output_type": "execute_result"
    }
   ],
   "source": [
    "# Apply the function to the \"categories\" column\n",
    "books[\"categories\"] = books[\"categories\"].apply(remove_square_brackets)\n",
    "books.head(5)"
   ]
  },
  {
   "attachments": {},
   "cell_type": "markdown",
   "id": "7a6ac676",
   "metadata": {},
   "source": [
    "##### F. Cleaning the authors column"
   ]
  },
  {
   "cell_type": "code",
   "execution_count": 39,
   "id": "ce26fbb4",
   "metadata": {},
   "outputs": [
    {
     "data": {
      "text/html": [
       "<div>\n",
       "<style scoped>\n",
       "    .dataframe tbody tr th:only-of-type {\n",
       "        vertical-align: middle;\n",
       "    }\n",
       "\n",
       "    .dataframe tbody tr th {\n",
       "        vertical-align: top;\n",
       "    }\n",
       "\n",
       "    .dataframe thead th {\n",
       "        text-align: right;\n",
       "    }\n",
       "</style>\n",
       "<table border=\"1\" class=\"dataframe\">\n",
       "  <thead>\n",
       "    <tr style=\"text-align: right;\">\n",
       "      <th></th>\n",
       "      <th>Title</th>\n",
       "      <th>description</th>\n",
       "      <th>authors</th>\n",
       "      <th>publishedDate</th>\n",
       "      <th>categories</th>\n",
       "    </tr>\n",
       "  </thead>\n",
       "  <tbody>\n",
       "    <tr>\n",
       "      <th>1</th>\n",
       "      <td>Dr. Seuss: American Icon</td>\n",
       "      <td>Philip Nel takes a fascinating look into the k...</td>\n",
       "      <td>Philip Nel</td>\n",
       "      <td>2005-01-01</td>\n",
       "      <td>Biography &amp; Autobiography</td>\n",
       "    </tr>\n",
       "    <tr>\n",
       "      <th>2</th>\n",
       "      <td>Wonderful Worship in Smaller Churches</td>\n",
       "      <td>This resource includes twelve principles in un...</td>\n",
       "      <td>David R. Ray</td>\n",
       "      <td>2000</td>\n",
       "      <td>Religion</td>\n",
       "    </tr>\n",
       "    <tr>\n",
       "      <th>3</th>\n",
       "      <td>Whispers of the Wicked Saints</td>\n",
       "      <td>Julia Thomas finds her life spinning out of co...</td>\n",
       "      <td>Veronica Haddon</td>\n",
       "      <td>2005-02</td>\n",
       "      <td>Fiction</td>\n",
       "    </tr>\n",
       "    <tr>\n",
       "      <th>5</th>\n",
       "      <td>The Church of Christ: A Biblical Ecclesiology ...</td>\n",
       "      <td>In The Church of Christ: A Biblical Ecclesiolo...</td>\n",
       "      <td>Everett Ferguson</td>\n",
       "      <td>1996</td>\n",
       "      <td>Religion</td>\n",
       "    </tr>\n",
       "    <tr>\n",
       "      <th>8</th>\n",
       "      <td>Saint Hyacinth of Poland</td>\n",
       "      <td>The story for children 10 and up of St. Hyacin...</td>\n",
       "      <td>Mary Fabyan Windeatt</td>\n",
       "      <td>2009-01-01</td>\n",
       "      <td>Biography &amp; Autobiography</td>\n",
       "    </tr>\n",
       "    <tr>\n",
       "      <th>9</th>\n",
       "      <td>Rising Sons and Daughters: Life Among Japan's ...</td>\n",
       "      <td>Wardell recalls his experience as a foreign st...</td>\n",
       "      <td>Steven Wardell</td>\n",
       "      <td>1995</td>\n",
       "      <td>Social Science</td>\n",
       "    </tr>\n",
       "    <tr>\n",
       "      <th>10</th>\n",
       "      <td>Muslim Women's Choices: Religious Belief and S...</td>\n",
       "      <td>Counters the Western views and stereotypes of ...</td>\n",
       "      <td>Camillia Fawzi El-Solh', 'Judy Mabro</td>\n",
       "      <td>1994-02-17</td>\n",
       "      <td>Religion</td>\n",
       "    </tr>\n",
       "    <tr>\n",
       "      <th>11</th>\n",
       "      <td>Dramatica for Screenwriters</td>\n",
       "      <td>Dramatica for Screenwriters by Armando Saldana...</td>\n",
       "      <td>Armando Salda A-Mora</td>\n",
       "      <td>2005-07</td>\n",
       "      <td>Reference</td>\n",
       "    </tr>\n",
       "    <tr>\n",
       "      <th>12</th>\n",
       "      <td>Mensa Number Puzzles (Mensa Word Games for Kids)</td>\n",
       "      <td>Acclaimed teacher and puzzler Evelyn B. Christ...</td>\n",
       "      <td>Evelyn B. Christensen</td>\n",
       "      <td>2018-11-06</td>\n",
       "      <td>Juvenile Nonfiction</td>\n",
       "    </tr>\n",
       "    <tr>\n",
       "      <th>13</th>\n",
       "      <td>Vector Quantization and Signal Compression (Th...</td>\n",
       "      <td>Herb Caen, a popular columnist for the San Fra...</td>\n",
       "      <td>Allen Gersho', 'Robert M. Gray</td>\n",
       "      <td>2012-12-06</td>\n",
       "      <td>Technology &amp; Engineering</td>\n",
       "    </tr>\n",
       "  </tbody>\n",
       "</table>\n",
       "</div>"
      ],
      "text/plain": [
       "                                                Title  \\\n",
       "1                            Dr. Seuss: American Icon   \n",
       "2               Wonderful Worship in Smaller Churches   \n",
       "3                       Whispers of the Wicked Saints   \n",
       "5   The Church of Christ: A Biblical Ecclesiology ...   \n",
       "8                            Saint Hyacinth of Poland   \n",
       "9   Rising Sons and Daughters: Life Among Japan's ...   \n",
       "10  Muslim Women's Choices: Religious Belief and S...   \n",
       "11                        Dramatica for Screenwriters   \n",
       "12   Mensa Number Puzzles (Mensa Word Games for Kids)   \n",
       "13  Vector Quantization and Signal Compression (Th...   \n",
       "\n",
       "                                          description  \\\n",
       "1   Philip Nel takes a fascinating look into the k...   \n",
       "2   This resource includes twelve principles in un...   \n",
       "3   Julia Thomas finds her life spinning out of co...   \n",
       "5   In The Church of Christ: A Biblical Ecclesiolo...   \n",
       "8   The story for children 10 and up of St. Hyacin...   \n",
       "9   Wardell recalls his experience as a foreign st...   \n",
       "10  Counters the Western views and stereotypes of ...   \n",
       "11  Dramatica for Screenwriters by Armando Saldana...   \n",
       "12  Acclaimed teacher and puzzler Evelyn B. Christ...   \n",
       "13  Herb Caen, a popular columnist for the San Fra...   \n",
       "\n",
       "                                 authors publishedDate  \\\n",
       "1                             Philip Nel    2005-01-01   \n",
       "2                           David R. Ray          2000   \n",
       "3                        Veronica Haddon       2005-02   \n",
       "5                       Everett Ferguson          1996   \n",
       "8                   Mary Fabyan Windeatt    2009-01-01   \n",
       "9                         Steven Wardell          1995   \n",
       "10  Camillia Fawzi El-Solh', 'Judy Mabro    1994-02-17   \n",
       "11                  Armando Salda A-Mora       2005-07   \n",
       "12                 Evelyn B. Christensen    2018-11-06   \n",
       "13        Allen Gersho', 'Robert M. Gray    2012-12-06   \n",
       "\n",
       "                   categories  \n",
       "1   Biography & Autobiography  \n",
       "2                    Religion  \n",
       "3                     Fiction  \n",
       "5                    Religion  \n",
       "8   Biography & Autobiography  \n",
       "9              Social Science  \n",
       "10                   Religion  \n",
       "11                  Reference  \n",
       "12        Juvenile Nonfiction  \n",
       "13   Technology & Engineering  "
      ]
     },
     "execution_count": 39,
     "metadata": {},
     "output_type": "execute_result"
    }
   ],
   "source": [
    "# Apply the function to the \"authors\" column\n",
    "books[\"authors\"] = books[\"authors\"].apply(remove_square_brackets)\n",
    "books.head(10)"
   ]
  },
  {
   "cell_type": "code",
   "execution_count": 40,
   "id": "9c2f3101",
   "metadata": {},
   "outputs": [
    {
     "data": {
      "text/html": [
       "<div>\n",
       "<style scoped>\n",
       "    .dataframe tbody tr th:only-of-type {\n",
       "        vertical-align: middle;\n",
       "    }\n",
       "\n",
       "    .dataframe tbody tr th {\n",
       "        vertical-align: top;\n",
       "    }\n",
       "\n",
       "    .dataframe thead th {\n",
       "        text-align: right;\n",
       "    }\n",
       "</style>\n",
       "<table border=\"1\" class=\"dataframe\">\n",
       "  <thead>\n",
       "    <tr style=\"text-align: right;\">\n",
       "      <th></th>\n",
       "      <th>Title</th>\n",
       "      <th>description</th>\n",
       "      <th>authors</th>\n",
       "      <th>publishedDate</th>\n",
       "      <th>categories</th>\n",
       "    </tr>\n",
       "  </thead>\n",
       "  <tbody>\n",
       "    <tr>\n",
       "      <th>1</th>\n",
       "      <td>Dr. Seuss: American Icon</td>\n",
       "      <td>Philip Nel takes a fascinating look into the k...</td>\n",
       "      <td>Philip Nel</td>\n",
       "      <td>2005-01-01</td>\n",
       "      <td>Biography &amp; Autobiography</td>\n",
       "    </tr>\n",
       "    <tr>\n",
       "      <th>2</th>\n",
       "      <td>Wonderful Worship in Smaller Churches</td>\n",
       "      <td>This resource includes twelve principles in un...</td>\n",
       "      <td>David R. Ray</td>\n",
       "      <td>2000</td>\n",
       "      <td>Religion</td>\n",
       "    </tr>\n",
       "    <tr>\n",
       "      <th>3</th>\n",
       "      <td>Whispers of the Wicked Saints</td>\n",
       "      <td>Julia Thomas finds her life spinning out of co...</td>\n",
       "      <td>Veronica Haddon</td>\n",
       "      <td>2005-02</td>\n",
       "      <td>Fiction</td>\n",
       "    </tr>\n",
       "    <tr>\n",
       "      <th>5</th>\n",
       "      <td>The Church of Christ: A Biblical Ecclesiology ...</td>\n",
       "      <td>In The Church of Christ: A Biblical Ecclesiolo...</td>\n",
       "      <td>Everett Ferguson</td>\n",
       "      <td>1996</td>\n",
       "      <td>Religion</td>\n",
       "    </tr>\n",
       "    <tr>\n",
       "      <th>8</th>\n",
       "      <td>Saint Hyacinth of Poland</td>\n",
       "      <td>The story for children 10 and up of St. Hyacin...</td>\n",
       "      <td>Mary Fabyan Windeatt</td>\n",
       "      <td>2009-01-01</td>\n",
       "      <td>Biography &amp; Autobiography</td>\n",
       "    </tr>\n",
       "    <tr>\n",
       "      <th>9</th>\n",
       "      <td>Rising Sons and Daughters: Life Among Japan's ...</td>\n",
       "      <td>Wardell recalls his experience as a foreign st...</td>\n",
       "      <td>Steven Wardell</td>\n",
       "      <td>1995</td>\n",
       "      <td>Social Science</td>\n",
       "    </tr>\n",
       "    <tr>\n",
       "      <th>10</th>\n",
       "      <td>Muslim Women's Choices: Religious Belief and S...</td>\n",
       "      <td>Counters the Western views and stereotypes of ...</td>\n",
       "      <td>Camillia Fawzi El-Solh, Judy Mabro</td>\n",
       "      <td>1994-02-17</td>\n",
       "      <td>Religion</td>\n",
       "    </tr>\n",
       "    <tr>\n",
       "      <th>11</th>\n",
       "      <td>Dramatica for Screenwriters</td>\n",
       "      <td>Dramatica for Screenwriters by Armando Saldana...</td>\n",
       "      <td>Armando Salda A-Mora</td>\n",
       "      <td>2005-07</td>\n",
       "      <td>Reference</td>\n",
       "    </tr>\n",
       "    <tr>\n",
       "      <th>12</th>\n",
       "      <td>Mensa Number Puzzles (Mensa Word Games for Kids)</td>\n",
       "      <td>Acclaimed teacher and puzzler Evelyn B. Christ...</td>\n",
       "      <td>Evelyn B. Christensen</td>\n",
       "      <td>2018-11-06</td>\n",
       "      <td>Juvenile Nonfiction</td>\n",
       "    </tr>\n",
       "    <tr>\n",
       "      <th>13</th>\n",
       "      <td>Vector Quantization and Signal Compression (Th...</td>\n",
       "      <td>Herb Caen, a popular columnist for the San Fra...</td>\n",
       "      <td>Allen Gersho, Robert M. Gray</td>\n",
       "      <td>2012-12-06</td>\n",
       "      <td>Technology &amp; Engineering</td>\n",
       "    </tr>\n",
       "  </tbody>\n",
       "</table>\n",
       "</div>"
      ],
      "text/plain": [
       "                                                Title  \\\n",
       "1                            Dr. Seuss: American Icon   \n",
       "2               Wonderful Worship in Smaller Churches   \n",
       "3                       Whispers of the Wicked Saints   \n",
       "5   The Church of Christ: A Biblical Ecclesiology ...   \n",
       "8                            Saint Hyacinth of Poland   \n",
       "9   Rising Sons and Daughters: Life Among Japan's ...   \n",
       "10  Muslim Women's Choices: Religious Belief and S...   \n",
       "11                        Dramatica for Screenwriters   \n",
       "12   Mensa Number Puzzles (Mensa Word Games for Kids)   \n",
       "13  Vector Quantization and Signal Compression (Th...   \n",
       "\n",
       "                                          description  \\\n",
       "1   Philip Nel takes a fascinating look into the k...   \n",
       "2   This resource includes twelve principles in un...   \n",
       "3   Julia Thomas finds her life spinning out of co...   \n",
       "5   In The Church of Christ: A Biblical Ecclesiolo...   \n",
       "8   The story for children 10 and up of St. Hyacin...   \n",
       "9   Wardell recalls his experience as a foreign st...   \n",
       "10  Counters the Western views and stereotypes of ...   \n",
       "11  Dramatica for Screenwriters by Armando Saldana...   \n",
       "12  Acclaimed teacher and puzzler Evelyn B. Christ...   \n",
       "13  Herb Caen, a popular columnist for the San Fra...   \n",
       "\n",
       "                               authors publishedDate  \\\n",
       "1                           Philip Nel    2005-01-01   \n",
       "2                         David R. Ray          2000   \n",
       "3                      Veronica Haddon       2005-02   \n",
       "5                     Everett Ferguson          1996   \n",
       "8                 Mary Fabyan Windeatt    2009-01-01   \n",
       "9                       Steven Wardell          1995   \n",
       "10  Camillia Fawzi El-Solh, Judy Mabro    1994-02-17   \n",
       "11                Armando Salda A-Mora       2005-07   \n",
       "12               Evelyn B. Christensen    2018-11-06   \n",
       "13        Allen Gersho, Robert M. Gray    2012-12-06   \n",
       "\n",
       "                   categories  \n",
       "1   Biography & Autobiography  \n",
       "2                    Religion  \n",
       "3                     Fiction  \n",
       "5                    Religion  \n",
       "8   Biography & Autobiography  \n",
       "9              Social Science  \n",
       "10                   Religion  \n",
       "11                  Reference  \n",
       "12        Juvenile Nonfiction  \n",
       "13   Technology & Engineering  "
      ]
     },
     "execution_count": 40,
     "metadata": {},
     "output_type": "execute_result"
    }
   ],
   "source": [
    "# replacing \"', '\" with \", \" in the authors column\n",
    "books[\"authors\"] = books[\"authors\"].str.replace(\"', '\",\", \")\n",
    "books.head(10)"
   ]
  },
  {
   "attachments": {},
   "cell_type": "markdown",
   "id": "3ea6cfbc",
   "metadata": {},
   "source": [
    "#### 2.2.2 `books` Feature engineering: <a class=\"anchor\" id=\"_2.2.2\"></a>"
   ]
  },
  {
   "cell_type": "code",
   "execution_count": 41,
   "id": "6fb32f36",
   "metadata": {},
   "outputs": [
    {
     "data": {
      "text/html": [
       "<div>\n",
       "<style scoped>\n",
       "    .dataframe tbody tr th:only-of-type {\n",
       "        vertical-align: middle;\n",
       "    }\n",
       "\n",
       "    .dataframe tbody tr th {\n",
       "        vertical-align: top;\n",
       "    }\n",
       "\n",
       "    .dataframe thead th {\n",
       "        text-align: right;\n",
       "    }\n",
       "</style>\n",
       "<table border=\"1\" class=\"dataframe\">\n",
       "  <thead>\n",
       "    <tr style=\"text-align: right;\">\n",
       "      <th></th>\n",
       "      <th>Title</th>\n",
       "      <th>description</th>\n",
       "      <th>authors</th>\n",
       "      <th>publishedDate</th>\n",
       "      <th>categories</th>\n",
       "    </tr>\n",
       "  </thead>\n",
       "  <tbody>\n",
       "    <tr>\n",
       "      <th>98646</th>\n",
       "      <td>Dancing with the Dark: True Encounters with th...</td>\n",
       "      <td>Presents an anthology of real-life supernatura...</td>\n",
       "      <td>Stephen Jones</td>\n",
       "      <td>1999</td>\n",
       "      <td>Fiction</td>\n",
       "    </tr>\n",
       "    <tr>\n",
       "      <th>26524</th>\n",
       "      <td>Out of Time's Abyss</td>\n",
       "      <td>This is the tale of Bradley after he left Fort...</td>\n",
       "      <td>Edgar Rice Burroughs</td>\n",
       "      <td>2015-11-04</td>\n",
       "      <td>Fiction</td>\n",
       "    </tr>\n",
       "    <tr>\n",
       "      <th>177700</th>\n",
       "      <td>Dick Sutphen Presents Sedona: Psychic Energy V...</td>\n",
       "      <td>Sedona, Arizona, is considered the location of...</td>\n",
       "      <td>Dick Sutphen, Richard Sutphen</td>\n",
       "      <td>1993</td>\n",
       "      <td>Philosophy</td>\n",
       "    </tr>\n",
       "  </tbody>\n",
       "</table>\n",
       "</div>"
      ],
      "text/plain": [
       "                                                    Title  \\\n",
       "98646   Dancing with the Dark: True Encounters with th...   \n",
       "26524                                 Out of Time's Abyss   \n",
       "177700  Dick Sutphen Presents Sedona: Psychic Energy V...   \n",
       "\n",
       "                                              description  \\\n",
       "98646   Presents an anthology of real-life supernatura...   \n",
       "26524   This is the tale of Bradley after he left Fort...   \n",
       "177700  Sedona, Arizona, is considered the location of...   \n",
       "\n",
       "                              authors publishedDate  categories  \n",
       "98646                   Stephen Jones          1999     Fiction  \n",
       "26524            Edgar Rice Burroughs    2015-11-04     Fiction  \n",
       "177700  Dick Sutphen, Richard Sutphen          1993  Philosophy  "
      ]
     },
     "execution_count": 41,
     "metadata": {},
     "output_type": "execute_result"
    }
   ],
   "source": [
    "books.sample(3)"
   ]
  },
  {
   "attachments": {},
   "cell_type": "markdown",
   "id": "e043f608",
   "metadata": {},
   "source": [
    "##### A. Creating columns for the 10 first authors from each book"
   ]
  },
  {
   "cell_type": "code",
   "execution_count": 42,
   "id": "14107aec",
   "metadata": {},
   "outputs": [
    {
     "data": {
      "text/html": [
       "<div>\n",
       "<style scoped>\n",
       "    .dataframe tbody tr th:only-of-type {\n",
       "        vertical-align: middle;\n",
       "    }\n",
       "\n",
       "    .dataframe tbody tr th {\n",
       "        vertical-align: top;\n",
       "    }\n",
       "\n",
       "    .dataframe thead th {\n",
       "        text-align: right;\n",
       "    }\n",
       "</style>\n",
       "<table border=\"1\" class=\"dataframe\">\n",
       "  <thead>\n",
       "    <tr style=\"text-align: right;\">\n",
       "      <th></th>\n",
       "      <th>0</th>\n",
       "      <th>1</th>\n",
       "      <th>2</th>\n",
       "      <th>3</th>\n",
       "      <th>4</th>\n",
       "      <th>5</th>\n",
       "      <th>6</th>\n",
       "      <th>7</th>\n",
       "      <th>8</th>\n",
       "      <th>9</th>\n",
       "      <th>10</th>\n",
       "    </tr>\n",
       "  </thead>\n",
       "  <tbody>\n",
       "    <tr>\n",
       "      <th>28005</th>\n",
       "      <td>Department of Economic and Social Affairs</td>\n",
       "      <td>None</td>\n",
       "      <td>None</td>\n",
       "      <td>None</td>\n",
       "      <td>None</td>\n",
       "      <td>None</td>\n",
       "      <td>None</td>\n",
       "      <td>None</td>\n",
       "      <td>None</td>\n",
       "      <td>None</td>\n",
       "      <td>None</td>\n",
       "    </tr>\n",
       "    <tr>\n",
       "      <th>151641</th>\n",
       "      <td>Kenneth C. Davis</td>\n",
       "      <td>None</td>\n",
       "      <td>None</td>\n",
       "      <td>None</td>\n",
       "      <td>None</td>\n",
       "      <td>None</td>\n",
       "      <td>None</td>\n",
       "      <td>None</td>\n",
       "      <td>None</td>\n",
       "      <td>None</td>\n",
       "      <td>None</td>\n",
       "    </tr>\n",
       "    <tr>\n",
       "      <th>205732</th>\n",
       "      <td>Lynne Rae Perkins</td>\n",
       "      <td>None</td>\n",
       "      <td>None</td>\n",
       "      <td>None</td>\n",
       "      <td>None</td>\n",
       "      <td>None</td>\n",
       "      <td>None</td>\n",
       "      <td>None</td>\n",
       "      <td>None</td>\n",
       "      <td>None</td>\n",
       "      <td>None</td>\n",
       "    </tr>\n",
       "    <tr>\n",
       "      <th>94416</th>\n",
       "      <td>Eithne Loughrey</td>\n",
       "      <td>None</td>\n",
       "      <td>None</td>\n",
       "      <td>None</td>\n",
       "      <td>None</td>\n",
       "      <td>None</td>\n",
       "      <td>None</td>\n",
       "      <td>None</td>\n",
       "      <td>None</td>\n",
       "      <td>None</td>\n",
       "      <td>None</td>\n",
       "    </tr>\n",
       "    <tr>\n",
       "      <th>202528</th>\n",
       "      <td>Dick Weissman</td>\n",
       "      <td>None</td>\n",
       "      <td>None</td>\n",
       "      <td>None</td>\n",
       "      <td>None</td>\n",
       "      <td>None</td>\n",
       "      <td>None</td>\n",
       "      <td>None</td>\n",
       "      <td>None</td>\n",
       "      <td>None</td>\n",
       "      <td>None</td>\n",
       "    </tr>\n",
       "  </tbody>\n",
       "</table>\n",
       "</div>"
      ],
      "text/plain": [
       "                                               0     1     2     3     4   \\\n",
       "28005   Department of Economic and Social Affairs  None  None  None  None   \n",
       "151641                           Kenneth C. Davis  None  None  None  None   \n",
       "205732                          Lynne Rae Perkins  None  None  None  None   \n",
       "94416                             Eithne Loughrey  None  None  None  None   \n",
       "202528                              Dick Weissman  None  None  None  None   \n",
       "\n",
       "          5     6     7     8     9     10  \n",
       "28005   None  None  None  None  None  None  \n",
       "151641  None  None  None  None  None  None  \n",
       "205732  None  None  None  None  None  None  \n",
       "94416   None  None  None  None  None  None  \n",
       "202528  None  None  None  None  None  None  "
      ]
     },
     "execution_count": 42,
     "metadata": {},
     "output_type": "execute_result"
    }
   ],
   "source": [
    "#separate the authors column into multiple columns after \", \"\n",
    "authors = books[\"authors\"].str.split(\", \", n = 10, expand = True)\n",
    "authors.sample(5)"
   ]
  },
  {
   "cell_type": "code",
   "execution_count": 43,
   "id": "b535e861",
   "metadata": {},
   "outputs": [
    {
     "data": {
      "text/plain": [
       "0          0\n",
       "1     106462\n",
       "2     128149\n",
       "3     133505\n",
       "4     134900\n",
       "5     135364\n",
       "6     135558\n",
       "7     135645\n",
       "8     135709\n",
       "9     135737\n",
       "10    135755\n",
       "dtype: int64"
      ]
     },
     "execution_count": 43,
     "metadata": {},
     "output_type": "execute_result"
    }
   ],
   "source": [
    "authors.isna().sum()"
   ]
  },
  {
   "cell_type": "code",
   "execution_count": 44,
   "id": "87537cc2",
   "metadata": {},
   "outputs": [
    {
     "data": {
      "text/plain": [
       "0      0.000000\n",
       "1     78.382895\n",
       "2     94.350000\n",
       "3     98.293367\n",
       "4     99.320439\n",
       "5     99.662060\n",
       "6     99.804893\n",
       "7     99.868947\n",
       "8     99.916067\n",
       "9     99.936682\n",
       "10    99.949935\n",
       "dtype: float64"
      ]
     },
     "execution_count": 44,
     "metadata": {},
     "output_type": "execute_result"
    }
   ],
   "source": [
    "nan_percent = authors.isna().sum() / len(authors) * 100\n",
    "nan_percent"
   ]
  },
  {
   "attachments": {},
   "cell_type": "markdown",
   "id": "c3ab5997",
   "metadata": {},
   "source": [
    "After analyzing the nan_percentage for books with multiple authors, it has been determined that the first author listed in the column will be considered as the `main_author`."
   ]
  },
  {
   "cell_type": "code",
   "execution_count": 45,
   "id": "e0ef2fbd",
   "metadata": {},
   "outputs": [],
   "source": [
    "# adding the first 10 authors columns to the books data frame\n",
    "books[\"main_author\"] = authors[0]"
   ]
  },
  {
   "cell_type": "code",
   "execution_count": 46,
   "id": "7010db74",
   "metadata": {},
   "outputs": [
    {
     "data": {
      "text/html": [
       "<div>\n",
       "<style scoped>\n",
       "    .dataframe tbody tr th:only-of-type {\n",
       "        vertical-align: middle;\n",
       "    }\n",
       "\n",
       "    .dataframe tbody tr th {\n",
       "        vertical-align: top;\n",
       "    }\n",
       "\n",
       "    .dataframe thead th {\n",
       "        text-align: right;\n",
       "    }\n",
       "</style>\n",
       "<table border=\"1\" class=\"dataframe\">\n",
       "  <thead>\n",
       "    <tr style=\"text-align: right;\">\n",
       "      <th></th>\n",
       "      <th>Title</th>\n",
       "      <th>description</th>\n",
       "      <th>authors</th>\n",
       "      <th>publishedDate</th>\n",
       "      <th>categories</th>\n",
       "      <th>main_author</th>\n",
       "    </tr>\n",
       "  </thead>\n",
       "  <tbody>\n",
       "    <tr>\n",
       "      <th>208707</th>\n",
       "      <td>Not for Glory (Signet)</td>\n",
       "      <td>Despite the fact that General Shimon Bar-El ha...</td>\n",
       "      <td>Joel Rosenberg</td>\n",
       "      <td>1989</td>\n",
       "      <td>Fiction</td>\n",
       "      <td>Joel Rosenberg</td>\n",
       "    </tr>\n",
       "    <tr>\n",
       "      <th>107816</th>\n",
       "      <td>Rivers and lakes (Planet earth)</td>\n",
       "      <td>Rivers and lakes are storehouses of fresh wate...</td>\n",
       "      <td>Rani Iyer</td>\n",
       "      <td>2011-01-01</td>\n",
       "      <td>Nature</td>\n",
       "      <td>Rani Iyer</td>\n",
       "    </tr>\n",
       "    <tr>\n",
       "      <th>155313</th>\n",
       "      <td>Bones Burnt Black</td>\n",
       "      <td>A sabotaged passenger craft tumbles toward the...</td>\n",
       "      <td>Stephen Euin Cobb</td>\n",
       "      <td>2004</td>\n",
       "      <td>Fiction</td>\n",
       "      <td>Stephen Euin Cobb</td>\n",
       "    </tr>\n",
       "  </tbody>\n",
       "</table>\n",
       "</div>"
      ],
      "text/plain": [
       "                                  Title  \\\n",
       "208707           Not for Glory (Signet)   \n",
       "107816  Rivers and lakes (Planet earth)   \n",
       "155313                Bones Burnt Black   \n",
       "\n",
       "                                              description            authors  \\\n",
       "208707  Despite the fact that General Shimon Bar-El ha...     Joel Rosenberg   \n",
       "107816  Rivers and lakes are storehouses of fresh wate...          Rani Iyer   \n",
       "155313  A sabotaged passenger craft tumbles toward the...  Stephen Euin Cobb   \n",
       "\n",
       "       publishedDate categories        main_author  \n",
       "208707          1989    Fiction     Joel Rosenberg  \n",
       "107816    2011-01-01     Nature          Rani Iyer  \n",
       "155313          2004    Fiction  Stephen Euin Cobb  "
      ]
     },
     "execution_count": 46,
     "metadata": {},
     "output_type": "execute_result"
    }
   ],
   "source": [
    "books.sample(3)"
   ]
  },
  {
   "cell_type": "code",
   "execution_count": 47,
   "id": "31b30057",
   "metadata": {},
   "outputs": [],
   "source": [
    "# drop the authors column\n",
    "books = books.drop([\"authors\"],axis=1)"
   ]
  },
  {
   "attachments": {},
   "cell_type": "markdown",
   "id": "4ccb305e",
   "metadata": {},
   "source": [
    "##### B. Selecting Columns for the desired data frame"
   ]
  },
  {
   "cell_type": "code",
   "execution_count": 48,
   "id": "07428c72",
   "metadata": {},
   "outputs": [
    {
     "data": {
      "text/html": [
       "<div>\n",
       "<style scoped>\n",
       "    .dataframe tbody tr th:only-of-type {\n",
       "        vertical-align: middle;\n",
       "    }\n",
       "\n",
       "    .dataframe tbody tr th {\n",
       "        vertical-align: top;\n",
       "    }\n",
       "\n",
       "    .dataframe thead th {\n",
       "        text-align: right;\n",
       "    }\n",
       "</style>\n",
       "<table border=\"1\" class=\"dataframe\">\n",
       "  <thead>\n",
       "    <tr style=\"text-align: right;\">\n",
       "      <th></th>\n",
       "      <th>BookTitle</th>\n",
       "      <th>Book_Description</th>\n",
       "      <th>Book_Category</th>\n",
       "      <th>Published_Date</th>\n",
       "      <th>Main_Author</th>\n",
       "    </tr>\n",
       "  </thead>\n",
       "  <tbody>\n",
       "    <tr>\n",
       "      <th>22256</th>\n",
       "      <td>The Class Struggle and The CTO</td>\n",
       "      <td>This collection of over 2,000 pages of CTO bes...</td>\n",
       "      <td>Business &amp; Economics</td>\n",
       "      <td>2006-03-01</td>\n",
       "      <td>Aspatore Books</td>\n",
       "    </tr>\n",
       "    <tr>\n",
       "      <th>48602</th>\n",
       "      <td>Noir Anxiety</td>\n",
       "      <td>Among the elements that define the classic fil...</td>\n",
       "      <td>Performing Arts</td>\n",
       "      <td>2003</td>\n",
       "      <td>Kelly Oliver</td>\n",
       "    </tr>\n",
       "    <tr>\n",
       "      <th>114202</th>\n",
       "      <td>Ex-Virgin</td>\n",
       "      <td>Life is a journey. But as 23-year-old New Zeal...</td>\n",
       "      <td>Fiction</td>\n",
       "      <td>2009</td>\n",
       "      <td>Rachel Knowles</td>\n",
       "    </tr>\n",
       "  </tbody>\n",
       "</table>\n",
       "</div>"
      ],
      "text/plain": [
       "                             BookTitle  \\\n",
       "22256   The Class Struggle and The CTO   \n",
       "48602                     Noir Anxiety   \n",
       "114202                       Ex-Virgin   \n",
       "\n",
       "                                         Book_Description  \\\n",
       "22256   This collection of over 2,000 pages of CTO bes...   \n",
       "48602   Among the elements that define the classic fil...   \n",
       "114202  Life is a journey. But as 23-year-old New Zeal...   \n",
       "\n",
       "               Book_Category Published_Date     Main_Author  \n",
       "22256   Business & Economics     2006-03-01  Aspatore Books  \n",
       "48602        Performing Arts           2003    Kelly Oliver  \n",
       "114202               Fiction           2009  Rachel Knowles  "
      ]
     },
     "execution_count": 48,
     "metadata": {},
     "output_type": "execute_result"
    }
   ],
   "source": [
    "books_df = books[[\"Title\",\"description\",\"categories\",\"publishedDate\",\"main_author\"]]\n",
    "\n",
    "books_df = books_df.rename(columns={\n",
    "    \"Title\": \"BookTitle\",\n",
    "    \"description\": \"Book_Description\",\n",
    "    \"categories\": \"Book_Category\",\n",
    "    \"publishedDate\": \"Published_Date\",\n",
    "    \"main_author\": \"Main_Author\"\n",
    "})\n",
    "\n",
    "books_df.sample(3)"
   ]
  },
  {
   "attachments": {},
   "cell_type": "markdown",
   "id": "6669278e",
   "metadata": {},
   "source": [
    "------"
   ]
  },
  {
   "attachments": {},
   "cell_type": "markdown",
   "id": "ad0b4173",
   "metadata": {},
   "source": [
    "## 3. Merging `books` and `ratings` data frames <a class=\"anchor\" id=\"_3\"></a>"
   ]
  },
  {
   "cell_type": "code",
   "execution_count": 49,
   "id": "80858c71",
   "metadata": {},
   "outputs": [
    {
     "data": {
      "text/html": [
       "<div>\n",
       "<style scoped>\n",
       "    .dataframe tbody tr th:only-of-type {\n",
       "        vertical-align: middle;\n",
       "    }\n",
       "\n",
       "    .dataframe tbody tr th {\n",
       "        vertical-align: top;\n",
       "    }\n",
       "\n",
       "    .dataframe thead th {\n",
       "        text-align: right;\n",
       "    }\n",
       "</style>\n",
       "<table border=\"1\" class=\"dataframe\">\n",
       "  <thead>\n",
       "    <tr style=\"text-align: right;\">\n",
       "      <th></th>\n",
       "      <th>RatingID</th>\n",
       "      <th>BookTitle</th>\n",
       "      <th>UserID</th>\n",
       "      <th>Review_Score</th>\n",
       "      <th>Review_Summary</th>\n",
       "      <th>Review_Text</th>\n",
       "      <th>Review_Counts</th>\n",
       "    </tr>\n",
       "  </thead>\n",
       "  <tbody>\n",
       "    <tr>\n",
       "      <th>1424797</th>\n",
       "      <td>0758207948</td>\n",
       "      <td>The River Devil</td>\n",
       "      <td>AFVQZQ8PW0L</td>\n",
       "      <td>5.0</td>\n",
       "      <td>terrific historical romance</td>\n",
       "      <td>In December 1871 in New York Nicholas Lennox w...</td>\n",
       "      <td>19</td>\n",
       "    </tr>\n",
       "  </tbody>\n",
       "</table>\n",
       "</div>"
      ],
      "text/plain": [
       "           RatingID        BookTitle       UserID  Review_Score  \\\n",
       "1424797  0758207948  The River Devil  AFVQZQ8PW0L           5.0   \n",
       "\n",
       "                      Review_Summary  \\\n",
       "1424797  terrific historical romance   \n",
       "\n",
       "                                               Review_Text  Review_Counts  \n",
       "1424797  In December 1871 in New York Nicholas Lennox w...             19  "
      ]
     },
     "execution_count": 49,
     "metadata": {},
     "output_type": "execute_result"
    }
   ],
   "source": [
    "rating_df.sample(1)"
   ]
  },
  {
   "cell_type": "code",
   "execution_count": 50,
   "id": "11b1a126",
   "metadata": {},
   "outputs": [
    {
     "data": {
      "text/html": [
       "<div>\n",
       "<style scoped>\n",
       "    .dataframe tbody tr th:only-of-type {\n",
       "        vertical-align: middle;\n",
       "    }\n",
       "\n",
       "    .dataframe tbody tr th {\n",
       "        vertical-align: top;\n",
       "    }\n",
       "\n",
       "    .dataframe thead th {\n",
       "        text-align: right;\n",
       "    }\n",
       "</style>\n",
       "<table border=\"1\" class=\"dataframe\">\n",
       "  <thead>\n",
       "    <tr style=\"text-align: right;\">\n",
       "      <th></th>\n",
       "      <th>BookTitle</th>\n",
       "      <th>Book_Description</th>\n",
       "      <th>Book_Category</th>\n",
       "      <th>Published_Date</th>\n",
       "      <th>Main_Author</th>\n",
       "    </tr>\n",
       "  </thead>\n",
       "  <tbody>\n",
       "    <tr>\n",
       "      <th>114281</th>\n",
       "      <td>Lie of the Mind</td>\n",
       "      <td>THE STORY: Involves two desperate families con...</td>\n",
       "      <td>Drama</td>\n",
       "      <td>1986</td>\n",
       "      <td>Sam Shepard</td>\n",
       "    </tr>\n",
       "  </tbody>\n",
       "</table>\n",
       "</div>"
      ],
      "text/plain": [
       "              BookTitle                                   Book_Description  \\\n",
       "114281  Lie of the Mind  THE STORY: Involves two desperate families con...   \n",
       "\n",
       "       Book_Category Published_Date  Main_Author  \n",
       "114281         Drama           1986  Sam Shepard  "
      ]
     },
     "execution_count": 50,
     "metadata": {},
     "output_type": "execute_result"
    }
   ],
   "source": [
    "books_df.sample(1)"
   ]
  },
  {
   "attachments": {},
   "cell_type": "markdown",
   "id": "760c396d",
   "metadata": {},
   "source": [
    "Merge the two data frames on the BookTitle column"
   ]
  },
  {
   "cell_type": "code",
   "execution_count": 51,
   "id": "5befbf4d",
   "metadata": {},
   "outputs": [
    {
     "data": {
      "text/html": [
       "<div>\n",
       "<style scoped>\n",
       "    .dataframe tbody tr th:only-of-type {\n",
       "        vertical-align: middle;\n",
       "    }\n",
       "\n",
       "    .dataframe tbody tr th {\n",
       "        vertical-align: top;\n",
       "    }\n",
       "\n",
       "    .dataframe thead th {\n",
       "        text-align: right;\n",
       "    }\n",
       "</style>\n",
       "<table border=\"1\" class=\"dataframe\">\n",
       "  <thead>\n",
       "    <tr style=\"text-align: right;\">\n",
       "      <th></th>\n",
       "      <th>BookTitle</th>\n",
       "      <th>Book_Description</th>\n",
       "      <th>Book_Category</th>\n",
       "      <th>Published_Date</th>\n",
       "      <th>Main_Author</th>\n",
       "      <th>RatingID</th>\n",
       "      <th>UserID</th>\n",
       "      <th>Review_Score</th>\n",
       "      <th>Review_Summary</th>\n",
       "      <th>Review_Text</th>\n",
       "      <th>Review_Counts</th>\n",
       "    </tr>\n",
       "  </thead>\n",
       "  <tbody>\n",
       "    <tr>\n",
       "      <th>1522316</th>\n",
       "      <td>Moby Dick or the White Whale</td>\n",
       "      <td>Moby Dick is a novel by American writer Herman...</td>\n",
       "      <td>Fiction</td>\n",
       "      <td>2022-02-01</td>\n",
       "      <td>Herman Melville</td>\n",
       "      <td>B000NPQOMA</td>\n",
       "      <td>A293JGMF1JND0Y</td>\n",
       "      <td>5.0</td>\n",
       "      <td>\"I'd smite the sun if it insulted me\"</td>\n",
       "      <td>Easily one of the greatest novels of all-time....</td>\n",
       "      <td>451</td>\n",
       "    </tr>\n",
       "    <tr>\n",
       "      <th>957211</th>\n",
       "      <td>Nicolae: Left Behind, Volume 3</td>\n",
       "      <td>Continues the story of the Tribulation Force a...</td>\n",
       "      <td>Fiction</td>\n",
       "      <td>2011-03-16</td>\n",
       "      <td>Tim LaHaye</td>\n",
       "      <td>B00017JIU0</td>\n",
       "      <td>A69Z3F9A2ILNP</td>\n",
       "      <td>4.0</td>\n",
       "      <td>What can I say...</td>\n",
       "      <td>I don't know what I can say about his book ser...</td>\n",
       "      <td>237</td>\n",
       "    </tr>\n",
       "    <tr>\n",
       "      <th>996764</th>\n",
       "      <td>Assignment in Brittany</td>\n",
       "      <td>He stared at the unfamiliar watch on his wrist...</td>\n",
       "      <td>Fiction</td>\n",
       "      <td>2013-03-05</td>\n",
       "      <td>Helen Macinnes</td>\n",
       "      <td>B000NXGJVS</td>\n",
       "      <td>A1AES697PC2IW5</td>\n",
       "      <td>5.0</td>\n",
       "      <td>Olden Golden Suspence +++</td>\n",
       "      <td>\"Assignment in Brittany\" is a prime exemplar o...</td>\n",
       "      <td>54</td>\n",
       "    </tr>\n",
       "  </tbody>\n",
       "</table>\n",
       "</div>"
      ],
      "text/plain": [
       "                              BookTitle  \\\n",
       "1522316    Moby Dick or the White Whale   \n",
       "957211   Nicolae: Left Behind, Volume 3   \n",
       "996764           Assignment in Brittany   \n",
       "\n",
       "                                          Book_Description Book_Category  \\\n",
       "1522316  Moby Dick is a novel by American writer Herman...       Fiction   \n",
       "957211   Continues the story of the Tribulation Force a...       Fiction   \n",
       "996764   He stared at the unfamiliar watch on his wrist...       Fiction   \n",
       "\n",
       "        Published_Date      Main_Author    RatingID          UserID  \\\n",
       "1522316     2022-02-01  Herman Melville  B000NPQOMA  A293JGMF1JND0Y   \n",
       "957211      2011-03-16       Tim LaHaye  B00017JIU0   A69Z3F9A2ILNP   \n",
       "996764      2013-03-05   Helen Macinnes  B000NXGJVS  A1AES697PC2IW5   \n",
       "\n",
       "         Review_Score                         Review_Summary  \\\n",
       "1522316           5.0  \"I'd smite the sun if it insulted me\"   \n",
       "957211            4.0                      What can I say...   \n",
       "996764            5.0              Olden Golden Suspence +++   \n",
       "\n",
       "                                               Review_Text  Review_Counts  \n",
       "1522316  Easily one of the greatest novels of all-time....            451  \n",
       "957211   I don't know what I can say about his book ser...            237  \n",
       "996764   \"Assignment in Brittany\" is a prime exemplar o...             54  "
      ]
     },
     "execution_count": 51,
     "metadata": {},
     "output_type": "execute_result"
    }
   ],
   "source": [
    "book_rating = pd.merge(books_df, rating_df, on='BookTitle', how='inner')\n",
    "book_rating.sample(3)"
   ]
  },
  {
   "cell_type": "code",
   "execution_count": 52,
   "id": "dc010a76",
   "metadata": {},
   "outputs": [
    {
     "name": "stdout",
     "output_type": "stream",
     "text": [
      "<class 'pandas.core.frame.DataFrame'>\n",
      "RangeIndex: 1796852 entries, 0 to 1796851\n",
      "Data columns (total 11 columns):\n",
      " #   Column            Dtype  \n",
      "---  ------            -----  \n",
      " 0   BookTitle         object \n",
      " 1   Book_Description  object \n",
      " 2   Book_Category     object \n",
      " 3   Published_Date    object \n",
      " 4   Main_Author       object \n",
      " 5   RatingID          object \n",
      " 6   UserID            object \n",
      " 7   Review_Score      float64\n",
      " 8   Review_Summary    object \n",
      " 9   Review_Text       object \n",
      " 10  Review_Counts     int64  \n",
      "dtypes: float64(1), int64(1), object(9)\n",
      "memory usage: 150.8+ MB\n"
     ]
    }
   ],
   "source": [
    "book_rating.info()"
   ]
  },
  {
   "cell_type": "code",
   "execution_count": 53,
   "id": "37c1a549",
   "metadata": {},
   "outputs": [
    {
     "data": {
      "text/plain": [
       "(1796852, 11)"
      ]
     },
     "execution_count": 53,
     "metadata": {},
     "output_type": "execute_result"
    }
   ],
   "source": [
    "book_rating.shape"
   ]
  },
  {
   "cell_type": "code",
   "execution_count": 54,
   "id": "4612d8a9",
   "metadata": {},
   "outputs": [
    {
     "data": {
      "text/plain": [
       "BookTitle           0\n",
       "Book_Description    0\n",
       "Book_Category       0\n",
       "Published_Date      0\n",
       "Main_Author         0\n",
       "RatingID            0\n",
       "UserID              0\n",
       "Review_Score        0\n",
       "Review_Summary      0\n",
       "Review_Text         0\n",
       "Review_Counts       0\n",
       "dtype: int64"
      ]
     },
     "execution_count": 54,
     "metadata": {},
     "output_type": "execute_result"
    }
   ],
   "source": [
    "book_rating.isna().sum()"
   ]
  },
  {
   "attachments": {},
   "cell_type": "markdown",
   "id": "c995620e",
   "metadata": {},
   "source": [
    "### 3.1 Checking for duplicates  <a class=\"anchor\" id=\"_3.1\"></a>"
   ]
  },
  {
   "cell_type": "code",
   "execution_count": 55,
   "id": "124b7217",
   "metadata": {},
   "outputs": [
    {
     "data": {
      "text/plain": [
       "(1788350, 11)"
      ]
     },
     "execution_count": 55,
     "metadata": {},
     "output_type": "execute_result"
    }
   ],
   "source": [
    "# Drop the duplicated rows\n",
    "book_rating.drop_duplicates(inplace=True)\n",
    "book_rating.shape"
   ]
  },
  {
   "attachments": {},
   "cell_type": "markdown",
   "id": "537f0aae",
   "metadata": {},
   "source": [
    "### 3.2 Feature Engineering  <a class=\"anchor\" id=\"_3.2\"></a>"
   ]
  },
  {
   "cell_type": "code",
   "execution_count": 56,
   "id": "3d5fa325",
   "metadata": {},
   "outputs": [
    {
     "data": {
      "text/html": [
       "<div>\n",
       "<style scoped>\n",
       "    .dataframe tbody tr th:only-of-type {\n",
       "        vertical-align: middle;\n",
       "    }\n",
       "\n",
       "    .dataframe tbody tr th {\n",
       "        vertical-align: top;\n",
       "    }\n",
       "\n",
       "    .dataframe thead th {\n",
       "        text-align: right;\n",
       "    }\n",
       "</style>\n",
       "<table border=\"1\" class=\"dataframe\">\n",
       "  <thead>\n",
       "    <tr style=\"text-align: right;\">\n",
       "      <th></th>\n",
       "      <th>BookTitle</th>\n",
       "      <th>Book_Description</th>\n",
       "      <th>Book_Category</th>\n",
       "      <th>Published_Date</th>\n",
       "      <th>Main_Author</th>\n",
       "      <th>RatingID</th>\n",
       "      <th>UserID</th>\n",
       "      <th>Review_Score</th>\n",
       "      <th>Review_Summary</th>\n",
       "      <th>Review_Text</th>\n",
       "      <th>Review_Counts</th>\n",
       "    </tr>\n",
       "  </thead>\n",
       "  <tbody>\n",
       "    <tr>\n",
       "      <th>1254855</th>\n",
       "      <td>Time for Bed Gift Set: [Night-light and Board ...</td>\n",
       "      <td>A little boy gets ready for bed, with his own ...</td>\n",
       "      <td>Juvenile Fiction</td>\n",
       "      <td>2004-07-01</td>\n",
       "      <td>Annette Norris</td>\n",
       "      <td>B0001FZG9Y</td>\n",
       "      <td>A17NSO6EVIIHV</td>\n",
       "      <td>3.0</td>\n",
       "      <td>Time for Bed</td>\n",
       "      <td>This was an appealing book for a small child, ...</td>\n",
       "      <td>174</td>\n",
       "    </tr>\n",
       "    <tr>\n",
       "      <th>974874</th>\n",
       "      <td>Look Alikes Jr.</td>\n",
       "      <td>Welcome to Look-Alike Land, where the more you...</td>\n",
       "      <td>Juvenile Fiction</td>\n",
       "      <td>2003-10-17</td>\n",
       "      <td>Joan Steiner</td>\n",
       "      <td>0316890731</td>\n",
       "      <td>A3FPY7XBMK487R</td>\n",
       "      <td>5.0</td>\n",
       "      <td>Two covers, same book!</td>\n",
       "      <td>I ordered both Look Alikes Jr. and Look Alikes...</td>\n",
       "      <td>4</td>\n",
       "    </tr>\n",
       "    <tr>\n",
       "      <th>1610045</th>\n",
       "      <td>Let's Talk About S-E-X: A Guide for Kids 9 to ...</td>\n",
       "      <td>Provides an introduction to human sexual devel...</td>\n",
       "      <td>Juvenile Nonfiction</td>\n",
       "      <td>2005</td>\n",
       "      <td>Sam Gitchel</td>\n",
       "      <td>1931863180</td>\n",
       "      <td>A1EGBF3ROFYJAC</td>\n",
       "      <td>4.0</td>\n",
       "      <td>Great book!</td>\n",
       "      <td>This is a great book for disabled teen to adul...</td>\n",
       "      <td>14</td>\n",
       "    </tr>\n",
       "  </tbody>\n",
       "</table>\n",
       "</div>"
      ],
      "text/plain": [
       "                                                 BookTitle  \\\n",
       "1254855  Time for Bed Gift Set: [Night-light and Board ...   \n",
       "974874                                     Look Alikes Jr.   \n",
       "1610045  Let's Talk About S-E-X: A Guide for Kids 9 to ...   \n",
       "\n",
       "                                          Book_Description  \\\n",
       "1254855  A little boy gets ready for bed, with his own ...   \n",
       "974874   Welcome to Look-Alike Land, where the more you...   \n",
       "1610045  Provides an introduction to human sexual devel...   \n",
       "\n",
       "               Book_Category Published_Date     Main_Author    RatingID  \\\n",
       "1254855     Juvenile Fiction     2004-07-01  Annette Norris  B0001FZG9Y   \n",
       "974874      Juvenile Fiction     2003-10-17    Joan Steiner  0316890731   \n",
       "1610045  Juvenile Nonfiction           2005     Sam Gitchel  1931863180   \n",
       "\n",
       "                 UserID  Review_Score          Review_Summary  \\\n",
       "1254855   A17NSO6EVIIHV           3.0            Time for Bed   \n",
       "974874   A3FPY7XBMK487R           5.0  Two covers, same book!   \n",
       "1610045  A1EGBF3ROFYJAC           4.0             Great book!   \n",
       "\n",
       "                                               Review_Text  Review_Counts  \n",
       "1254855  This was an appealing book for a small child, ...            174  \n",
       "974874   I ordered both Look Alikes Jr. and Look Alikes...              4  \n",
       "1610045  This is a great book for disabled teen to adul...             14  "
      ]
     },
     "execution_count": 56,
     "metadata": {},
     "output_type": "execute_result"
    }
   ],
   "source": [
    "book_rating.sample(3)"
   ]
  },
  {
   "cell_type": "code",
   "execution_count": 57,
   "id": "d4c5ff74",
   "metadata": {},
   "outputs": [
    {
     "data": {
      "text/plain": [
       "BookTitle\n",
       "\" Film technique, \" and, \" Film acting \"                                                           4.500000\n",
       "\" We'll Always Have Paris\": The Definitive Guide to Great Lines from the Movies                    5.000000\n",
       "\"... And Poetry is Born ...\" Russian Classical Poetry                                              4.000000\n",
       "\"A Truthful Impression of the Country\": British and American Travel Writing in China, 1880-1949    4.000000\n",
       "\"A\" IS FOR ALIBI                                                                                   3.707182\n",
       "Name: Review_Score, dtype: float64"
      ]
     },
     "execution_count": 57,
     "metadata": {},
     "output_type": "execute_result"
    }
   ],
   "source": [
    "# Create a new variable with the average rating per each book title\n",
    "Average_Rating = book_rating.groupby('BookTitle')['Review_Score'].mean()\n",
    "Average_Rating.head(5)"
   ]
  },
  {
   "cell_type": "code",
   "execution_count": 58,
   "id": "af0d4604",
   "metadata": {},
   "outputs": [
    {
     "data": {
      "text/html": [
       "<div>\n",
       "<style scoped>\n",
       "    .dataframe tbody tr th:only-of-type {\n",
       "        vertical-align: middle;\n",
       "    }\n",
       "\n",
       "    .dataframe tbody tr th {\n",
       "        vertical-align: top;\n",
       "    }\n",
       "\n",
       "    .dataframe thead th {\n",
       "        text-align: right;\n",
       "    }\n",
       "</style>\n",
       "<table border=\"1\" class=\"dataframe\">\n",
       "  <thead>\n",
       "    <tr style=\"text-align: right;\">\n",
       "      <th></th>\n",
       "      <th>BookTitle</th>\n",
       "      <th>Book_Description</th>\n",
       "      <th>Book_Category</th>\n",
       "      <th>Published_Date</th>\n",
       "      <th>Main_Author</th>\n",
       "      <th>RatingID</th>\n",
       "      <th>UserID</th>\n",
       "      <th>Review_Score</th>\n",
       "      <th>Review_Summary</th>\n",
       "      <th>Review_Text</th>\n",
       "      <th>Review_Counts</th>\n",
       "      <th>Average_Rating</th>\n",
       "    </tr>\n",
       "  </thead>\n",
       "  <tbody>\n",
       "    <tr>\n",
       "      <th>472634</th>\n",
       "      <td>Hunting with the bow and arrow</td>\n",
       "      <td>\"Hunting with the Bow &amp; Arrow\" by Saxton T. Po...</td>\n",
       "      <td>Fiction</td>\n",
       "      <td>2019-11-21</td>\n",
       "      <td>Saxton T. Pope</td>\n",
       "      <td>B0007E0M34</td>\n",
       "      <td>AXI9T6QJ7DHFD</td>\n",
       "      <td>5.0</td>\n",
       "      <td>Excellent Look Back</td>\n",
       "      <td>For every student of Native America, aborigina...</td>\n",
       "      <td>52</td>\n",
       "      <td>4.038462</td>\n",
       "    </tr>\n",
       "    <tr>\n",
       "      <th>1305952</th>\n",
       "      <td>Power Misses: Essays Across (Un)Popular Cultur...</td>\n",
       "      <td>David James insists that popular resistance to...</td>\n",
       "      <td>Art</td>\n",
       "      <td>1996-12-17</td>\n",
       "      <td>David E. James</td>\n",
       "      <td>1859848060</td>\n",
       "      <td>A2D534V65LDWJH</td>\n",
       "      <td>5.0</td>\n",
       "      <td>major book about the counter-culture</td>\n",
       "      <td>A major book about the counter-culture from W....</td>\n",
       "      <td>1</td>\n",
       "      <td>5.000000</td>\n",
       "    </tr>\n",
       "    <tr>\n",
       "      <th>1411610</th>\n",
       "      <td>The witch of Blackbird Pond (A Dell book)</td>\n",
       "      <td>Now an orphan, Kit Tyler travels from Barbados...</td>\n",
       "      <td>Juvenile Fiction</td>\n",
       "      <td>1958</td>\n",
       "      <td>Elizabeth George Speare</td>\n",
       "      <td>B0006W9YL8</td>\n",
       "      <td>A1DNIU1OBDA779</td>\n",
       "      <td>4.0</td>\n",
       "      <td>Witch Of Blackbird Pond is nice</td>\n",
       "      <td>The Witch of Blackbird Pond by Elizabeth Georg...</td>\n",
       "      <td>234</td>\n",
       "      <td>4.416309</td>\n",
       "    </tr>\n",
       "  </tbody>\n",
       "</table>\n",
       "</div>"
      ],
      "text/plain": [
       "                                                 BookTitle  \\\n",
       "472634                      Hunting with the bow and arrow   \n",
       "1305952  Power Misses: Essays Across (Un)Popular Cultur...   \n",
       "1411610          The witch of Blackbird Pond (A Dell book)   \n",
       "\n",
       "                                          Book_Description     Book_Category  \\\n",
       "472634   \"Hunting with the Bow & Arrow\" by Saxton T. Po...           Fiction   \n",
       "1305952  David James insists that popular resistance to...               Art   \n",
       "1411610  Now an orphan, Kit Tyler travels from Barbados...  Juvenile Fiction   \n",
       "\n",
       "        Published_Date              Main_Author    RatingID          UserID  \\\n",
       "472634      2019-11-21           Saxton T. Pope  B0007E0M34   AXI9T6QJ7DHFD   \n",
       "1305952     1996-12-17           David E. James  1859848060  A2D534V65LDWJH   \n",
       "1411610           1958  Elizabeth George Speare  B0006W9YL8  A1DNIU1OBDA779   \n",
       "\n",
       "         Review_Score                        Review_Summary  \\\n",
       "472634            5.0                   Excellent Look Back   \n",
       "1305952           5.0  major book about the counter-culture   \n",
       "1411610           4.0       Witch Of Blackbird Pond is nice   \n",
       "\n",
       "                                               Review_Text  Review_Counts  \\\n",
       "472634   For every student of Native America, aborigina...             52   \n",
       "1305952  A major book about the counter-culture from W....              1   \n",
       "1411610  The Witch of Blackbird Pond by Elizabeth Georg...            234   \n",
       "\n",
       "         Average_Rating  \n",
       "472634         4.038462  \n",
       "1305952        5.000000  \n",
       "1411610        4.416309  "
      ]
     },
     "execution_count": 58,
     "metadata": {},
     "output_type": "execute_result"
    }
   ],
   "source": [
    "# Add the average rating column to the book_rating data frame\n",
    "book_rating[\"Average_Rating\"] = book_rating[\"BookTitle\"].map(Average_Rating)\n",
    "book_rating.sample(3)"
   ]
  },
  {
   "attachments": {},
   "cell_type": "markdown",
   "id": "49ec8d5d",
   "metadata": {},
   "source": [
    "---"
   ]
  },
  {
   "cell_type": "code",
   "execution_count": 59,
   "id": "5815cf49",
   "metadata": {},
   "outputs": [
    {
     "name": "stdout",
     "output_type": "stream",
     "text": [
      "Merged Data frame shape: (1788350, 12)\n",
      "Number of Unique Book Titles: 132368\n",
      "Number of Unique Authors: 88829\n",
      "Number of Unique Book Categories: 5196\n",
      "Number of Unique UserID: 821831\n"
     ]
    }
   ],
   "source": [
    "print(\"Merged Data frame shape:\", book_rating.shape)\n",
    "print(\"Number of Unique Book Titles:\",len(book_rating[\"BookTitle\"].unique()))\n",
    "print(\"Number of Unique Authors:\",len(book_rating[\"Main_Author\"].unique()))\n",
    "print(\"Number of Unique Book Categories:\",len(book_rating[\"Book_Category\"].unique()))\n",
    "print(\"Number of Unique UserID:\",len(book_rating[\"UserID\"].unique()))"
   ]
  },
  {
   "attachments": {},
   "cell_type": "markdown",
   "id": "a4155c7e",
   "metadata": {},
   "source": [
    "## 4. Save Processed Data <a class=\"anchor\" id=\"_4\"></a>"
   ]
  },
  {
   "cell_type": "code",
   "execution_count": 60,
   "id": "07e5160f",
   "metadata": {},
   "outputs": [],
   "source": [
    "# Pickle the DataFrame\n",
    "book_rating.to_pickle('/Users/rurickgranados/Desktop/Capstone.nosync/book_rating.pkl')\n"
   ]
  }
 ],
 "metadata": {
  "kernelspec": {
   "display_name": "Python 3 (ipykernel)",
   "language": "python",
   "name": "python3"
  },
  "language_info": {
   "codemirror_mode": {
    "name": "ipython",
    "version": 3
   },
   "file_extension": ".py",
   "mimetype": "text/x-python",
   "name": "python",
   "nbconvert_exporter": "python",
   "pygments_lexer": "ipython3",
   "version": "3.10.9"
  }
 },
 "nbformat": 4,
 "nbformat_minor": 5
}

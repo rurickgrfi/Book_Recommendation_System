{
 "cells": [
  {
   "attachments": {},
   "cell_type": "markdown",
   "id": "a2370b54",
   "metadata": {},
   "source": [
    "-----"
   ]
  },
  {
   "attachments": {},
   "cell_type": "markdown",
   "id": "e55402c5",
   "metadata": {},
   "source": [
    "# **BrainStation Bootcamp:**\n",
    "### **Amazon Book Recommendation System**\n",
    "* Author: Rurick Alejandro Granados Figueredo\n",
    "* Contact: rurickgrfi@gmail.com\n",
    "* Date: August, 2023\n",
    "-----------"
   ]
  },
  {
   "attachments": {},
   "cell_type": "markdown",
   "id": "1f805799",
   "metadata": {},
   "source": [
    "## **Project Overview**\n",
    "Discovering the perfect book that aligns with our personal preferences can be challenging, especially for those who are not regular readers. In my capstone project, I have chosen to address this issue by building a book recommendation system. By developing this tool, I aim to predict and suggest books that individuals would enjoy reading, making the process of book selection easier and more personalized.\n",
    "\n",
    "\n"
   ]
  },
  {
   "attachments": {},
   "cell_type": "markdown",
   "id": "d7b2f1d6",
   "metadata": {},
   "source": [
    "---\n"
   ]
  },
  {
   "attachments": {},
   "cell_type": "markdown",
   "id": "b432c551",
   "metadata": {},
   "source": [
    "## **Table of Contents** \n",
    "---\n",
    "- [1. Loading Data and Libraries Setup](#_1)  \n",
    "- [2. Data Preparation and Exploration](#_2)\n",
    "    - [2.1 `ratings` data exploration](#_2.1)    \n",
    "        - [2.1.1 Cleaning `ratings`](#_2.1.1) \n",
    "        - [2.1.2 Feature Engineering](#_2.1.2) \n",
    "    - [2.2 `books` data exploration](#_2.2) \n",
    "        - [2.2.1 Cleaning `books`](#_2.2.1) \n",
    "        - [2.2.2 Feature Engineering](#_2.2.2) \n",
    "- [3. Merging `books` and `ratings_df` data frames](#_3)\n",
    "- [4. Data visualization](#_4)\n",
    "- [5. Data for the recommendation system](#_5)\n",
    "    - [Data Transformation](#_6)\n",
    "- [6. Modeling recommender system](#_6)\n",
    "    - [6.1 User Independent System](#_6.1)\n",
    "    - [6.2 Content Based Recommendations](#_6.2)\n",
    "    - [6.3 Collaborative Based Recommendations - NEEDS WORK](#_6.3)\n",
    "    - [6.4 Matrix Factorization Methods and Latent Features - NEEDS WORK](#_6.4)\n",
    "\n"
   ]
  },
  {
   "attachments": {},
   "cell_type": "markdown",
   "id": "cf15a06a",
   "metadata": {},
   "source": [
    "-----"
   ]
  },
  {
   "attachments": {},
   "cell_type": "markdown",
   "id": "e9988dd7",
   "metadata": {},
   "source": [
    "## 1. Loading Data and Libraries Setup <a class=\"anchor\" id=\"_1\"></a>"
   ]
  },
  {
   "cell_type": "code",
   "execution_count": 245,
   "id": "c3e9a36a",
   "metadata": {},
   "outputs": [],
   "source": [
    "# Import all the libraries needed for the project\n",
    "import re\n",
    "import numpy as np\n",
    "import pandas as pd\n",
    "import matplotlib.pyplot as plt\n",
    "from sklearn.metrics.pairwise import cosine_similarity\n",
    "\n",
    "# Libraries for Content Based Filtering\n",
    "from sklearn.feature_extraction.text import TfidfVectorizer\n",
    "from sklearn.metrics.pairwise import cosine_similarity\n",
    "\n",
    "\n",
    "# Libraries for FunkSVD\n",
    "from surprise import Dataset\n",
    "from surprise.reader import Reader\n",
    "from surprise.prediction_algorithms.matrix_factorization import SVD as FunkSVD\n"
   ]
  },
  {
   "cell_type": "code",
   "execution_count": 246,
   "id": "be100518",
   "metadata": {},
   "outputs": [],
   "source": [
    "# Read the Books_rating csv file and asigne it to a data frame ratings\n",
    "ratings = pd.read_csv('Books_rating.csv')"
   ]
  },
  {
   "cell_type": "code",
   "execution_count": 247,
   "id": "5201e2b8",
   "metadata": {},
   "outputs": [
    {
     "name": "stderr",
     "output_type": "stream",
     "text": [
      "/var/folders/y4/5n9w7q191lx6764p508p49_w0000gn/T/ipykernel_39615/3441828521.py:2: DtypeWarning: Columns (13,14) have mixed types. Specify dtype option on import or set low_memory=False.\n",
      "  books = pd.read_csv('books_data.csv')\n"
     ]
    }
   ],
   "source": [
    "# Read the Books_data csv file and asigne it to a data frame books\n",
    "books = pd.read_csv('books_data.csv')"
   ]
  },
  {
   "attachments": {},
   "cell_type": "markdown",
   "id": "a7131b19",
   "metadata": {},
   "source": [
    "## 2. Data Preparation and Exploration <a class=\"anchor\" id=\"_2\"></a>"
   ]
  },
  {
   "attachments": {},
   "cell_type": "markdown",
   "id": "02078799",
   "metadata": {},
   "source": [
    "### 2.1 `ratings` data exploration <a class=\"anchor\" id=\"_2.1\"></a>"
   ]
  },
  {
   "cell_type": "code",
   "execution_count": 248,
   "id": "704474d5",
   "metadata": {},
   "outputs": [
    {
     "data": {
      "text/html": [
       "<div>\n",
       "<style scoped>\n",
       "    .dataframe tbody tr th:only-of-type {\n",
       "        vertical-align: middle;\n",
       "    }\n",
       "\n",
       "    .dataframe tbody tr th {\n",
       "        vertical-align: top;\n",
       "    }\n",
       "\n",
       "    .dataframe thead th {\n",
       "        text-align: right;\n",
       "    }\n",
       "</style>\n",
       "<table border=\"1\" class=\"dataframe\">\n",
       "  <thead>\n",
       "    <tr style=\"text-align: right;\">\n",
       "      <th></th>\n",
       "      <th>Id</th>\n",
       "      <th>Title</th>\n",
       "      <th>Price</th>\n",
       "      <th>User_id</th>\n",
       "      <th>profileName</th>\n",
       "      <th>review/helpfulness</th>\n",
       "      <th>review/score</th>\n",
       "      <th>review/time</th>\n",
       "      <th>review/summary</th>\n",
       "      <th>review/text</th>\n",
       "    </tr>\n",
       "  </thead>\n",
       "  <tbody>\n",
       "    <tr>\n",
       "      <th>1795773</th>\n",
       "      <td>B000MKFNF0</td>\n",
       "      <td>Lonesome Dove</td>\n",
       "      <td>NaN</td>\n",
       "      <td>A36ZC9726STX64</td>\n",
       "      <td>Linda B Estes</td>\n",
       "      <td>0/0</td>\n",
       "      <td>5.0</td>\n",
       "      <td>985219200</td>\n",
       "      <td>McMurtry's subjects and treatment are bound to...</td>\n",
       "      <td>When McMurtry brought Call and Gus to life in ...</td>\n",
       "    </tr>\n",
       "  </tbody>\n",
       "</table>\n",
       "</div>"
      ],
      "text/plain": [
       "                 Id          Title  Price         User_id    profileName  \\\n",
       "1795773  B000MKFNF0  Lonesome Dove    NaN  A36ZC9726STX64  Linda B Estes   \n",
       "\n",
       "        review/helpfulness  review/score  review/time  \\\n",
       "1795773                0/0           5.0    985219200   \n",
       "\n",
       "                                            review/summary  \\\n",
       "1795773  McMurtry's subjects and treatment are bound to...   \n",
       "\n",
       "                                               review/text  \n",
       "1795773  When McMurtry brought Call and Gus to life in ...  "
      ]
     },
     "execution_count": 248,
     "metadata": {},
     "output_type": "execute_result"
    }
   ],
   "source": [
    "ratings.sample(1)"
   ]
  },
  {
   "cell_type": "code",
   "execution_count": 249,
   "id": "30352884",
   "metadata": {},
   "outputs": [
    {
     "name": "stdout",
     "output_type": "stream",
     "text": [
      "<class 'pandas.core.frame.DataFrame'>\n",
      "RangeIndex: 3000000 entries, 0 to 2999999\n",
      "Data columns (total 10 columns):\n",
      " #   Column              Dtype  \n",
      "---  ------              -----  \n",
      " 0   Id                  object \n",
      " 1   Title               object \n",
      " 2   Price               float64\n",
      " 3   User_id             object \n",
      " 4   profileName         object \n",
      " 5   review/helpfulness  object \n",
      " 6   review/score        float64\n",
      " 7   review/time         int64  \n",
      " 8   review/summary      object \n",
      " 9   review/text         object \n",
      "dtypes: float64(2), int64(1), object(7)\n",
      "memory usage: 228.9+ MB\n"
     ]
    }
   ],
   "source": [
    "ratings.info()"
   ]
  },
  {
   "cell_type": "code",
   "execution_count": 250,
   "id": "1cd980e8",
   "metadata": {},
   "outputs": [
    {
     "name": "stdout",
     "output_type": "stream",
     "text": [
      "Total rows: 3000000\n",
      "Total columns: 10\n",
      "Null values: 3643144\n"
     ]
    }
   ],
   "source": [
    "# ratings shape\n",
    "print(f\"Total rows: {ratings.shape[0]}\")\n",
    "print(f\"Total columns: {ratings.shape[1]}\")\n",
    "print(f\"Null values: {ratings.isna().sum().sum()}\")"
   ]
  },
  {
   "cell_type": "code",
   "execution_count": 251,
   "id": "50ce8671",
   "metadata": {
    "scrolled": false
   },
   "outputs": [
    {
     "data": {
      "text/plain": [
       "Id                          0\n",
       "Title                     208\n",
       "Price                 2518829\n",
       "User_id                561787\n",
       "profileName            561905\n",
       "review/helpfulness          0\n",
       "review/score                0\n",
       "review/time                 0\n",
       "review/summary            407\n",
       "review/text                 8\n",
       "dtype: int64"
      ]
     },
     "execution_count": 251,
     "metadata": {},
     "output_type": "execute_result"
    }
   ],
   "source": [
    "# ratings NaN values\n",
    "ratings.isna().sum()"
   ]
  },
  {
   "attachments": {},
   "cell_type": "markdown",
   "id": "826ddfa1",
   "metadata": {},
   "source": [
    "#### 2.1.1 Cleaning `ratings` data frame: <a class=\"anchor\" id=\"_2.1.1\"></a>"
   ]
  },
  {
   "attachments": {},
   "cell_type": "markdown",
   "id": "18813610",
   "metadata": {},
   "source": [
    "##### A. Droping NaN values (Title, User_id)\n",
    "- The `Title` and `User_id` columns are essential for the project, and therefore, any rows with NaN values in these columns will be removed."
   ]
  },
  {
   "cell_type": "code",
   "execution_count": 252,
   "id": "ad0439e8",
   "metadata": {},
   "outputs": [],
   "source": [
    "ratings.dropna(subset=[\"Title\",\"User_id\"],inplace = True)"
   ]
  },
  {
   "cell_type": "code",
   "execution_count": 253,
   "id": "49cc26d1",
   "metadata": {},
   "outputs": [
    {
     "data": {
      "text/plain": [
       "Id                          0\n",
       "Title                       0\n",
       "Price                 2023443\n",
       "User_id                     0\n",
       "profileName               118\n",
       "review/helpfulness          0\n",
       "review/score                0\n",
       "review/time                 0\n",
       "review/summary            397\n",
       "review/text                 1\n",
       "dtype: int64"
      ]
     },
     "execution_count": 253,
     "metadata": {},
     "output_type": "execute_result"
    }
   ],
   "source": [
    "ratings.isna().sum()"
   ]
  },
  {
   "attachments": {},
   "cell_type": "markdown",
   "id": "2395a4ec",
   "metadata": {},
   "source": [
    "The `review/text` and  `review/summary` columns have 1 and 29 NaN values each, since this amounts are not significant, those records will be droped."
   ]
  },
  {
   "cell_type": "code",
   "execution_count": 254,
   "id": "29bb46d9",
   "metadata": {},
   "outputs": [],
   "source": [
    "# drop review/summary NaN values\n",
    "ratings.dropna(subset=[\"review/summary\"],inplace = True)\n",
    "\n",
    "# drop review/text NaN values\n",
    "ratings.dropna(subset=[\"review/text\"],inplace = True)"
   ]
  },
  {
   "cell_type": "code",
   "execution_count": 255,
   "id": "b8162515",
   "metadata": {},
   "outputs": [
    {
     "data": {
      "text/plain": [
       "(2437620, 10)"
      ]
     },
     "execution_count": 255,
     "metadata": {},
     "output_type": "execute_result"
    }
   ],
   "source": [
    "ratings.shape"
   ]
  },
  {
   "attachments": {},
   "cell_type": "markdown",
   "id": "5efa3ea4",
   "metadata": {},
   "source": [
    "##### B. Duplicate rows"
   ]
  },
  {
   "cell_type": "code",
   "execution_count": 256,
   "id": "e1f37123",
   "metadata": {},
   "outputs": [
    {
     "data": {
      "text/plain": [
       "5546"
      ]
     },
     "execution_count": 256,
     "metadata": {},
     "output_type": "execute_result"
    }
   ],
   "source": [
    "# Calculate the number of duplicated rows\n",
    "ratings.duplicated().sum()"
   ]
  },
  {
   "cell_type": "code",
   "execution_count": 257,
   "id": "f9a34895",
   "metadata": {},
   "outputs": [
    {
     "data": {
      "text/plain": [
       "(2432074, 10)"
      ]
     },
     "execution_count": 257,
     "metadata": {},
     "output_type": "execute_result"
    }
   ],
   "source": [
    "# Drop the duplicated rows\n",
    "ratings.drop_duplicates(inplace=True)\n",
    "ratings.shape"
   ]
  },
  {
   "attachments": {},
   "cell_type": "markdown",
   "id": "5b8453b2",
   "metadata": {},
   "source": [
    "##### C. Cleanign Title column"
   ]
  },
  {
   "cell_type": "code",
   "execution_count": 258,
   "id": "c5431b4e",
   "metadata": {},
   "outputs": [],
   "source": [
    "# Cleaning title column from ratings data frame\n",
    "\n",
    "# Remove the extra space from the title column\n",
    "ratings['Title'] = ratings['Title'].str.strip()\n",
    "\n",
    "# remove the punctuation from the Title column\n",
    "ratings['Title'] = ratings['Title'].str.replace('[^\\w\\s]','')"
   ]
  },
  {
   "cell_type": "code",
   "execution_count": 259,
   "id": "3b819ca5",
   "metadata": {},
   "outputs": [
    {
     "data": {
      "text/plain": [
       "Title\n",
       "The Hobbit                                                             17854\n",
       "Pride and Prejudice                                                    17739\n",
       "Atlas Shrugged                                                         10741\n",
       "Wuthering Heights                                                       8570\n",
       "Great Expectations                                                      5648\n",
       "Mere Christianity                                                       5495\n",
       "The Picture of Dorian Gray                                              5280\n",
       "Persuasion                                                              5160\n",
       "Brave New World                                                         5124\n",
       "Of Mice and Men                                                         4613\n",
       "The Great Gatsby                                                        4284\n",
       "The Scarlet Letter A Romance                                            3841\n",
       "The Giver                                                               3834\n",
       "Harry Potter and The Sorcerer's Stone                                   3729\n",
       "The Hobbit There and Back Again                                         3675\n",
       "The Hobbitt, or there and back again; illustrated by the author.        3658\n",
       "The Hobbit or There and Back Again                                      3610\n",
       "Fahrenheit 451                                                          3522\n",
       "The Hobbit; Or, There and Back Again                                    3496\n",
       "To kill a mockingbird                                                   3323\n",
       "Little Women                                                            3276\n",
       "Unfit for Command: Swift Boat Veterans Speak Out Against John Kerry     3007\n",
       "Ulysses                                                                 2932\n",
       "1984                                                                    2924\n",
       "Blink: The Power of Thinking Without Thinking                           2849\n",
       "Alice's Adventures in Wonderland                                        2817\n",
       "A Tree Grows in Brooklyn                                                2776\n",
       "East of Eden                                                            2748\n",
       "The Hitchhiker's Guide to the Galaxy                                    2698\n",
       "Gone with the Wind                                                      2600\n",
       "Night                                                                   2568\n",
       "The Stranger                                                            2511\n",
       "Slaughterhouse-Five                                                     2489\n",
       "Man's Search for Meaning                                                2424\n",
       "Jane Eyre                                                               2363\n",
       "Name: count, dtype: int64"
      ]
     },
     "execution_count": 259,
     "metadata": {},
     "output_type": "execute_result"
    }
   ],
   "source": [
    "clean_title = ratings['Title'].value_counts()\n",
    "clean_title.head(35)"
   ]
  },
  {
   "cell_type": "code",
   "execution_count": 260,
   "id": "90f5331e",
   "metadata": {},
   "outputs": [
    {
     "name": "stdout",
     "output_type": "stream",
     "text": [
      "Shape: (2432074, 10)\n",
      "Number of Unique Users: 1008822\n",
      "Number of Unique Titles: 206706\n"
     ]
    }
   ],
   "source": [
    "# Identify the number of unique users and titles\n",
    "print(\"Shape:\", ratings.shape)\n",
    "print(\"Number of Unique Users:\",len(ratings[\"User_id\"].unique()))\n",
    "print(\"Number of Unique Titles:\",len(ratings[\"Title\"].unique()))"
   ]
  },
  {
   "attachments": {},
   "cell_type": "markdown",
   "id": "a31a2b16",
   "metadata": {},
   "source": [
    "#### 2.1.2 `ratings` feature engineering: <a class=\"anchor\" id=\"_2.1.2\"></a>"
   ]
  },
  {
   "cell_type": "code",
   "execution_count": 261,
   "id": "9ce18d79",
   "metadata": {},
   "outputs": [
    {
     "data": {
      "text/html": [
       "<div>\n",
       "<style scoped>\n",
       "    .dataframe tbody tr th:only-of-type {\n",
       "        vertical-align: middle;\n",
       "    }\n",
       "\n",
       "    .dataframe tbody tr th {\n",
       "        vertical-align: top;\n",
       "    }\n",
       "\n",
       "    .dataframe thead th {\n",
       "        text-align: right;\n",
       "    }\n",
       "</style>\n",
       "<table border=\"1\" class=\"dataframe\">\n",
       "  <thead>\n",
       "    <tr style=\"text-align: right;\">\n",
       "      <th></th>\n",
       "      <th>Id</th>\n",
       "      <th>Title</th>\n",
       "      <th>Price</th>\n",
       "      <th>User_id</th>\n",
       "      <th>profileName</th>\n",
       "      <th>review/helpfulness</th>\n",
       "      <th>review/score</th>\n",
       "      <th>review/time</th>\n",
       "      <th>review/summary</th>\n",
       "      <th>review/text</th>\n",
       "    </tr>\n",
       "  </thead>\n",
       "  <tbody>\n",
       "    <tr>\n",
       "      <th>26476</th>\n",
       "      <td>B0006A011C</td>\n",
       "      <td>Ransom</td>\n",
       "      <td>NaN</td>\n",
       "      <td>A1HPMQINW6RW9T</td>\n",
       "      <td>Jenene N. Pope</td>\n",
       "      <td>1/1</td>\n",
       "      <td>5.0</td>\n",
       "      <td>964569600</td>\n",
       "      <td>LOVED THE BOOK</td>\n",
       "      <td>I read this book last year when it came out an...</td>\n",
       "    </tr>\n",
       "  </tbody>\n",
       "</table>\n",
       "</div>"
      ],
      "text/plain": [
       "               Id   Title  Price         User_id     profileName  \\\n",
       "26476  B0006A011C  Ransom    NaN  A1HPMQINW6RW9T  Jenene N. Pope   \n",
       "\n",
       "      review/helpfulness  review/score  review/time  review/summary  \\\n",
       "26476                1/1           5.0    964569600  LOVED THE BOOK   \n",
       "\n",
       "                                             review/text  \n",
       "26476  I read this book last year when it came out an...  "
      ]
     },
     "execution_count": 261,
     "metadata": {},
     "output_type": "execute_result"
    }
   ],
   "source": [
    "ratings.sample(1)"
   ]
  },
  {
   "attachments": {},
   "cell_type": "markdown",
   "id": "50c6cd72",
   "metadata": {},
   "source": [
    "- #### A. New column: Review_Counts"
   ]
  },
  {
   "cell_type": "code",
   "execution_count": 262,
   "id": "80bd06aa",
   "metadata": {},
   "outputs": [
    {
     "data": {
      "text/plain": [
       "Title\n",
       "The Hobbit             17854\n",
       "Pride and Prejudice    17739\n",
       "Atlas Shrugged         10741\n",
       "Wuthering Heights       8570\n",
       "Great Expectations      5648\n",
       "Name: count, dtype: int64"
      ]
     },
     "execution_count": 262,
     "metadata": {},
     "output_type": "execute_result"
    }
   ],
   "source": [
    "# Create a new variable with the number records per each title\n",
    "title_counts = ratings['Title'].value_counts()\n",
    "title_counts.head(5)"
   ]
  },
  {
   "cell_type": "code",
   "execution_count": 263,
   "id": "5550c608",
   "metadata": {},
   "outputs": [
    {
     "data": {
      "text/html": [
       "<div>\n",
       "<style scoped>\n",
       "    .dataframe tbody tr th:only-of-type {\n",
       "        vertical-align: middle;\n",
       "    }\n",
       "\n",
       "    .dataframe tbody tr th {\n",
       "        vertical-align: top;\n",
       "    }\n",
       "\n",
       "    .dataframe thead th {\n",
       "        text-align: right;\n",
       "    }\n",
       "</style>\n",
       "<table border=\"1\" class=\"dataframe\">\n",
       "  <thead>\n",
       "    <tr style=\"text-align: right;\">\n",
       "      <th></th>\n",
       "      <th>Id</th>\n",
       "      <th>Title</th>\n",
       "      <th>Price</th>\n",
       "      <th>User_id</th>\n",
       "      <th>profileName</th>\n",
       "      <th>review/helpfulness</th>\n",
       "      <th>review/score</th>\n",
       "      <th>review/time</th>\n",
       "      <th>review/summary</th>\n",
       "      <th>review/text</th>\n",
       "      <th>Review_Counts</th>\n",
       "    </tr>\n",
       "  </thead>\n",
       "  <tbody>\n",
       "    <tr>\n",
       "      <th>2668298</th>\n",
       "      <td>B000GVI7JY</td>\n",
       "      <td>Cold Mountain</td>\n",
       "      <td>NaN</td>\n",
       "      <td>A1NL6NAWB5BTNF</td>\n",
       "      <td>Alexis Saba</td>\n",
       "      <td>0/0</td>\n",
       "      <td>4.0</td>\n",
       "      <td>977788800</td>\n",
       "      <td>Truly provides a life lesson</td>\n",
       "      <td>I chose this book out of many recommended by m...</td>\n",
       "      <td>782</td>\n",
       "    </tr>\n",
       "    <tr>\n",
       "      <th>242111</th>\n",
       "      <td>B000NGRMTS</td>\n",
       "      <td>A Clockwork Orange</td>\n",
       "      <td>NaN</td>\n",
       "      <td>A3PG4Q11V0E0PO</td>\n",
       "      <td>Patricia White \"believer'piseces\"</td>\n",
       "      <td>1/3</td>\n",
       "      <td>5.0</td>\n",
       "      <td>1121472000</td>\n",
       "      <td>Powerfull Novel</td>\n",
       "      <td>I don't know what's wrong with some of you peo...</td>\n",
       "      <td>1105</td>\n",
       "    </tr>\n",
       "    <tr>\n",
       "      <th>208569</th>\n",
       "      <td>055214245X</td>\n",
       "      <td>Gift</td>\n",
       "      <td>NaN</td>\n",
       "      <td>A33KT4LAR8EAME</td>\n",
       "      <td>Heather</td>\n",
       "      <td>1/1</td>\n",
       "      <td>5.0</td>\n",
       "      <td>1015891200</td>\n",
       "      <td>The Gift</td>\n",
       "      <td>The author, Danielle Steel, caught my eye righ...</td>\n",
       "      <td>63</td>\n",
       "    </tr>\n",
       "  </tbody>\n",
       "</table>\n",
       "</div>"
      ],
      "text/plain": [
       "                 Id               Title  Price         User_id  \\\n",
       "2668298  B000GVI7JY       Cold Mountain    NaN  A1NL6NAWB5BTNF   \n",
       "242111   B000NGRMTS  A Clockwork Orange    NaN  A3PG4Q11V0E0PO   \n",
       "208569   055214245X                Gift    NaN  A33KT4LAR8EAME   \n",
       "\n",
       "                               profileName review/helpfulness  review/score  \\\n",
       "2668298                        Alexis Saba                0/0           4.0   \n",
       "242111   Patricia White \"believer'piseces\"                1/3           5.0   \n",
       "208569                             Heather                1/1           5.0   \n",
       "\n",
       "         review/time                review/summary  \\\n",
       "2668298    977788800  Truly provides a life lesson   \n",
       "242111    1121472000               Powerfull Novel   \n",
       "208569    1015891200                      The Gift   \n",
       "\n",
       "                                               review/text  Review_Counts  \n",
       "2668298  I chose this book out of many recommended by m...            782  \n",
       "242111   I don't know what's wrong with some of you peo...           1105  \n",
       "208569   The author, Danielle Steel, caught my eye righ...             63  "
      ]
     },
     "execution_count": 263,
     "metadata": {},
     "output_type": "execute_result"
    }
   ],
   "source": [
    "# The number of records per title is equal to the number of reviews per title, \n",
    "# Therefore we can create a new column to the ratings data frame with the number of reviews per title `Review_Counts`\n",
    "ratings[\"Review_Counts\"] = ratings[\"Title\"].map(title_counts)\n",
    "ratings.sample(3)"
   ]
  },
  {
   "cell_type": "code",
   "execution_count": 264,
   "id": "ab0dd91b",
   "metadata": {},
   "outputs": [
    {
     "data": {
      "text/html": [
       "<div>\n",
       "<style scoped>\n",
       "    .dataframe tbody tr th:only-of-type {\n",
       "        vertical-align: middle;\n",
       "    }\n",
       "\n",
       "    .dataframe tbody tr th {\n",
       "        vertical-align: top;\n",
       "    }\n",
       "\n",
       "    .dataframe thead th {\n",
       "        text-align: right;\n",
       "    }\n",
       "</style>\n",
       "<table border=\"1\" class=\"dataframe\">\n",
       "  <thead>\n",
       "    <tr style=\"text-align: right;\">\n",
       "      <th></th>\n",
       "      <th>Id</th>\n",
       "      <th>Title</th>\n",
       "      <th>Price</th>\n",
       "      <th>User_id</th>\n",
       "      <th>profileName</th>\n",
       "      <th>review/helpfulness</th>\n",
       "      <th>review/score</th>\n",
       "      <th>review/time</th>\n",
       "      <th>review/summary</th>\n",
       "      <th>review/text</th>\n",
       "      <th>Review_Counts</th>\n",
       "    </tr>\n",
       "  </thead>\n",
       "  <tbody>\n",
       "    <tr>\n",
       "      <th>2363198</th>\n",
       "      <td>B000NBH78O</td>\n",
       "      <td>French Hand Sewing, Vol. 1</td>\n",
       "      <td>NaN</td>\n",
       "      <td>A1PHDSHG09FQYT</td>\n",
       "      <td>Virginia Popper</td>\n",
       "      <td>2/3</td>\n",
       "      <td>5.0</td>\n",
       "      <td>1187136000</td>\n",
       "      <td>Essential Reference</td>\n",
       "      <td>I am glad that out-of-print books are so readi...</td>\n",
       "      <td>4</td>\n",
       "    </tr>\n",
       "    <tr>\n",
       "      <th>2363199</th>\n",
       "      <td>B000NBH78O</td>\n",
       "      <td>French Hand Sewing, Vol. 1</td>\n",
       "      <td>NaN</td>\n",
       "      <td>A3TVB34TUT4DOF</td>\n",
       "      <td>T.Lizzee</td>\n",
       "      <td>0/0</td>\n",
       "      <td>5.0</td>\n",
       "      <td>1355875200</td>\n",
       "      <td>By the master of French hand sewing</td>\n",
       "      <td>Beautiful book, the only one I have found with...</td>\n",
       "      <td>4</td>\n",
       "    </tr>\n",
       "    <tr>\n",
       "      <th>2363200</th>\n",
       "      <td>B000NBH78O</td>\n",
       "      <td>French Hand Sewing, Vol. 1</td>\n",
       "      <td>NaN</td>\n",
       "      <td>A6RDL9WUMSGWA</td>\n",
       "      <td>S. Roncevaux</td>\n",
       "      <td>0/0</td>\n",
       "      <td>5.0</td>\n",
       "      <td>1289433600</td>\n",
       "      <td>A Great Book!</td>\n",
       "      <td>I haven't put the instructions to actual pract...</td>\n",
       "      <td>4</td>\n",
       "    </tr>\n",
       "    <tr>\n",
       "      <th>2363201</th>\n",
       "      <td>B000NBH78O</td>\n",
       "      <td>French Hand Sewing, Vol. 1</td>\n",
       "      <td>NaN</td>\n",
       "      <td>A29HWEN7ZBFENT</td>\n",
       "      <td>wild child's mom</td>\n",
       "      <td>0/0</td>\n",
       "      <td>5.0</td>\n",
       "      <td>1252713600</td>\n",
       "      <td>Fabulous!</td>\n",
       "      <td>This invaluable book covers all aspects of bea...</td>\n",
       "      <td>4</td>\n",
       "    </tr>\n",
       "  </tbody>\n",
       "</table>\n",
       "</div>"
      ],
      "text/plain": [
       "                 Id                       Title  Price         User_id  \\\n",
       "2363198  B000NBH78O  French Hand Sewing, Vol. 1    NaN  A1PHDSHG09FQYT   \n",
       "2363199  B000NBH78O  French Hand Sewing, Vol. 1    NaN  A3TVB34TUT4DOF   \n",
       "2363200  B000NBH78O  French Hand Sewing, Vol. 1    NaN   A6RDL9WUMSGWA   \n",
       "2363201  B000NBH78O  French Hand Sewing, Vol. 1    NaN  A29HWEN7ZBFENT   \n",
       "\n",
       "              profileName review/helpfulness  review/score  review/time  \\\n",
       "2363198   Virginia Popper                2/3           5.0   1187136000   \n",
       "2363199          T.Lizzee                0/0           5.0   1355875200   \n",
       "2363200      S. Roncevaux                0/0           5.0   1289433600   \n",
       "2363201  wild child's mom                0/0           5.0   1252713600   \n",
       "\n",
       "                              review/summary  \\\n",
       "2363198                  Essential Reference   \n",
       "2363199  By the master of French hand sewing   \n",
       "2363200                        A Great Book!   \n",
       "2363201                            Fabulous!   \n",
       "\n",
       "                                               review/text  Review_Counts  \n",
       "2363198  I am glad that out-of-print books are so readi...              4  \n",
       "2363199  Beautiful book, the only one I have found with...              4  \n",
       "2363200  I haven't put the instructions to actual pract...              4  \n",
       "2363201  This invaluable book covers all aspects of bea...              4  "
      ]
     },
     "execution_count": 264,
     "metadata": {},
     "output_type": "execute_result"
    }
   ],
   "source": [
    "# Checking the new column Review_Counts\n",
    "# Searching the review Id=B000NBH78O to verify the Review_Counts column\n",
    "ratings[ratings[\"Id\"] == \"B000NBH78O\"]"
   ]
  },
  {
   "attachments": {},
   "cell_type": "markdown",
   "id": "cea985bf",
   "metadata": {},
   "source": [
    "- #### B. Selecting Columns for the desired data frame\n",
    "    - `Price`: Will not be consider for the analysis due to having 2023443 NaN vaules which is around 82% of the records. \n",
    "    - `profileName`: Will not be consider for the analysis since we would use `User_id` as the identifier.\n",
    "    - `review/time`, `review/helpfulness` : Will not be consider for the analysis."
   ]
  },
  {
   "cell_type": "code",
   "execution_count": 265,
   "id": "0f22079e",
   "metadata": {},
   "outputs": [
    {
     "data": {
      "text/html": [
       "<div>\n",
       "<style scoped>\n",
       "    .dataframe tbody tr th:only-of-type {\n",
       "        vertical-align: middle;\n",
       "    }\n",
       "\n",
       "    .dataframe tbody tr th {\n",
       "        vertical-align: top;\n",
       "    }\n",
       "\n",
       "    .dataframe thead th {\n",
       "        text-align: right;\n",
       "    }\n",
       "</style>\n",
       "<table border=\"1\" class=\"dataframe\">\n",
       "  <thead>\n",
       "    <tr style=\"text-align: right;\">\n",
       "      <th></th>\n",
       "      <th>RatingID</th>\n",
       "      <th>BookTitle</th>\n",
       "      <th>UserID</th>\n",
       "      <th>Review_Score</th>\n",
       "      <th>Review_Summary</th>\n",
       "      <th>Review_Text</th>\n",
       "      <th>Review_Counts</th>\n",
       "    </tr>\n",
       "  </thead>\n",
       "  <tbody>\n",
       "    <tr>\n",
       "      <th>1939223</th>\n",
       "      <td>B0009K762Q</td>\n",
       "      <td>The News from Paraguay : A Novel</td>\n",
       "      <td>A1ZOBNDLY8M0AA</td>\n",
       "      <td>2.0</td>\n",
       "      <td>Where's the Beef?</td>\n",
       "      <td>Clara Peller's immortal line in the old burger...</td>\n",
       "      <td>43</td>\n",
       "    </tr>\n",
       "    <tr>\n",
       "      <th>828020</th>\n",
       "      <td>1593355548</td>\n",
       "      <td>Wuthering Heights</td>\n",
       "      <td>A11HCTHM2K2IN4</td>\n",
       "      <td>4.0</td>\n",
       "      <td>A book for the romantic</td>\n",
       "      <td>Opion of Book:The book was pretty good, but a ...</td>\n",
       "      <td>8570</td>\n",
       "    </tr>\n",
       "    <tr>\n",
       "      <th>1056410</th>\n",
       "      <td>B0007HPUV0</td>\n",
       "      <td>Hiroshima</td>\n",
       "      <td>A3H2CKTFZ3B3GD</td>\n",
       "      <td>5.0</td>\n",
       "      <td>Testament to both man's violence and unselfish...</td>\n",
       "      <td>There are works of fiction and nonfiction that...</td>\n",
       "      <td>729</td>\n",
       "    </tr>\n",
       "  </tbody>\n",
       "</table>\n",
       "</div>"
      ],
      "text/plain": [
       "           RatingID                         BookTitle          UserID  \\\n",
       "1939223  B0009K762Q  The News from Paraguay : A Novel  A1ZOBNDLY8M0AA   \n",
       "828020   1593355548                 Wuthering Heights  A11HCTHM2K2IN4   \n",
       "1056410  B0007HPUV0                         Hiroshima  A3H2CKTFZ3B3GD   \n",
       "\n",
       "         Review_Score                                     Review_Summary  \\\n",
       "1939223           2.0                                  Where's the Beef?   \n",
       "828020            4.0                            A book for the romantic   \n",
       "1056410           5.0  Testament to both man's violence and unselfish...   \n",
       "\n",
       "                                               Review_Text  Review_Counts  \n",
       "1939223  Clara Peller's immortal line in the old burger...             43  \n",
       "828020   Opion of Book:The book was pretty good, but a ...           8570  \n",
       "1056410  There are works of fiction and nonfiction that...            729  "
      ]
     },
     "execution_count": 265,
     "metadata": {},
     "output_type": "execute_result"
    }
   ],
   "source": [
    "rating_df = ratings[[\"Id\",\"Title\",\"User_id\",\"review/score\",\"review/summary\",\"review/text\",\"Review_Counts\"]]\n",
    "\n",
    "rating_df = rating_df.rename(columns={\n",
    "    \"Id\": \"RatingID\",\n",
    "    \"Title\": \"BookTitle\",\n",
    "    \"User_id\": \"UserID\",\n",
    "    \"review/score\": \"Review_Score\",\n",
    "    \"review/summary\": \"Review_Summary\",\n",
    "    \"review/text\": \"Review_Text\",\n",
    "    \"Review_Counts\": \"Review_Counts\"\n",
    "})\n",
    "\n",
    "rating_df.sample(3)"
   ]
  },
  {
   "cell_type": "code",
   "execution_count": 266,
   "id": "26c5eddb",
   "metadata": {
    "scrolled": true
   },
   "outputs": [
    {
     "data": {
      "text/plain": [
       "RatingID          0\n",
       "BookTitle         0\n",
       "UserID            0\n",
       "Review_Score      0\n",
       "Review_Summary    0\n",
       "Review_Text       0\n",
       "Review_Counts     0\n",
       "dtype: int64"
      ]
     },
     "execution_count": 266,
     "metadata": {},
     "output_type": "execute_result"
    }
   ],
   "source": [
    "rating_df.isna().sum()"
   ]
  },
  {
   "attachments": {},
   "cell_type": "markdown",
   "id": "22899e5f",
   "metadata": {},
   "source": [
    "### 2.2 `books` data exploration <a class=\"anchor\" id=\"_2.2\"></a>"
   ]
  },
  {
   "cell_type": "code",
   "execution_count": 267,
   "id": "3c436d31",
   "metadata": {
    "scrolled": false
   },
   "outputs": [
    {
     "data": {
      "text/html": [
       "<div>\n",
       "<style scoped>\n",
       "    .dataframe tbody tr th:only-of-type {\n",
       "        vertical-align: middle;\n",
       "    }\n",
       "\n",
       "    .dataframe tbody tr th {\n",
       "        vertical-align: top;\n",
       "    }\n",
       "\n",
       "    .dataframe thead th {\n",
       "        text-align: right;\n",
       "    }\n",
       "</style>\n",
       "<table border=\"1\" class=\"dataframe\">\n",
       "  <thead>\n",
       "    <tr style=\"text-align: right;\">\n",
       "      <th></th>\n",
       "      <th>Title</th>\n",
       "      <th>description</th>\n",
       "      <th>authors</th>\n",
       "      <th>image</th>\n",
       "      <th>previewLink</th>\n",
       "      <th>publisher</th>\n",
       "      <th>publishedDate</th>\n",
       "      <th>infoLink</th>\n",
       "      <th>categories</th>\n",
       "      <th>ratingsCount</th>\n",
       "      <th>Unnamed: 10</th>\n",
       "      <th>Unnamed: 11</th>\n",
       "      <th>Unnamed: 12</th>\n",
       "      <th>Title.1</th>\n",
       "      <th>Unnamed: 14</th>\n",
       "    </tr>\n",
       "  </thead>\n",
       "  <tbody>\n",
       "    <tr>\n",
       "      <th>166757</th>\n",
       "      <td>War Drums (White Indian (Americana))</td>\n",
       "      <td>NaN</td>\n",
       "      <td>['Donald Clayton Porter']</td>\n",
       "      <td>http://books.google.com/books/content?id=EK13P...</td>\n",
       "      <td>http://books.google.com/books?id=EK13PwAACAAJ&amp;...</td>\n",
       "      <td>Domain</td>\n",
       "      <td>1984-04-01</td>\n",
       "      <td>http://books.google.com/books?id=EK13PwAACAAJ&amp;...</td>\n",
       "      <td>['Fiction']</td>\n",
       "      <td>3.0</td>\n",
       "      <td>NaN</td>\n",
       "      <td>NaN</td>\n",
       "      <td>NaN</td>\n",
       "      <td>NaN</td>\n",
       "      <td>NaN</td>\n",
       "    </tr>\n",
       "  </tbody>\n",
       "</table>\n",
       "</div>"
      ],
      "text/plain": [
       "                                       Title description  \\\n",
       "166757  War Drums (White Indian (Americana))         NaN   \n",
       "\n",
       "                          authors  \\\n",
       "166757  ['Donald Clayton Porter']   \n",
       "\n",
       "                                                    image  \\\n",
       "166757  http://books.google.com/books/content?id=EK13P...   \n",
       "\n",
       "                                              previewLink publisher  \\\n",
       "166757  http://books.google.com/books?id=EK13PwAACAAJ&...    Domain   \n",
       "\n",
       "       publishedDate                                           infoLink  \\\n",
       "166757    1984-04-01  http://books.google.com/books?id=EK13PwAACAAJ&...   \n",
       "\n",
       "         categories  ratingsCount  Unnamed: 10  Unnamed: 11  Unnamed: 12  \\\n",
       "166757  ['Fiction']           3.0          NaN          NaN          NaN   \n",
       "\n",
       "       Title.1 Unnamed: 14  \n",
       "166757     NaN         NaN  "
      ]
     },
     "execution_count": 267,
     "metadata": {},
     "output_type": "execute_result"
    }
   ],
   "source": [
    "books.sample(1)"
   ]
  },
  {
   "cell_type": "code",
   "execution_count": 268,
   "id": "d7f63f65",
   "metadata": {},
   "outputs": [
    {
     "name": "stdout",
     "output_type": "stream",
     "text": [
      "<class 'pandas.core.frame.DataFrame'>\n",
      "RangeIndex: 212404 entries, 0 to 212403\n",
      "Data columns (total 15 columns):\n",
      " #   Column         Non-Null Count   Dtype  \n",
      "---  ------         --------------   -----  \n",
      " 0   Title          212403 non-null  object \n",
      " 1   description    143962 non-null  object \n",
      " 2   authors        180991 non-null  object \n",
      " 3   image          160329 non-null  object \n",
      " 4   previewLink    188568 non-null  object \n",
      " 5   publisher      136518 non-null  object \n",
      " 6   publishedDate  187090 non-null  object \n",
      " 7   infoLink       188568 non-null  object \n",
      " 8   categories     171205 non-null  object \n",
      " 9   ratingsCount   49752 non-null   float64\n",
      " 10  Unnamed: 10    0 non-null       float64\n",
      " 11  Unnamed: 11    0 non-null       float64\n",
      " 12  Unnamed: 12    0 non-null       float64\n",
      " 13  Title.1        10 non-null      object \n",
      " 14  Unnamed: 14    1 non-null       object \n",
      "dtypes: float64(4), object(11)\n",
      "memory usage: 24.3+ MB\n"
     ]
    }
   ],
   "source": [
    "books.info()"
   ]
  },
  {
   "cell_type": "code",
   "execution_count": 269,
   "id": "7884fd1f",
   "metadata": {},
   "outputs": [
    {
     "name": "stdout",
     "output_type": "stream",
     "text": [
      "Total rows: 212404\n",
      "Total columns: 15\n",
      "Null values: 1566663\n"
     ]
    }
   ],
   "source": [
    "# books shape\n",
    "print(f\"Total rows: {books.shape[0]}\")\n",
    "print(f\"Total columns: {books.shape[1]}\")\n",
    "print(f\"Null values: {books.isna().sum().sum()}\")"
   ]
  },
  {
   "cell_type": "code",
   "execution_count": 270,
   "id": "8ec9a737",
   "metadata": {},
   "outputs": [
    {
     "data": {
      "text/plain": [
       "Title                 1\n",
       "description       68442\n",
       "authors           31413\n",
       "image             52075\n",
       "previewLink       23836\n",
       "publisher         75886\n",
       "publishedDate     25314\n",
       "infoLink          23836\n",
       "categories        41199\n",
       "ratingsCount     162652\n",
       "Unnamed: 10      212404\n",
       "Unnamed: 11      212404\n",
       "Unnamed: 12      212404\n",
       "Title.1          212394\n",
       "Unnamed: 14      212403\n",
       "dtype: int64"
      ]
     },
     "execution_count": 270,
     "metadata": {},
     "output_type": "execute_result"
    }
   ],
   "source": [
    "books.isna().sum()"
   ]
  },
  {
   "attachments": {},
   "cell_type": "markdown",
   "id": "d50ad041",
   "metadata": {},
   "source": [
    "#### 2.2.1 Cleaning `books` data frame: <a class=\"anchor\" id=\"_2.2.1\"></a>"
   ]
  },
  {
   "attachments": {},
   "cell_type": "markdown",
   "id": "fde68b7e",
   "metadata": {},
   "source": [
    "##### A. Droping NaN columns\n",
    "The columns: `Unnamed: 10`, `Unnamed: 11`, `Unnamed: 12`, `Title.1`, `Unnamed: 14`, are practically NaN values so they will be droped    \n"
   ]
  },
  {
   "cell_type": "code",
   "execution_count": 271,
   "id": "976540c6",
   "metadata": {},
   "outputs": [],
   "source": [
    "books = books.drop([\"Unnamed: 10\",\"Unnamed: 11\",\"Unnamed: 12\",\"Title.1\",\"Unnamed: 14\"],axis=1)"
   ]
  },
  {
   "attachments": {},
   "cell_type": "markdown",
   "id": "ba56e0e6",
   "metadata": {},
   "source": [
    "##### B. Duplicate rows"
   ]
  },
  {
   "cell_type": "code",
   "execution_count": 272,
   "id": "35a92720",
   "metadata": {},
   "outputs": [
    {
     "data": {
      "text/plain": [
       "0"
      ]
     },
     "execution_count": 272,
     "metadata": {},
     "output_type": "execute_result"
    }
   ],
   "source": [
    "# Calculate the number of duplicated rows\n",
    "books.duplicated().sum()"
   ]
  },
  {
   "cell_type": "code",
   "execution_count": 273,
   "id": "b6b4fdde",
   "metadata": {},
   "outputs": [
    {
     "data": {
      "text/plain": [
       "(212404, 10)"
      ]
     },
     "execution_count": 273,
     "metadata": {},
     "output_type": "execute_result"
    }
   ],
   "source": [
    "# Drop the duplicated rows\n",
    "books.drop_duplicates(inplace=True)\n",
    "books.shape"
   ]
  },
  {
   "attachments": {},
   "cell_type": "markdown",
   "id": "09b7bdc9",
   "metadata": {},
   "source": [
    "##### C. Droping columns that are not needed for the analysis\n",
    "- The columns: `image`, `previewLink`, `infoLink `, will not be used in the analysis\n",
    "\n"
   ]
  },
  {
   "cell_type": "code",
   "execution_count": 274,
   "id": "304fb1f5",
   "metadata": {},
   "outputs": [],
   "source": [
    "books = books.drop([\"image\",\"previewLink\",\"infoLink\"],axis=1)"
   ]
  },
  {
   "attachments": {},
   "cell_type": "markdown",
   "id": "767aea5b",
   "metadata": {},
   "source": [
    "##### D. Droping NaN Values"
   ]
  },
  {
   "cell_type": "code",
   "execution_count": 275,
   "id": "a973aa67",
   "metadata": {},
   "outputs": [
    {
     "data": {
      "text/plain": [
       "Title                 1\n",
       "description       68442\n",
       "authors           31413\n",
       "publisher         75886\n",
       "publishedDate     25314\n",
       "categories        41199\n",
       "ratingsCount     162652\n",
       "dtype: int64"
      ]
     },
     "execution_count": 275,
     "metadata": {},
     "output_type": "execute_result"
    }
   ],
   "source": [
    "books.isna().sum()"
   ]
  },
  {
   "cell_type": "code",
   "execution_count": 276,
   "id": "07776983",
   "metadata": {},
   "outputs": [
    {
     "data": {
      "text/plain": [
       "Title             0.000471\n",
       "description      32.222557\n",
       "authors          14.789270\n",
       "publisher        35.727199\n",
       "publishedDate    11.917855\n",
       "categories       19.396527\n",
       "ratingsCount     76.576712\n",
       "dtype: float64"
      ]
     },
     "execution_count": 276,
     "metadata": {},
     "output_type": "execute_result"
    }
   ],
   "source": [
    "# calculate the percentage of nan values in each column\n",
    "nan_percent = books.isna().sum() / len(books) * 100\n",
    "nan_percent"
   ]
  },
  {
   "attachments": {},
   "cell_type": "markdown",
   "id": "e5a4d549",
   "metadata": {},
   "source": [
    "- Since the `ratingsCount` column has 76% of NaN values, the column will be droped, and this feature will be calculated using the ratings dataframe\n",
    "- Since the `publisher` column has over 35% of their values NaN, this column will be droped\n",
    "- Since the `Title` column has only 1 NaN value, this one will be droped\n",
    "- Since the `description` column has over 32% of NaN values, this records will be droped\n",
    "\n"
   ]
  },
  {
   "cell_type": "code",
   "execution_count": 277,
   "id": "47ca45b6",
   "metadata": {},
   "outputs": [],
   "source": [
    "# Drop ratingsCount and publisher columns\n",
    "books = books.drop([\"ratingsCount\",\"publisher\"],axis=1)"
   ]
  },
  {
   "cell_type": "code",
   "execution_count": 278,
   "id": "8b87829f",
   "metadata": {},
   "outputs": [],
   "source": [
    "# drop the Title nan values\n",
    "books.dropna(subset=[\"Title\"],inplace = True)\n",
    "\n",
    "# drop the description nan values\n",
    "books.dropna(subset=[\"description\"],inplace = True)"
   ]
  },
  {
   "cell_type": "code",
   "execution_count": 279,
   "id": "fff6c213",
   "metadata": {},
   "outputs": [
    {
     "data": {
      "text/plain": [
       "(143962, 5)"
      ]
     },
     "execution_count": 279,
     "metadata": {},
     "output_type": "execute_result"
    }
   ],
   "source": [
    "books.shape"
   ]
  },
  {
   "cell_type": "code",
   "execution_count": 280,
   "id": "5b63e3c8",
   "metadata": {},
   "outputs": [
    {
     "data": {
      "text/plain": [
       "Title            0.000000\n",
       "description      0.000000\n",
       "authors          1.533043\n",
       "publishedDate    0.294522\n",
       "categories       4.219169\n",
       "dtype: float64"
      ]
     },
     "execution_count": 280,
     "metadata": {},
     "output_type": "execute_result"
    }
   ],
   "source": [
    "# Checking the nan values in the books data frame\n",
    "nan_percent = books.isna().sum() / len(books) * 100\n",
    "nan_percent"
   ]
  },
  {
   "cell_type": "code",
   "execution_count": 281,
   "id": "294c42dc",
   "metadata": {},
   "outputs": [],
   "source": [
    "# Dropping the remaining nan values as they are less than 5% of the data frame\n",
    "\n",
    "# drop the nan values from the authors column\n",
    "books.dropna(subset=[\"authors\"],inplace = True)\n",
    "\n",
    "# drop the nan values from the categories column\n",
    "books.dropna(subset=[\"categories\"],inplace = True)\n",
    "\n",
    "# drop the nan values from the publishedDate column\n",
    "books.dropna(subset=[\"publishedDate\"],inplace = True)"
   ]
  },
  {
   "attachments": {},
   "cell_type": "markdown",
   "id": "19255371",
   "metadata": {},
   "source": [
    "##### E. Cleaning the Title column"
   ]
  },
  {
   "cell_type": "code",
   "execution_count": 282,
   "id": "2d93c952",
   "metadata": {},
   "outputs": [],
   "source": [
    "# cleaning the Title column\n",
    "\n",
    "# remove the extra spaces\n",
    "books[\"Title\"] = books[\"Title\"].str.strip()\n",
    "\n",
    "# remove the punctuation from the Title column\n",
    "books['Title'] = books['Title'].str.replace('[^\\w\\s]','')"
   ]
  },
  {
   "attachments": {},
   "cell_type": "markdown",
   "id": "f2d0e667",
   "metadata": {},
   "source": [
    "##### F. Cleaning the categories column"
   ]
  },
  {
   "cell_type": "code",
   "execution_count": 283,
   "id": "8b0156ba",
   "metadata": {},
   "outputs": [],
   "source": [
    "# Define a function to remove the square brackets \n",
    "def remove_square_brackets(text):\n",
    "\n",
    "    cleaned_text = re.sub(r\"^\\['|\\']$\", '', text)\n",
    "    return cleaned_text"
   ]
  },
  {
   "cell_type": "code",
   "execution_count": 284,
   "id": "294190bb",
   "metadata": {},
   "outputs": [
    {
     "data": {
      "text/html": [
       "<div>\n",
       "<style scoped>\n",
       "    .dataframe tbody tr th:only-of-type {\n",
       "        vertical-align: middle;\n",
       "    }\n",
       "\n",
       "    .dataframe tbody tr th {\n",
       "        vertical-align: top;\n",
       "    }\n",
       "\n",
       "    .dataframe thead th {\n",
       "        text-align: right;\n",
       "    }\n",
       "</style>\n",
       "<table border=\"1\" class=\"dataframe\">\n",
       "  <thead>\n",
       "    <tr style=\"text-align: right;\">\n",
       "      <th></th>\n",
       "      <th>Title</th>\n",
       "      <th>description</th>\n",
       "      <th>authors</th>\n",
       "      <th>publishedDate</th>\n",
       "      <th>categories</th>\n",
       "    </tr>\n",
       "  </thead>\n",
       "  <tbody>\n",
       "    <tr>\n",
       "      <th>1</th>\n",
       "      <td>Dr. Seuss: American Icon</td>\n",
       "      <td>Philip Nel takes a fascinating look into the k...</td>\n",
       "      <td>['Philip Nel']</td>\n",
       "      <td>2005-01-01</td>\n",
       "      <td>Biography &amp; Autobiography</td>\n",
       "    </tr>\n",
       "    <tr>\n",
       "      <th>2</th>\n",
       "      <td>Wonderful Worship in Smaller Churches</td>\n",
       "      <td>This resource includes twelve principles in un...</td>\n",
       "      <td>['David R. Ray']</td>\n",
       "      <td>2000</td>\n",
       "      <td>Religion</td>\n",
       "    </tr>\n",
       "    <tr>\n",
       "      <th>3</th>\n",
       "      <td>Whispers of the Wicked Saints</td>\n",
       "      <td>Julia Thomas finds her life spinning out of co...</td>\n",
       "      <td>['Veronica Haddon']</td>\n",
       "      <td>05-Feb</td>\n",
       "      <td>Fiction</td>\n",
       "    </tr>\n",
       "    <tr>\n",
       "      <th>5</th>\n",
       "      <td>The Church of Christ: A Biblical Ecclesiology ...</td>\n",
       "      <td>In The Church of Christ: A Biblical Ecclesiolo...</td>\n",
       "      <td>['Everett Ferguson']</td>\n",
       "      <td>1996</td>\n",
       "      <td>Religion</td>\n",
       "    </tr>\n",
       "    <tr>\n",
       "      <th>8</th>\n",
       "      <td>Saint Hyacinth of Poland</td>\n",
       "      <td>The story for children 10 and up of St. Hyacin...</td>\n",
       "      <td>['Mary Fabyan Windeatt']</td>\n",
       "      <td>2009-01-01</td>\n",
       "      <td>Biography &amp; Autobiography</td>\n",
       "    </tr>\n",
       "  </tbody>\n",
       "</table>\n",
       "</div>"
      ],
      "text/plain": [
       "                                               Title  \\\n",
       "1                           Dr. Seuss: American Icon   \n",
       "2              Wonderful Worship in Smaller Churches   \n",
       "3                      Whispers of the Wicked Saints   \n",
       "5  The Church of Christ: A Biblical Ecclesiology ...   \n",
       "8                           Saint Hyacinth of Poland   \n",
       "\n",
       "                                         description  \\\n",
       "1  Philip Nel takes a fascinating look into the k...   \n",
       "2  This resource includes twelve principles in un...   \n",
       "3  Julia Thomas finds her life spinning out of co...   \n",
       "5  In The Church of Christ: A Biblical Ecclesiolo...   \n",
       "8  The story for children 10 and up of St. Hyacin...   \n",
       "\n",
       "                    authors publishedDate                 categories  \n",
       "1            ['Philip Nel']    2005-01-01  Biography & Autobiography  \n",
       "2          ['David R. Ray']          2000                   Religion  \n",
       "3       ['Veronica Haddon']        05-Feb                    Fiction  \n",
       "5      ['Everett Ferguson']          1996                   Religion  \n",
       "8  ['Mary Fabyan Windeatt']    2009-01-01  Biography & Autobiography  "
      ]
     },
     "execution_count": 284,
     "metadata": {},
     "output_type": "execute_result"
    }
   ],
   "source": [
    "# Apply the function to the \"categories\" column\n",
    "books[\"categories\"] = books[\"categories\"].apply(remove_square_brackets)\n",
    "books.head(5)"
   ]
  },
  {
   "attachments": {},
   "cell_type": "markdown",
   "id": "7a6ac676",
   "metadata": {},
   "source": [
    "##### G. Cleaning the authors column"
   ]
  },
  {
   "cell_type": "code",
   "execution_count": 285,
   "id": "ce26fbb4",
   "metadata": {},
   "outputs": [
    {
     "data": {
      "text/html": [
       "<div>\n",
       "<style scoped>\n",
       "    .dataframe tbody tr th:only-of-type {\n",
       "        vertical-align: middle;\n",
       "    }\n",
       "\n",
       "    .dataframe tbody tr th {\n",
       "        vertical-align: top;\n",
       "    }\n",
       "\n",
       "    .dataframe thead th {\n",
       "        text-align: right;\n",
       "    }\n",
       "</style>\n",
       "<table border=\"1\" class=\"dataframe\">\n",
       "  <thead>\n",
       "    <tr style=\"text-align: right;\">\n",
       "      <th></th>\n",
       "      <th>Title</th>\n",
       "      <th>description</th>\n",
       "      <th>authors</th>\n",
       "      <th>publishedDate</th>\n",
       "      <th>categories</th>\n",
       "    </tr>\n",
       "  </thead>\n",
       "  <tbody>\n",
       "    <tr>\n",
       "      <th>1</th>\n",
       "      <td>Dr. Seuss: American Icon</td>\n",
       "      <td>Philip Nel takes a fascinating look into the k...</td>\n",
       "      <td>Philip Nel</td>\n",
       "      <td>2005-01-01</td>\n",
       "      <td>Biography &amp; Autobiography</td>\n",
       "    </tr>\n",
       "    <tr>\n",
       "      <th>2</th>\n",
       "      <td>Wonderful Worship in Smaller Churches</td>\n",
       "      <td>This resource includes twelve principles in un...</td>\n",
       "      <td>David R. Ray</td>\n",
       "      <td>2000</td>\n",
       "      <td>Religion</td>\n",
       "    </tr>\n",
       "    <tr>\n",
       "      <th>3</th>\n",
       "      <td>Whispers of the Wicked Saints</td>\n",
       "      <td>Julia Thomas finds her life spinning out of co...</td>\n",
       "      <td>Veronica Haddon</td>\n",
       "      <td>05-Feb</td>\n",
       "      <td>Fiction</td>\n",
       "    </tr>\n",
       "    <tr>\n",
       "      <th>5</th>\n",
       "      <td>The Church of Christ: A Biblical Ecclesiology ...</td>\n",
       "      <td>In The Church of Christ: A Biblical Ecclesiolo...</td>\n",
       "      <td>Everett Ferguson</td>\n",
       "      <td>1996</td>\n",
       "      <td>Religion</td>\n",
       "    </tr>\n",
       "    <tr>\n",
       "      <th>8</th>\n",
       "      <td>Saint Hyacinth of Poland</td>\n",
       "      <td>The story for children 10 and up of St. Hyacin...</td>\n",
       "      <td>Mary Fabyan Windeatt</td>\n",
       "      <td>2009-01-01</td>\n",
       "      <td>Biography &amp; Autobiography</td>\n",
       "    </tr>\n",
       "    <tr>\n",
       "      <th>9</th>\n",
       "      <td>Rising Sons and Daughters: Life Among Japan's ...</td>\n",
       "      <td>Wardell recalls his experience as a foreign st...</td>\n",
       "      <td>Steven Wardell</td>\n",
       "      <td>1995</td>\n",
       "      <td>Social Science</td>\n",
       "    </tr>\n",
       "    <tr>\n",
       "      <th>10</th>\n",
       "      <td>Muslim Women's Choices: Religious Belief and S...</td>\n",
       "      <td>Counters the Western views and stereotypes of ...</td>\n",
       "      <td>Camillia Fawzi El-Solh', 'Judy Mabro</td>\n",
       "      <td>1994-02-17</td>\n",
       "      <td>Religion</td>\n",
       "    </tr>\n",
       "    <tr>\n",
       "      <th>11</th>\n",
       "      <td>Dramatica for Screenwriters</td>\n",
       "      <td>Dramatica for Screenwriters by Armando Saldana...</td>\n",
       "      <td>Armando Salda A-Mora</td>\n",
       "      <td>05-Jul</td>\n",
       "      <td>Reference</td>\n",
       "    </tr>\n",
       "    <tr>\n",
       "      <th>12</th>\n",
       "      <td>Mensa Number Puzzles (Mensa Word Games for Kids)</td>\n",
       "      <td>Acclaimed teacher and puzzler Evelyn B. Christ...</td>\n",
       "      <td>Evelyn B. Christensen</td>\n",
       "      <td>2018-11-06</td>\n",
       "      <td>Juvenile Nonfiction</td>\n",
       "    </tr>\n",
       "    <tr>\n",
       "      <th>13</th>\n",
       "      <td>Vector Quantization and Signal Compression (Th...</td>\n",
       "      <td>Herb Caen, a popular columnist for the San Fra...</td>\n",
       "      <td>Allen Gersho', 'Robert M. Gray</td>\n",
       "      <td>2012-12-06</td>\n",
       "      <td>Technology &amp; Engineering</td>\n",
       "    </tr>\n",
       "  </tbody>\n",
       "</table>\n",
       "</div>"
      ],
      "text/plain": [
       "                                                Title  \\\n",
       "1                            Dr. Seuss: American Icon   \n",
       "2               Wonderful Worship in Smaller Churches   \n",
       "3                       Whispers of the Wicked Saints   \n",
       "5   The Church of Christ: A Biblical Ecclesiology ...   \n",
       "8                            Saint Hyacinth of Poland   \n",
       "9   Rising Sons and Daughters: Life Among Japan's ...   \n",
       "10  Muslim Women's Choices: Religious Belief and S...   \n",
       "11                        Dramatica for Screenwriters   \n",
       "12   Mensa Number Puzzles (Mensa Word Games for Kids)   \n",
       "13  Vector Quantization and Signal Compression (Th...   \n",
       "\n",
       "                                          description  \\\n",
       "1   Philip Nel takes a fascinating look into the k...   \n",
       "2   This resource includes twelve principles in un...   \n",
       "3   Julia Thomas finds her life spinning out of co...   \n",
       "5   In The Church of Christ: A Biblical Ecclesiolo...   \n",
       "8   The story for children 10 and up of St. Hyacin...   \n",
       "9   Wardell recalls his experience as a foreign st...   \n",
       "10  Counters the Western views and stereotypes of ...   \n",
       "11  Dramatica for Screenwriters by Armando Saldana...   \n",
       "12  Acclaimed teacher and puzzler Evelyn B. Christ...   \n",
       "13  Herb Caen, a popular columnist for the San Fra...   \n",
       "\n",
       "                                 authors publishedDate  \\\n",
       "1                             Philip Nel    2005-01-01   \n",
       "2                           David R. Ray          2000   \n",
       "3                        Veronica Haddon        05-Feb   \n",
       "5                       Everett Ferguson          1996   \n",
       "8                   Mary Fabyan Windeatt    2009-01-01   \n",
       "9                         Steven Wardell          1995   \n",
       "10  Camillia Fawzi El-Solh', 'Judy Mabro    1994-02-17   \n",
       "11                  Armando Salda A-Mora        05-Jul   \n",
       "12                 Evelyn B. Christensen    2018-11-06   \n",
       "13        Allen Gersho', 'Robert M. Gray    2012-12-06   \n",
       "\n",
       "                   categories  \n",
       "1   Biography & Autobiography  \n",
       "2                    Religion  \n",
       "3                     Fiction  \n",
       "5                    Religion  \n",
       "8   Biography & Autobiography  \n",
       "9              Social Science  \n",
       "10                   Religion  \n",
       "11                  Reference  \n",
       "12        Juvenile Nonfiction  \n",
       "13   Technology & Engineering  "
      ]
     },
     "execution_count": 285,
     "metadata": {},
     "output_type": "execute_result"
    }
   ],
   "source": [
    "# Apply the function to the \"authors\" column\n",
    "books[\"authors\"] = books[\"authors\"].apply(remove_square_brackets)\n",
    "books.head(10)"
   ]
  },
  {
   "cell_type": "code",
   "execution_count": 286,
   "id": "9c2f3101",
   "metadata": {},
   "outputs": [
    {
     "data": {
      "text/html": [
       "<div>\n",
       "<style scoped>\n",
       "    .dataframe tbody tr th:only-of-type {\n",
       "        vertical-align: middle;\n",
       "    }\n",
       "\n",
       "    .dataframe tbody tr th {\n",
       "        vertical-align: top;\n",
       "    }\n",
       "\n",
       "    .dataframe thead th {\n",
       "        text-align: right;\n",
       "    }\n",
       "</style>\n",
       "<table border=\"1\" class=\"dataframe\">\n",
       "  <thead>\n",
       "    <tr style=\"text-align: right;\">\n",
       "      <th></th>\n",
       "      <th>Title</th>\n",
       "      <th>description</th>\n",
       "      <th>authors</th>\n",
       "      <th>publishedDate</th>\n",
       "      <th>categories</th>\n",
       "    </tr>\n",
       "  </thead>\n",
       "  <tbody>\n",
       "    <tr>\n",
       "      <th>1</th>\n",
       "      <td>Dr. Seuss: American Icon</td>\n",
       "      <td>Philip Nel takes a fascinating look into the k...</td>\n",
       "      <td>Philip Nel</td>\n",
       "      <td>2005-01-01</td>\n",
       "      <td>Biography &amp; Autobiography</td>\n",
       "    </tr>\n",
       "    <tr>\n",
       "      <th>2</th>\n",
       "      <td>Wonderful Worship in Smaller Churches</td>\n",
       "      <td>This resource includes twelve principles in un...</td>\n",
       "      <td>David R. Ray</td>\n",
       "      <td>2000</td>\n",
       "      <td>Religion</td>\n",
       "    </tr>\n",
       "    <tr>\n",
       "      <th>3</th>\n",
       "      <td>Whispers of the Wicked Saints</td>\n",
       "      <td>Julia Thomas finds her life spinning out of co...</td>\n",
       "      <td>Veronica Haddon</td>\n",
       "      <td>05-Feb</td>\n",
       "      <td>Fiction</td>\n",
       "    </tr>\n",
       "    <tr>\n",
       "      <th>5</th>\n",
       "      <td>The Church of Christ: A Biblical Ecclesiology ...</td>\n",
       "      <td>In The Church of Christ: A Biblical Ecclesiolo...</td>\n",
       "      <td>Everett Ferguson</td>\n",
       "      <td>1996</td>\n",
       "      <td>Religion</td>\n",
       "    </tr>\n",
       "    <tr>\n",
       "      <th>8</th>\n",
       "      <td>Saint Hyacinth of Poland</td>\n",
       "      <td>The story for children 10 and up of St. Hyacin...</td>\n",
       "      <td>Mary Fabyan Windeatt</td>\n",
       "      <td>2009-01-01</td>\n",
       "      <td>Biography &amp; Autobiography</td>\n",
       "    </tr>\n",
       "    <tr>\n",
       "      <th>9</th>\n",
       "      <td>Rising Sons and Daughters: Life Among Japan's ...</td>\n",
       "      <td>Wardell recalls his experience as a foreign st...</td>\n",
       "      <td>Steven Wardell</td>\n",
       "      <td>1995</td>\n",
       "      <td>Social Science</td>\n",
       "    </tr>\n",
       "    <tr>\n",
       "      <th>10</th>\n",
       "      <td>Muslim Women's Choices: Religious Belief and S...</td>\n",
       "      <td>Counters the Western views and stereotypes of ...</td>\n",
       "      <td>Camillia Fawzi El-Solh, Judy Mabro</td>\n",
       "      <td>1994-02-17</td>\n",
       "      <td>Religion</td>\n",
       "    </tr>\n",
       "    <tr>\n",
       "      <th>11</th>\n",
       "      <td>Dramatica for Screenwriters</td>\n",
       "      <td>Dramatica for Screenwriters by Armando Saldana...</td>\n",
       "      <td>Armando Salda A-Mora</td>\n",
       "      <td>05-Jul</td>\n",
       "      <td>Reference</td>\n",
       "    </tr>\n",
       "    <tr>\n",
       "      <th>12</th>\n",
       "      <td>Mensa Number Puzzles (Mensa Word Games for Kids)</td>\n",
       "      <td>Acclaimed teacher and puzzler Evelyn B. Christ...</td>\n",
       "      <td>Evelyn B. Christensen</td>\n",
       "      <td>2018-11-06</td>\n",
       "      <td>Juvenile Nonfiction</td>\n",
       "    </tr>\n",
       "    <tr>\n",
       "      <th>13</th>\n",
       "      <td>Vector Quantization and Signal Compression (Th...</td>\n",
       "      <td>Herb Caen, a popular columnist for the San Fra...</td>\n",
       "      <td>Allen Gersho, Robert M. Gray</td>\n",
       "      <td>2012-12-06</td>\n",
       "      <td>Technology &amp; Engineering</td>\n",
       "    </tr>\n",
       "  </tbody>\n",
       "</table>\n",
       "</div>"
      ],
      "text/plain": [
       "                                                Title  \\\n",
       "1                            Dr. Seuss: American Icon   \n",
       "2               Wonderful Worship in Smaller Churches   \n",
       "3                       Whispers of the Wicked Saints   \n",
       "5   The Church of Christ: A Biblical Ecclesiology ...   \n",
       "8                            Saint Hyacinth of Poland   \n",
       "9   Rising Sons and Daughters: Life Among Japan's ...   \n",
       "10  Muslim Women's Choices: Religious Belief and S...   \n",
       "11                        Dramatica for Screenwriters   \n",
       "12   Mensa Number Puzzles (Mensa Word Games for Kids)   \n",
       "13  Vector Quantization and Signal Compression (Th...   \n",
       "\n",
       "                                          description  \\\n",
       "1   Philip Nel takes a fascinating look into the k...   \n",
       "2   This resource includes twelve principles in un...   \n",
       "3   Julia Thomas finds her life spinning out of co...   \n",
       "5   In The Church of Christ: A Biblical Ecclesiolo...   \n",
       "8   The story for children 10 and up of St. Hyacin...   \n",
       "9   Wardell recalls his experience as a foreign st...   \n",
       "10  Counters the Western views and stereotypes of ...   \n",
       "11  Dramatica for Screenwriters by Armando Saldana...   \n",
       "12  Acclaimed teacher and puzzler Evelyn B. Christ...   \n",
       "13  Herb Caen, a popular columnist for the San Fra...   \n",
       "\n",
       "                               authors publishedDate  \\\n",
       "1                           Philip Nel    2005-01-01   \n",
       "2                         David R. Ray          2000   \n",
       "3                      Veronica Haddon        05-Feb   \n",
       "5                     Everett Ferguson          1996   \n",
       "8                 Mary Fabyan Windeatt    2009-01-01   \n",
       "9                       Steven Wardell          1995   \n",
       "10  Camillia Fawzi El-Solh, Judy Mabro    1994-02-17   \n",
       "11                Armando Salda A-Mora        05-Jul   \n",
       "12               Evelyn B. Christensen    2018-11-06   \n",
       "13        Allen Gersho, Robert M. Gray    2012-12-06   \n",
       "\n",
       "                   categories  \n",
       "1   Biography & Autobiography  \n",
       "2                    Religion  \n",
       "3                     Fiction  \n",
       "5                    Religion  \n",
       "8   Biography & Autobiography  \n",
       "9              Social Science  \n",
       "10                   Religion  \n",
       "11                  Reference  \n",
       "12        Juvenile Nonfiction  \n",
       "13   Technology & Engineering  "
      ]
     },
     "execution_count": 286,
     "metadata": {},
     "output_type": "execute_result"
    }
   ],
   "source": [
    "# replacing \"', '\" with \", \" in the authors column\n",
    "books[\"authors\"] = books[\"authors\"].str.replace(\"', '\",\", \")\n",
    "books.head(10)"
   ]
  },
  {
   "attachments": {},
   "cell_type": "markdown",
   "id": "3ea6cfbc",
   "metadata": {},
   "source": [
    "#### 2.2.2 `books` Feature engineering: <a class=\"anchor\" id=\"_2.2.2\"></a>"
   ]
  },
  {
   "cell_type": "code",
   "execution_count": 287,
   "id": "6fb32f36",
   "metadata": {},
   "outputs": [
    {
     "data": {
      "text/html": [
       "<div>\n",
       "<style scoped>\n",
       "    .dataframe tbody tr th:only-of-type {\n",
       "        vertical-align: middle;\n",
       "    }\n",
       "\n",
       "    .dataframe tbody tr th {\n",
       "        vertical-align: top;\n",
       "    }\n",
       "\n",
       "    .dataframe thead th {\n",
       "        text-align: right;\n",
       "    }\n",
       "</style>\n",
       "<table border=\"1\" class=\"dataframe\">\n",
       "  <thead>\n",
       "    <tr style=\"text-align: right;\">\n",
       "      <th></th>\n",
       "      <th>Title</th>\n",
       "      <th>description</th>\n",
       "      <th>authors</th>\n",
       "      <th>publishedDate</th>\n",
       "      <th>categories</th>\n",
       "    </tr>\n",
       "  </thead>\n",
       "  <tbody>\n",
       "    <tr>\n",
       "      <th>61349</th>\n",
       "      <td>Dunkirk.</td>\n",
       "      <td>At 2am on the morning of the 3rd of June 1940,...</td>\n",
       "      <td>Sean Longden</td>\n",
       "      <td>2009-06-01</td>\n",
       "      <td>Fiction</td>\n",
       "    </tr>\n",
       "    <tr>\n",
       "      <th>24957</th>\n",
       "      <td>Michael Hague's Magical World of Unicorns</td>\n",
       "      <td>Michael Hague has long believed in magic -- th...</td>\n",
       "      <td>Michael Hague</td>\n",
       "      <td>2012-03-09</td>\n",
       "      <td>Juvenile Fiction</td>\n",
       "    </tr>\n",
       "    <tr>\n",
       "      <th>207419</th>\n",
       "      <td>THE TREES</td>\n",
       "      <td>An uncanny literary thriller addressing the pa...</td>\n",
       "      <td>Percival Everett</td>\n",
       "      <td>2021-09-21</td>\n",
       "      <td>Fiction</td>\n",
       "    </tr>\n",
       "  </tbody>\n",
       "</table>\n",
       "</div>"
      ],
      "text/plain": [
       "                                            Title  \\\n",
       "61349                                    Dunkirk.   \n",
       "24957   Michael Hague's Magical World of Unicorns   \n",
       "207419                                  THE TREES   \n",
       "\n",
       "                                              description           authors  \\\n",
       "61349   At 2am on the morning of the 3rd of June 1940,...      Sean Longden   \n",
       "24957   Michael Hague has long believed in magic -- th...     Michael Hague   \n",
       "207419  An uncanny literary thriller addressing the pa...  Percival Everett   \n",
       "\n",
       "       publishedDate        categories  \n",
       "61349     2009-06-01           Fiction  \n",
       "24957     2012-03-09  Juvenile Fiction  \n",
       "207419    2021-09-21           Fiction  "
      ]
     },
     "execution_count": 287,
     "metadata": {},
     "output_type": "execute_result"
    }
   ],
   "source": [
    "books.sample(3)"
   ]
  },
  {
   "attachments": {},
   "cell_type": "markdown",
   "id": "e043f608",
   "metadata": {},
   "source": [
    "##### A. Creating columns for the 10 first authors from each book"
   ]
  },
  {
   "cell_type": "code",
   "execution_count": 288,
   "id": "14107aec",
   "metadata": {},
   "outputs": [
    {
     "data": {
      "text/html": [
       "<div>\n",
       "<style scoped>\n",
       "    .dataframe tbody tr th:only-of-type {\n",
       "        vertical-align: middle;\n",
       "    }\n",
       "\n",
       "    .dataframe tbody tr th {\n",
       "        vertical-align: top;\n",
       "    }\n",
       "\n",
       "    .dataframe thead th {\n",
       "        text-align: right;\n",
       "    }\n",
       "</style>\n",
       "<table border=\"1\" class=\"dataframe\">\n",
       "  <thead>\n",
       "    <tr style=\"text-align: right;\">\n",
       "      <th></th>\n",
       "      <th>0</th>\n",
       "      <th>1</th>\n",
       "      <th>2</th>\n",
       "      <th>3</th>\n",
       "      <th>4</th>\n",
       "      <th>5</th>\n",
       "      <th>6</th>\n",
       "      <th>7</th>\n",
       "      <th>8</th>\n",
       "      <th>9</th>\n",
       "      <th>10</th>\n",
       "    </tr>\n",
       "  </thead>\n",
       "  <tbody>\n",
       "    <tr>\n",
       "      <th>170712</th>\n",
       "      <td>Gerald W. Haslam</td>\n",
       "      <td>None</td>\n",
       "      <td>None</td>\n",
       "      <td>None</td>\n",
       "      <td>None</td>\n",
       "      <td>None</td>\n",
       "      <td>None</td>\n",
       "      <td>None</td>\n",
       "      <td>None</td>\n",
       "      <td>None</td>\n",
       "      <td>None</td>\n",
       "    </tr>\n",
       "    <tr>\n",
       "      <th>17371</th>\n",
       "      <td>Matthew Abergel</td>\n",
       "      <td>None</td>\n",
       "      <td>None</td>\n",
       "      <td>None</td>\n",
       "      <td>None</td>\n",
       "      <td>None</td>\n",
       "      <td>None</td>\n",
       "      <td>None</td>\n",
       "      <td>None</td>\n",
       "      <td>None</td>\n",
       "      <td>None</td>\n",
       "    </tr>\n",
       "    <tr>\n",
       "      <th>117699</th>\n",
       "      <td>Sue Robishaw</td>\n",
       "      <td>None</td>\n",
       "      <td>None</td>\n",
       "      <td>None</td>\n",
       "      <td>None</td>\n",
       "      <td>None</td>\n",
       "      <td>None</td>\n",
       "      <td>None</td>\n",
       "      <td>None</td>\n",
       "      <td>None</td>\n",
       "      <td>None</td>\n",
       "    </tr>\n",
       "    <tr>\n",
       "      <th>87319</th>\n",
       "      <td>Lisa Cortright-Lang</td>\n",
       "      <td>Jennifer McGregor Bittner</td>\n",
       "      <td>None</td>\n",
       "      <td>None</td>\n",
       "      <td>None</td>\n",
       "      <td>None</td>\n",
       "      <td>None</td>\n",
       "      <td>None</td>\n",
       "      <td>None</td>\n",
       "      <td>None</td>\n",
       "      <td>None</td>\n",
       "    </tr>\n",
       "    <tr>\n",
       "      <th>61872</th>\n",
       "      <td>Philip J. Cohen</td>\n",
       "      <td>None</td>\n",
       "      <td>None</td>\n",
       "      <td>None</td>\n",
       "      <td>None</td>\n",
       "      <td>None</td>\n",
       "      <td>None</td>\n",
       "      <td>None</td>\n",
       "      <td>None</td>\n",
       "      <td>None</td>\n",
       "      <td>None</td>\n",
       "    </tr>\n",
       "  </tbody>\n",
       "</table>\n",
       "</div>"
      ],
      "text/plain": [
       "                         0                          1     2     3     4   \\\n",
       "170712     Gerald W. Haslam                       None  None  None  None   \n",
       "17371       Matthew Abergel                       None  None  None  None   \n",
       "117699         Sue Robishaw                       None  None  None  None   \n",
       "87319   Lisa Cortright-Lang  Jennifer McGregor Bittner  None  None  None   \n",
       "61872       Philip J. Cohen                       None  None  None  None   \n",
       "\n",
       "          5     6     7     8     9     10  \n",
       "170712  None  None  None  None  None  None  \n",
       "17371   None  None  None  None  None  None  \n",
       "117699  None  None  None  None  None  None  \n",
       "87319   None  None  None  None  None  None  \n",
       "61872   None  None  None  None  None  None  "
      ]
     },
     "execution_count": 288,
     "metadata": {},
     "output_type": "execute_result"
    }
   ],
   "source": [
    "#separate the authors column into multiple columns after \", \"\n",
    "authors = books[\"authors\"].str.split(\", \", n = 10, expand = True)\n",
    "authors.sample(5)"
   ]
  },
  {
   "cell_type": "code",
   "execution_count": 289,
   "id": "b535e861",
   "metadata": {},
   "outputs": [
    {
     "data": {
      "text/plain": [
       "0          0\n",
       "1     106455\n",
       "2     128141\n",
       "3     133497\n",
       "4     134892\n",
       "5     135356\n",
       "6     135550\n",
       "7     135637\n",
       "8     135701\n",
       "9     135729\n",
       "10    135747\n",
       "dtype: int64"
      ]
     },
     "execution_count": 289,
     "metadata": {},
     "output_type": "execute_result"
    }
   ],
   "source": [
    "authors.isna().sum()"
   ]
  },
  {
   "cell_type": "code",
   "execution_count": 290,
   "id": "87537cc2",
   "metadata": {},
   "outputs": [
    {
     "data": {
      "text/plain": [
       "0      0.000000\n",
       "1     78.382358\n",
       "2     94.349667\n",
       "3     98.293267\n",
       "4     99.320399\n",
       "5     99.662040\n",
       "6     99.804882\n",
       "7     99.868939\n",
       "8     99.916062\n",
       "9     99.936679\n",
       "10    99.949932\n",
       "dtype: float64"
      ]
     },
     "execution_count": 290,
     "metadata": {},
     "output_type": "execute_result"
    }
   ],
   "source": [
    "nan_percent = authors.isna().sum() / len(authors) * 100\n",
    "nan_percent"
   ]
  },
  {
   "attachments": {},
   "cell_type": "markdown",
   "id": "c3ab5997",
   "metadata": {},
   "source": [
    "After analyzing the nan_percentage for books with multiple authors, it has been determined that the first author listed in the column will be considered as the main author."
   ]
  },
  {
   "cell_type": "code",
   "execution_count": 291,
   "id": "e0ef2fbd",
   "metadata": {},
   "outputs": [],
   "source": [
    "# adding the first 10 authors columns to the books data frame\n",
    "books[\"main_author\"] = authors[0]"
   ]
  },
  {
   "cell_type": "code",
   "execution_count": 292,
   "id": "7010db74",
   "metadata": {},
   "outputs": [
    {
     "data": {
      "text/html": [
       "<div>\n",
       "<style scoped>\n",
       "    .dataframe tbody tr th:only-of-type {\n",
       "        vertical-align: middle;\n",
       "    }\n",
       "\n",
       "    .dataframe tbody tr th {\n",
       "        vertical-align: top;\n",
       "    }\n",
       "\n",
       "    .dataframe thead th {\n",
       "        text-align: right;\n",
       "    }\n",
       "</style>\n",
       "<table border=\"1\" class=\"dataframe\">\n",
       "  <thead>\n",
       "    <tr style=\"text-align: right;\">\n",
       "      <th></th>\n",
       "      <th>Title</th>\n",
       "      <th>description</th>\n",
       "      <th>authors</th>\n",
       "      <th>publishedDate</th>\n",
       "      <th>categories</th>\n",
       "      <th>main_author</th>\n",
       "    </tr>\n",
       "  </thead>\n",
       "  <tbody>\n",
       "    <tr>\n",
       "      <th>207577</th>\n",
       "      <td>Just Elections: Creating a Fair Electoral Proc...</td>\n",
       "      <td>The 2000 election showed that the mechanies of...</td>\n",
       "      <td>Dennis F. Thompson</td>\n",
       "      <td>2004-07-15</td>\n",
       "      <td>Political Science</td>\n",
       "      <td>Dennis F. Thompson</td>\n",
       "    </tr>\n",
       "    <tr>\n",
       "      <th>136399</th>\n",
       "      <td>Facts on File Encyclopedia of Art and Artists Set</td>\n",
       "      <td>This encyclopedia is a biographical dictionary...</td>\n",
       "      <td>Phil Kovinick, Marian Yoshiki-Kovinick</td>\n",
       "      <td>1998</td>\n",
       "      <td>Art</td>\n",
       "      <td>Phil Kovinick</td>\n",
       "    </tr>\n",
       "    <tr>\n",
       "      <th>110568</th>\n",
       "      <td>The First Americans : Race, Evolution and the ...</td>\n",
       "      <td>First Americans provides a comprehensive histo...</td>\n",
       "      <td>Kenneth Townsend</td>\n",
       "      <td>2018-12-07</td>\n",
       "      <td>History</td>\n",
       "      <td>Kenneth Townsend</td>\n",
       "    </tr>\n",
       "  </tbody>\n",
       "</table>\n",
       "</div>"
      ],
      "text/plain": [
       "                                                    Title  \\\n",
       "207577  Just Elections: Creating a Fair Electoral Proc...   \n",
       "136399  Facts on File Encyclopedia of Art and Artists Set   \n",
       "110568  The First Americans : Race, Evolution and the ...   \n",
       "\n",
       "                                              description  \\\n",
       "207577  The 2000 election showed that the mechanies of...   \n",
       "136399  This encyclopedia is a biographical dictionary...   \n",
       "110568  First Americans provides a comprehensive histo...   \n",
       "\n",
       "                                       authors publishedDate  \\\n",
       "207577                      Dennis F. Thompson    2004-07-15   \n",
       "136399  Phil Kovinick, Marian Yoshiki-Kovinick          1998   \n",
       "110568                        Kenneth Townsend    2018-12-07   \n",
       "\n",
       "               categories         main_author  \n",
       "207577  Political Science  Dennis F. Thompson  \n",
       "136399                Art       Phil Kovinick  \n",
       "110568            History    Kenneth Townsend  "
      ]
     },
     "execution_count": 292,
     "metadata": {},
     "output_type": "execute_result"
    }
   ],
   "source": [
    "books.sample(3)"
   ]
  },
  {
   "cell_type": "code",
   "execution_count": 293,
   "id": "31b30057",
   "metadata": {},
   "outputs": [],
   "source": [
    "# drop the authors column\n",
    "books = books.drop([\"authors\"],axis=1)"
   ]
  },
  {
   "attachments": {},
   "cell_type": "markdown",
   "id": "4ccb305e",
   "metadata": {},
   "source": [
    "##### B. Selecting Columns for the desired data frame"
   ]
  },
  {
   "cell_type": "code",
   "execution_count": 294,
   "id": "07428c72",
   "metadata": {},
   "outputs": [
    {
     "data": {
      "text/html": [
       "<div>\n",
       "<style scoped>\n",
       "    .dataframe tbody tr th:only-of-type {\n",
       "        vertical-align: middle;\n",
       "    }\n",
       "\n",
       "    .dataframe tbody tr th {\n",
       "        vertical-align: top;\n",
       "    }\n",
       "\n",
       "    .dataframe thead th {\n",
       "        text-align: right;\n",
       "    }\n",
       "</style>\n",
       "<table border=\"1\" class=\"dataframe\">\n",
       "  <thead>\n",
       "    <tr style=\"text-align: right;\">\n",
       "      <th></th>\n",
       "      <th>BookTitle</th>\n",
       "      <th>Book_Description</th>\n",
       "      <th>Book_Category</th>\n",
       "      <th>Published_Date</th>\n",
       "      <th>Main_Author</th>\n",
       "    </tr>\n",
       "  </thead>\n",
       "  <tbody>\n",
       "    <tr>\n",
       "      <th>145127</th>\n",
       "      <td>Bob Dylan Anthology: Guitar Tab Edition</td>\n",
       "      <td>Over 60 Dylan favorites, including: All Along ...</td>\n",
       "      <td>Music</td>\n",
       "      <td>2002-10-01</td>\n",
       "      <td>Bob Dylan</td>\n",
       "    </tr>\n",
       "    <tr>\n",
       "      <th>167546</th>\n",
       "      <td>Figures of Speech: 60 Ways To Turn A Phrase</td>\n",
       "      <td>Writing is not like chemical engineering. The ...</td>\n",
       "      <td>Language Arts &amp; Disciplines</td>\n",
       "      <td>2012-11-12</td>\n",
       "      <td>Arthur Quinn</td>\n",
       "    </tr>\n",
       "    <tr>\n",
       "      <th>60877</th>\n",
       "      <td>The Traveler's Gift</td>\n",
       "      <td>*Coming Soon the Continuation of David Ponder’...</td>\n",
       "      <td>Self-Help</td>\n",
       "      <td>2005-04-30</td>\n",
       "      <td>Andy Andrews</td>\n",
       "    </tr>\n",
       "  </tbody>\n",
       "</table>\n",
       "</div>"
      ],
      "text/plain": [
       "                                          BookTitle  \\\n",
       "145127      Bob Dylan Anthology: Guitar Tab Edition   \n",
       "167546  Figures of Speech: 60 Ways To Turn A Phrase   \n",
       "60877                           The Traveler's Gift   \n",
       "\n",
       "                                         Book_Description  \\\n",
       "145127  Over 60 Dylan favorites, including: All Along ...   \n",
       "167546  Writing is not like chemical engineering. The ...   \n",
       "60877   *Coming Soon the Continuation of David Ponder’...   \n",
       "\n",
       "                      Book_Category Published_Date   Main_Author  \n",
       "145127                        Music     2002-10-01     Bob Dylan  \n",
       "167546  Language Arts & Disciplines     2012-11-12  Arthur Quinn  \n",
       "60877                     Self-Help     2005-04-30  Andy Andrews  "
      ]
     },
     "execution_count": 294,
     "metadata": {},
     "output_type": "execute_result"
    }
   ],
   "source": [
    "books_df = books[[\"Title\",\"description\",\"categories\",\"publishedDate\",\"main_author\"]]\n",
    "\n",
    "books_df = books_df.rename(columns={\n",
    "    \"Title\": \"BookTitle\",\n",
    "    \"description\": \"Book_Description\",\n",
    "    \"categories\": \"Book_Category\",\n",
    "    \"publishedDate\": \"Published_Date\",\n",
    "    \"main_author\": \"Main_Author\"\n",
    "})\n",
    "\n",
    "books_df.sample(3)"
   ]
  },
  {
   "attachments": {},
   "cell_type": "markdown",
   "id": "6669278e",
   "metadata": {},
   "source": [
    "------"
   ]
  },
  {
   "attachments": {},
   "cell_type": "markdown",
   "id": "ad0b4173",
   "metadata": {},
   "source": [
    "## 3. Merging `books` and `ratings_df` data frames <a class=\"anchor\" id=\"_3\"></a>"
   ]
  },
  {
   "cell_type": "code",
   "execution_count": 295,
   "id": "80858c71",
   "metadata": {},
   "outputs": [
    {
     "data": {
      "text/html": [
       "<div>\n",
       "<style scoped>\n",
       "    .dataframe tbody tr th:only-of-type {\n",
       "        vertical-align: middle;\n",
       "    }\n",
       "\n",
       "    .dataframe tbody tr th {\n",
       "        vertical-align: top;\n",
       "    }\n",
       "\n",
       "    .dataframe thead th {\n",
       "        text-align: right;\n",
       "    }\n",
       "</style>\n",
       "<table border=\"1\" class=\"dataframe\">\n",
       "  <thead>\n",
       "    <tr style=\"text-align: right;\">\n",
       "      <th></th>\n",
       "      <th>RatingID</th>\n",
       "      <th>BookTitle</th>\n",
       "      <th>UserID</th>\n",
       "      <th>Review_Score</th>\n",
       "      <th>Review_Summary</th>\n",
       "      <th>Review_Text</th>\n",
       "      <th>Review_Counts</th>\n",
       "    </tr>\n",
       "  </thead>\n",
       "  <tbody>\n",
       "    <tr>\n",
       "      <th>1586215</th>\n",
       "      <td>B0001GWAZ6</td>\n",
       "      <td>Louie The Rune Solider Volume 1</td>\n",
       "      <td>A1CAVAUIO8LFDD</td>\n",
       "      <td>3.0</td>\n",
       "      <td>Cliffhanger</td>\n",
       "      <td>Where's the rest of the series? There were two...</td>\n",
       "      <td>82</td>\n",
       "    </tr>\n",
       "  </tbody>\n",
       "</table>\n",
       "</div>"
      ],
      "text/plain": [
       "           RatingID                        BookTitle          UserID  \\\n",
       "1586215  B0001GWAZ6  Louie The Rune Solider Volume 1  A1CAVAUIO8LFDD   \n",
       "\n",
       "         Review_Score Review_Summary  \\\n",
       "1586215           3.0    Cliffhanger   \n",
       "\n",
       "                                               Review_Text  Review_Counts  \n",
       "1586215  Where's the rest of the series? There were two...             82  "
      ]
     },
     "execution_count": 295,
     "metadata": {},
     "output_type": "execute_result"
    }
   ],
   "source": [
    "rating_df.sample(1)"
   ]
  },
  {
   "cell_type": "code",
   "execution_count": 296,
   "id": "11b1a126",
   "metadata": {},
   "outputs": [
    {
     "data": {
      "text/html": [
       "<div>\n",
       "<style scoped>\n",
       "    .dataframe tbody tr th:only-of-type {\n",
       "        vertical-align: middle;\n",
       "    }\n",
       "\n",
       "    .dataframe tbody tr th {\n",
       "        vertical-align: top;\n",
       "    }\n",
       "\n",
       "    .dataframe thead th {\n",
       "        text-align: right;\n",
       "    }\n",
       "</style>\n",
       "<table border=\"1\" class=\"dataframe\">\n",
       "  <thead>\n",
       "    <tr style=\"text-align: right;\">\n",
       "      <th></th>\n",
       "      <th>BookTitle</th>\n",
       "      <th>Book_Description</th>\n",
       "      <th>Book_Category</th>\n",
       "      <th>Published_Date</th>\n",
       "      <th>Main_Author</th>\n",
       "    </tr>\n",
       "  </thead>\n",
       "  <tbody>\n",
       "    <tr>\n",
       "      <th>76167</th>\n",
       "      <td>Don't Waste Your Talent : The 8 Critical Steps...</td>\n",
       "      <td>Presents the research findings of the co-found...</td>\n",
       "      <td>Achievement motivation</td>\n",
       "      <td>2005</td>\n",
       "      <td>Bob D. McDonald</td>\n",
       "    </tr>\n",
       "  </tbody>\n",
       "</table>\n",
       "</div>"
      ],
      "text/plain": [
       "                                               BookTitle  \\\n",
       "76167  Don't Waste Your Talent : The 8 Critical Steps...   \n",
       "\n",
       "                                        Book_Description  \\\n",
       "76167  Presents the research findings of the co-found...   \n",
       "\n",
       "                Book_Category Published_Date      Main_Author  \n",
       "76167  Achievement motivation           2005  Bob D. McDonald  "
      ]
     },
     "execution_count": 296,
     "metadata": {},
     "output_type": "execute_result"
    }
   ],
   "source": [
    "books_df.sample(1)"
   ]
  },
  {
   "attachments": {},
   "cell_type": "markdown",
   "id": "760c396d",
   "metadata": {},
   "source": [
    "Merge the two data frames on the BookTitle column"
   ]
  },
  {
   "cell_type": "code",
   "execution_count": 297,
   "id": "5befbf4d",
   "metadata": {},
   "outputs": [
    {
     "data": {
      "text/html": [
       "<div>\n",
       "<style scoped>\n",
       "    .dataframe tbody tr th:only-of-type {\n",
       "        vertical-align: middle;\n",
       "    }\n",
       "\n",
       "    .dataframe tbody tr th {\n",
       "        vertical-align: top;\n",
       "    }\n",
       "\n",
       "    .dataframe thead th {\n",
       "        text-align: right;\n",
       "    }\n",
       "</style>\n",
       "<table border=\"1\" class=\"dataframe\">\n",
       "  <thead>\n",
       "    <tr style=\"text-align: right;\">\n",
       "      <th></th>\n",
       "      <th>BookTitle</th>\n",
       "      <th>Book_Description</th>\n",
       "      <th>Book_Category</th>\n",
       "      <th>Published_Date</th>\n",
       "      <th>Main_Author</th>\n",
       "      <th>RatingID</th>\n",
       "      <th>UserID</th>\n",
       "      <th>Review_Score</th>\n",
       "      <th>Review_Summary</th>\n",
       "      <th>Review_Text</th>\n",
       "      <th>Review_Counts</th>\n",
       "    </tr>\n",
       "  </thead>\n",
       "  <tbody>\n",
       "    <tr>\n",
       "      <th>633751</th>\n",
       "      <td>Picture Perfect</td>\n",
       "      <td>THE INTERNATIONALLY BESTSELLING AUTHOR 'Picoul...</td>\n",
       "      <td>Fiction</td>\n",
       "      <td>2009-10-29</td>\n",
       "      <td>Jodi Picoult</td>\n",
       "      <td>B000NXKKJ0</td>\n",
       "      <td>A3RNNHNSK1E52J</td>\n",
       "      <td>5.0</td>\n",
       "      <td>Picture Perfect</td>\n",
       "      <td>This book was recommended to me because I have...</td>\n",
       "      <td>151</td>\n",
       "    </tr>\n",
       "    <tr>\n",
       "      <th>1343021</th>\n",
       "      <td>Mark Twain</td>\n",
       "      <td>Mark Twain, the American comic genius who port...</td>\n",
       "      <td>Biography &amp; Autobiography</td>\n",
       "      <td>2008-06-30</td>\n",
       "      <td>Justin Kaplan</td>\n",
       "      <td>B00005Y22F</td>\n",
       "      <td>A2AK35OS6F84QO</td>\n",
       "      <td>2.0</td>\n",
       "      <td>Not recommended: confusing.</td>\n",
       "      <td>The book is confusing. What is the reader supp...</td>\n",
       "      <td>15</td>\n",
       "    </tr>\n",
       "    <tr>\n",
       "      <th>430350</th>\n",
       "      <td>The Lord of the Rings - Boxed Set</td>\n",
       "      <td>This beautiful gift edition of The Hobbit, J.R...</td>\n",
       "      <td>Young Adult Fiction</td>\n",
       "      <td>2012-11-08</td>\n",
       "      <td>J.R.R. Tolkien</td>\n",
       "      <td>B000GQK706</td>\n",
       "      <td>A2RX2QJ1TVWSQT</td>\n",
       "      <td>5.0</td>\n",
       "      <td>The definitive text, beautifully presented, an...</td>\n",
       "      <td>Addendum January 2008:Let me say that while th...</td>\n",
       "      <td>1930</td>\n",
       "    </tr>\n",
       "  </tbody>\n",
       "</table>\n",
       "</div>"
      ],
      "text/plain": [
       "                                 BookTitle  \\\n",
       "633751                     Picture Perfect   \n",
       "1343021                         Mark Twain   \n",
       "430350   The Lord of the Rings - Boxed Set   \n",
       "\n",
       "                                          Book_Description  \\\n",
       "633751   THE INTERNATIONALLY BESTSELLING AUTHOR 'Picoul...   \n",
       "1343021  Mark Twain, the American comic genius who port...   \n",
       "430350   This beautiful gift edition of The Hobbit, J.R...   \n",
       "\n",
       "                     Book_Category Published_Date     Main_Author    RatingID  \\\n",
       "633751                     Fiction     2009-10-29    Jodi Picoult  B000NXKKJ0   \n",
       "1343021  Biography & Autobiography     2008-06-30   Justin Kaplan  B00005Y22F   \n",
       "430350         Young Adult Fiction     2012-11-08  J.R.R. Tolkien  B000GQK706   \n",
       "\n",
       "                 UserID  Review_Score  \\\n",
       "633751   A3RNNHNSK1E52J           5.0   \n",
       "1343021  A2AK35OS6F84QO           2.0   \n",
       "430350   A2RX2QJ1TVWSQT           5.0   \n",
       "\n",
       "                                            Review_Summary  \\\n",
       "633751                                     Picture Perfect   \n",
       "1343021                        Not recommended: confusing.   \n",
       "430350   The definitive text, beautifully presented, an...   \n",
       "\n",
       "                                               Review_Text  Review_Counts  \n",
       "633751   This book was recommended to me because I have...            151  \n",
       "1343021  The book is confusing. What is the reader supp...             15  \n",
       "430350   Addendum January 2008:Let me say that while th...           1930  "
      ]
     },
     "execution_count": 297,
     "metadata": {},
     "output_type": "execute_result"
    }
   ],
   "source": [
    "book_rating = pd.merge(books_df, rating_df, on='BookTitle', how='inner')\n",
    "book_rating.sample(3)"
   ]
  },
  {
   "cell_type": "code",
   "execution_count": 298,
   "id": "dc010a76",
   "metadata": {},
   "outputs": [
    {
     "name": "stdout",
     "output_type": "stream",
     "text": [
      "<class 'pandas.core.frame.DataFrame'>\n",
      "RangeIndex: 1796622 entries, 0 to 1796621\n",
      "Data columns (total 11 columns):\n",
      " #   Column            Dtype  \n",
      "---  ------            -----  \n",
      " 0   BookTitle         object \n",
      " 1   Book_Description  object \n",
      " 2   Book_Category     object \n",
      " 3   Published_Date    object \n",
      " 4   Main_Author       object \n",
      " 5   RatingID          object \n",
      " 6   UserID            object \n",
      " 7   Review_Score      float64\n",
      " 8   Review_Summary    object \n",
      " 9   Review_Text       object \n",
      " 10  Review_Counts     int64  \n",
      "dtypes: float64(1), int64(1), object(9)\n",
      "memory usage: 150.8+ MB\n"
     ]
    }
   ],
   "source": [
    "book_rating.info()"
   ]
  },
  {
   "cell_type": "code",
   "execution_count": 299,
   "id": "37c1a549",
   "metadata": {},
   "outputs": [
    {
     "data": {
      "text/plain": [
       "(1796622, 11)"
      ]
     },
     "execution_count": 299,
     "metadata": {},
     "output_type": "execute_result"
    }
   ],
   "source": [
    "book_rating.shape"
   ]
  },
  {
   "cell_type": "code",
   "execution_count": 300,
   "id": "4612d8a9",
   "metadata": {},
   "outputs": [
    {
     "data": {
      "text/plain": [
       "BookTitle           0\n",
       "Book_Description    0\n",
       "Book_Category       0\n",
       "Published_Date      0\n",
       "Main_Author         0\n",
       "RatingID            0\n",
       "UserID              0\n",
       "Review_Score        0\n",
       "Review_Summary      0\n",
       "Review_Text         0\n",
       "Review_Counts       0\n",
       "dtype: int64"
      ]
     },
     "execution_count": 300,
     "metadata": {},
     "output_type": "execute_result"
    }
   ],
   "source": [
    "book_rating.isna().sum()"
   ]
  },
  {
   "attachments": {},
   "cell_type": "markdown",
   "id": "c995620e",
   "metadata": {},
   "source": [
    "### 3.1 Checking for duplicates"
   ]
  },
  {
   "cell_type": "code",
   "execution_count": 301,
   "id": "124b7217",
   "metadata": {},
   "outputs": [
    {
     "data": {
      "text/plain": [
       "(1788122, 11)"
      ]
     },
     "execution_count": 301,
     "metadata": {},
     "output_type": "execute_result"
    }
   ],
   "source": [
    "# Drop the duplicated rows\n",
    "book_rating.drop_duplicates(inplace=True)\n",
    "book_rating.shape"
   ]
  },
  {
   "attachments": {},
   "cell_type": "markdown",
   "id": "537f0aae",
   "metadata": {},
   "source": [
    "### 3.2 Feature Engineering"
   ]
  },
  {
   "cell_type": "code",
   "execution_count": 302,
   "id": "3d5fa325",
   "metadata": {},
   "outputs": [
    {
     "data": {
      "text/html": [
       "<div>\n",
       "<style scoped>\n",
       "    .dataframe tbody tr th:only-of-type {\n",
       "        vertical-align: middle;\n",
       "    }\n",
       "\n",
       "    .dataframe tbody tr th {\n",
       "        vertical-align: top;\n",
       "    }\n",
       "\n",
       "    .dataframe thead th {\n",
       "        text-align: right;\n",
       "    }\n",
       "</style>\n",
       "<table border=\"1\" class=\"dataframe\">\n",
       "  <thead>\n",
       "    <tr style=\"text-align: right;\">\n",
       "      <th></th>\n",
       "      <th>BookTitle</th>\n",
       "      <th>Book_Description</th>\n",
       "      <th>Book_Category</th>\n",
       "      <th>Published_Date</th>\n",
       "      <th>Main_Author</th>\n",
       "      <th>RatingID</th>\n",
       "      <th>UserID</th>\n",
       "      <th>Review_Score</th>\n",
       "      <th>Review_Summary</th>\n",
       "      <th>Review_Text</th>\n",
       "      <th>Review_Counts</th>\n",
       "    </tr>\n",
       "  </thead>\n",
       "  <tbody>\n",
       "    <tr>\n",
       "      <th>1057499</th>\n",
       "      <td>The Stand: The Complete and Uncut Edition (ISB...</td>\n",
       "      <td>In een nabije toekomst waarin boeken collector...</td>\n",
       "      <td>Fiction</td>\n",
       "      <td>2014-06-03</td>\n",
       "      <td>Alena Graedon</td>\n",
       "      <td>B000NQM9CI</td>\n",
       "      <td>A1ARJKQCJD31MY</td>\n",
       "      <td>5.0</td>\n",
       "      <td>Definatly a King Classic! 5*'s+</td>\n",
       "      <td>Years from now our kids will probably read Ste...</td>\n",
       "      <td>957</td>\n",
       "    </tr>\n",
       "    <tr>\n",
       "      <th>1401346</th>\n",
       "      <td>Best Little Beading Book: techniques and more,...</td>\n",
       "      <td>This complete how-to book is the \"bible for be...</td>\n",
       "      <td>Crafts &amp; Hobbies</td>\n",
       "      <td>1995</td>\n",
       "      <td>Wendy Simpson Conner</td>\n",
       "      <td>B000QEASA2</td>\n",
       "      <td>A1SN0HHPJWRUML</td>\n",
       "      <td>5.0</td>\n",
       "      <td>Great book to learn from.</td>\n",
       "      <td>Great book for people who are just starting ou...</td>\n",
       "      <td>21</td>\n",
       "    </tr>\n",
       "    <tr>\n",
       "      <th>1130247</th>\n",
       "      <td>True lies</td>\n",
       "      <td>TRUE LIES is a book that attempts to counter t...</td>\n",
       "      <td>Religion</td>\n",
       "      <td>12-May</td>\n",
       "      <td>Phil Chalmers</td>\n",
       "      <td>0312930577</td>\n",
       "      <td>A3OLH1A2OEP2HC</td>\n",
       "      <td>4.0</td>\n",
       "      <td>Arnold's comeback</td>\n",
       "      <td>This movie was one of Arnold's last blockbuste...</td>\n",
       "      <td>214</td>\n",
       "    </tr>\n",
       "  </tbody>\n",
       "</table>\n",
       "</div>"
      ],
      "text/plain": [
       "                                                 BookTitle  \\\n",
       "1057499  The Stand: The Complete and Uncut Edition (ISB...   \n",
       "1401346  Best Little Beading Book: techniques and more,...   \n",
       "1130247                                          True lies   \n",
       "\n",
       "                                          Book_Description     Book_Category  \\\n",
       "1057499  In een nabije toekomst waarin boeken collector...           Fiction   \n",
       "1401346  This complete how-to book is the \"bible for be...  Crafts & Hobbies   \n",
       "1130247  TRUE LIES is a book that attempts to counter t...          Religion   \n",
       "\n",
       "        Published_Date           Main_Author    RatingID          UserID  \\\n",
       "1057499     2014-06-03         Alena Graedon  B000NQM9CI  A1ARJKQCJD31MY   \n",
       "1401346           1995  Wendy Simpson Conner  B000QEASA2  A1SN0HHPJWRUML   \n",
       "1130247         12-May         Phil Chalmers  0312930577  A3OLH1A2OEP2HC   \n",
       "\n",
       "         Review_Score                   Review_Summary  \\\n",
       "1057499           5.0  Definatly a King Classic! 5*'s+   \n",
       "1401346           5.0        Great book to learn from.   \n",
       "1130247           4.0                Arnold's comeback   \n",
       "\n",
       "                                               Review_Text  Review_Counts  \n",
       "1057499  Years from now our kids will probably read Ste...            957  \n",
       "1401346  Great book for people who are just starting ou...             21  \n",
       "1130247  This movie was one of Arnold's last blockbuste...            214  "
      ]
     },
     "execution_count": 302,
     "metadata": {},
     "output_type": "execute_result"
    }
   ],
   "source": [
    "book_rating.sample(3)"
   ]
  },
  {
   "cell_type": "code",
   "execution_count": 303,
   "id": "d4c5ff74",
   "metadata": {},
   "outputs": [
    {
     "data": {
      "text/plain": [
       "BookTitle\n",
       "\" Film technique, \" and, \" Film acting \"                                                           4.500000\n",
       "\" We'll Always Have Paris\": The Definitive Guide to Great Lines from the Movies                    5.000000\n",
       "\"... And Poetry is Born ...\" Russian Classical Poetry                                              4.000000\n",
       "\"A Truthful Impression of the Country\": British and American Travel Writing in China, 1880-1949    4.000000\n",
       "\"A\" IS FOR ALIBI                                                                                   3.707182\n",
       "Name: Review_Score, dtype: float64"
      ]
     },
     "execution_count": 303,
     "metadata": {},
     "output_type": "execute_result"
    }
   ],
   "source": [
    "# Create a new variable with the average rating per each book title\n",
    "Average_Rating = book_rating.groupby('BookTitle')['Review_Score'].mean()\n",
    "Average_Rating.head(5)"
   ]
  },
  {
   "cell_type": "code",
   "execution_count": 304,
   "id": "af0d4604",
   "metadata": {},
   "outputs": [
    {
     "data": {
      "text/html": [
       "<div>\n",
       "<style scoped>\n",
       "    .dataframe tbody tr th:only-of-type {\n",
       "        vertical-align: middle;\n",
       "    }\n",
       "\n",
       "    .dataframe tbody tr th {\n",
       "        vertical-align: top;\n",
       "    }\n",
       "\n",
       "    .dataframe thead th {\n",
       "        text-align: right;\n",
       "    }\n",
       "</style>\n",
       "<table border=\"1\" class=\"dataframe\">\n",
       "  <thead>\n",
       "    <tr style=\"text-align: right;\">\n",
       "      <th></th>\n",
       "      <th>BookTitle</th>\n",
       "      <th>Book_Description</th>\n",
       "      <th>Book_Category</th>\n",
       "      <th>Published_Date</th>\n",
       "      <th>Main_Author</th>\n",
       "      <th>RatingID</th>\n",
       "      <th>UserID</th>\n",
       "      <th>Review_Score</th>\n",
       "      <th>Review_Summary</th>\n",
       "      <th>Review_Text</th>\n",
       "      <th>Review_Counts</th>\n",
       "      <th>Average_Rating</th>\n",
       "    </tr>\n",
       "  </thead>\n",
       "  <tbody>\n",
       "    <tr>\n",
       "      <th>554268</th>\n",
       "      <td>Presumed Guilty (HI 238)</td>\n",
       "      <td>The Hong Kong Bill of Rights Ordinance came in...</td>\n",
       "      <td>Law</td>\n",
       "      <td>1995-07-01</td>\n",
       "      <td>Andrew Byrnes</td>\n",
       "      <td>B000OWB2OM</td>\n",
       "      <td>A3GKBRNJ33BGKG</td>\n",
       "      <td>4.0</td>\n",
       "      <td>Excellent book</td>\n",
       "      <td>I couldn't put it down kept you wondering unti...</td>\n",
       "      <td>58</td>\n",
       "      <td>3.637931</td>\n",
       "    </tr>\n",
       "    <tr>\n",
       "      <th>106099</th>\n",
       "      <td>The Giant Obrien</td>\n",
       "      <td>New York Times Book Review Notable Book of the...</td>\n",
       "      <td>Fiction</td>\n",
       "      <td>2007-06-12</td>\n",
       "      <td>Hilary Mantel</td>\n",
       "      <td>B000PD5ZZ2</td>\n",
       "      <td>A267E7RYPGZ5WF</td>\n",
       "      <td>3.0</td>\n",
       "      <td>This book was pretty good, I enjoyed it</td>\n",
       "      <td>This book was pretty good. I like how the surg...</td>\n",
       "      <td>15</td>\n",
       "      <td>4.133333</td>\n",
       "    </tr>\n",
       "    <tr>\n",
       "      <th>424102</th>\n",
       "      <td>The Little Book That Beats the Market</td>\n",
       "      <td>In 2005, Joel Greenblatt published a book that...</td>\n",
       "      <td>Business &amp; Economics</td>\n",
       "      <td>2010-09-07</td>\n",
       "      <td>Joel Greenblatt</td>\n",
       "      <td>B000N66W58</td>\n",
       "      <td>A3RLSDZ6GQQ7HS</td>\n",
       "      <td>5.0</td>\n",
       "      <td>Making Money</td>\n",
       "      <td>The essence of the book has to do with Greenbl...</td>\n",
       "      <td>281</td>\n",
       "      <td>3.729537</td>\n",
       "    </tr>\n",
       "  </tbody>\n",
       "</table>\n",
       "</div>"
      ],
      "text/plain": [
       "                                    BookTitle  \\\n",
       "554268               Presumed Guilty (HI 238)   \n",
       "106099                       The Giant Obrien   \n",
       "424102  The Little Book That Beats the Market   \n",
       "\n",
       "                                         Book_Description  \\\n",
       "554268  The Hong Kong Bill of Rights Ordinance came in...   \n",
       "106099  New York Times Book Review Notable Book of the...   \n",
       "424102  In 2005, Joel Greenblatt published a book that...   \n",
       "\n",
       "               Book_Category Published_Date      Main_Author    RatingID  \\\n",
       "554268                   Law     1995-07-01    Andrew Byrnes  B000OWB2OM   \n",
       "106099               Fiction     2007-06-12    Hilary Mantel  B000PD5ZZ2   \n",
       "424102  Business & Economics     2010-09-07  Joel Greenblatt  B000N66W58   \n",
       "\n",
       "                UserID  Review_Score                           Review_Summary  \\\n",
       "554268  A3GKBRNJ33BGKG           4.0                           Excellent book   \n",
       "106099  A267E7RYPGZ5WF           3.0  This book was pretty good, I enjoyed it   \n",
       "424102  A3RLSDZ6GQQ7HS           5.0                             Making Money   \n",
       "\n",
       "                                              Review_Text  Review_Counts  \\\n",
       "554268  I couldn't put it down kept you wondering unti...             58   \n",
       "106099  This book was pretty good. I like how the surg...             15   \n",
       "424102  The essence of the book has to do with Greenbl...            281   \n",
       "\n",
       "        Average_Rating  \n",
       "554268        3.637931  \n",
       "106099        4.133333  \n",
       "424102        3.729537  "
      ]
     },
     "execution_count": 304,
     "metadata": {},
     "output_type": "execute_result"
    }
   ],
   "source": [
    "# Add the average rating column to the book_rating data frame\n",
    "book_rating[\"Average_Rating\"] = book_rating[\"BookTitle\"].map(Average_Rating)\n",
    "book_rating.sample(3)"
   ]
  },
  {
   "attachments": {},
   "cell_type": "markdown",
   "id": "49ec8d5d",
   "metadata": {},
   "source": [
    "---"
   ]
  },
  {
   "cell_type": "code",
   "execution_count": 305,
   "id": "5815cf49",
   "metadata": {},
   "outputs": [
    {
     "name": "stdout",
     "output_type": "stream",
     "text": [
      "Merged Data frame shape: (1788122, 12)\n",
      "Number of Unique Book Titles: 132356\n",
      "Number of Unique Authors: 88823\n",
      "Number of Unique Book Categories: 5196\n",
      "Number of Unique UserID: 821745\n"
     ]
    }
   ],
   "source": [
    "print(\"Merged Data frame shape:\", book_rating.shape)\n",
    "print(\"Number of Unique Book Titles:\",len(book_rating[\"BookTitle\"].unique()))\n",
    "print(\"Number of Unique Authors:\",len(book_rating[\"Main_Author\"].unique()))\n",
    "print(\"Number of Unique Book Categories:\",len(book_rating[\"Book_Category\"].unique()))\n",
    "print(\"Number of Unique UserID:\",len(book_rating[\"UserID\"].unique()))"
   ]
  },
  {
   "attachments": {},
   "cell_type": "markdown",
   "id": "bb523be6",
   "metadata": {},
   "source": [
    "## 4. Data Visualization <a class=\"anchor\" id=\"_4\"></a>"
   ]
  },
  {
   "cell_type": "code",
   "execution_count": 306,
   "id": "b7c98e18",
   "metadata": {},
   "outputs": [
    {
     "data": {
      "text/html": [
       "<div>\n",
       "<style scoped>\n",
       "    .dataframe tbody tr th:only-of-type {\n",
       "        vertical-align: middle;\n",
       "    }\n",
       "\n",
       "    .dataframe tbody tr th {\n",
       "        vertical-align: top;\n",
       "    }\n",
       "\n",
       "    .dataframe thead th {\n",
       "        text-align: right;\n",
       "    }\n",
       "</style>\n",
       "<table border=\"1\" class=\"dataframe\">\n",
       "  <thead>\n",
       "    <tr style=\"text-align: right;\">\n",
       "      <th></th>\n",
       "      <th>BookTitle</th>\n",
       "      <th>Book_Description</th>\n",
       "      <th>Book_Category</th>\n",
       "      <th>Published_Date</th>\n",
       "      <th>Main_Author</th>\n",
       "      <th>RatingID</th>\n",
       "      <th>UserID</th>\n",
       "      <th>Review_Score</th>\n",
       "      <th>Review_Summary</th>\n",
       "      <th>Review_Text</th>\n",
       "      <th>Review_Counts</th>\n",
       "      <th>Average_Rating</th>\n",
       "    </tr>\n",
       "  </thead>\n",
       "  <tbody>\n",
       "    <tr>\n",
       "      <th>531453</th>\n",
       "      <td>Darkness</td>\n",
       "      <td>For horror fans of all ages, a twisted tale of...</td>\n",
       "      <td>Juvenile Fiction</td>\n",
       "      <td>2021-09-21</td>\n",
       "      <td>Christopher Krovatin</td>\n",
       "      <td>0702231525</td>\n",
       "      <td>A2UHR9WH6PPPIU</td>\n",
       "      <td>5.0</td>\n",
       "      <td>Worth a read.</td>\n",
       "      <td>A fascinating book. I throughly enjoyed readin...</td>\n",
       "      <td>24</td>\n",
       "      <td>4.041667</td>\n",
       "    </tr>\n",
       "  </tbody>\n",
       "</table>\n",
       "</div>"
      ],
      "text/plain": [
       "       BookTitle                                   Book_Description  \\\n",
       "531453  Darkness  For horror fans of all ages, a twisted tale of...   \n",
       "\n",
       "           Book_Category Published_Date           Main_Author    RatingID  \\\n",
       "531453  Juvenile Fiction     2021-09-21  Christopher Krovatin  0702231525   \n",
       "\n",
       "                UserID  Review_Score Review_Summary  \\\n",
       "531453  A2UHR9WH6PPPIU           5.0  Worth a read.   \n",
       "\n",
       "                                              Review_Text  Review_Counts  \\\n",
       "531453  A fascinating book. I throughly enjoyed readin...             24   \n",
       "\n",
       "        Average_Rating  \n",
       "531453        4.041667  "
      ]
     },
     "execution_count": 306,
     "metadata": {},
     "output_type": "execute_result"
    }
   ],
   "source": [
    "book_rating.sample(1)"
   ]
  },
  {
   "cell_type": "code",
   "execution_count": 307,
   "id": "3c0d7f67",
   "metadata": {},
   "outputs": [
    {
     "data": {
      "image/png": "[encoded data removed]",
      "text/plain": [
       "<Figure size 1000x600 with 1 Axes>"
      ]
     },
     "metadata": {},
     "output_type": "display_data"
    }
   ],
   "source": [
    "# plot the number of reviews per book\n",
    "plt.figure(figsize=(10,6))\n",
    "book_rating.groupby('BookTitle')['UserID'].count().sort_values(ascending=False).head(10).plot(kind='bar')\n",
    "plt.title('Top 10 Books with the most reviews')\n",
    "plt.xlabel('Book Title')\n",
    "plt.ylabel('Number of Reviews')\n",
    "plt.show()"
   ]
  },
  {
   "cell_type": "code",
   "execution_count": 308,
   "id": "822e8ac4",
   "metadata": {},
   "outputs": [
    {
     "data": {
      "image/png": "[encoded data removed]",
      "text/plain": [
       "<Figure size 1000x500 with 1 Axes>"
      ]
     },
     "metadata": {},
     "output_type": "display_data"
    }
   ],
   "source": [
    "#plot the top 10 categories\n",
    "plt.figure(figsize=(10,5))\n",
    "book_rating[\"Book_Category\"].value_counts()[:10].plot(kind='bar')\n",
    "plt.title(\"Top 10 Book Categories\")\n",
    "plt.xlabel(\"Book Category\")\n",
    "plt.ylabel(\"Number of Books\")\n",
    "plt.show()\n"
   ]
  },
  {
   "cell_type": "code",
   "execution_count": 309,
   "id": "b361654d",
   "metadata": {},
   "outputs": [
    {
     "data": {
      "image/png": "[encoded data removed]",
      "text/plain": [
       "<Figure size 1000x500 with 1 Axes>"
      ]
     },
     "metadata": {},
     "output_type": "display_data"
    }
   ],
   "source": [
    "# plot the top 10 authors with the most books\n",
    "plt.figure(figsize=(10,5))\n",
    "book_rating[\"Main_Author\"].value_counts().head(10).plot(kind=\"bar\")\n",
    "plt.title(\"Top 10 Authors with the most books\")\n",
    "plt.xlabel(\"Authors\")\n",
    "plt.ylabel(\"Number of books\")\n",
    "plt.show()"
   ]
  },
  {
   "attachments": {},
   "cell_type": "markdown",
   "id": "d2c2b280",
   "metadata": {},
   "source": [
    "## 5. Data for the Recommendation System <a class=\"anchor\" id=\"_5\"></a>"
   ]
  },
  {
   "attachments": {},
   "cell_type": "markdown",
   "id": "2571fca8",
   "metadata": {},
   "source": [
    "After multiple unsuccessful attempts to configure the data for the recommendation system, it became apparent that the extensive amount of data needed to be reduced for the project. Following several iterations, it was concluded that utilizing only 10% of the data would be the optimal approach."
   ]
  },
  {
   "cell_type": "code",
   "execution_count": 310,
   "id": "96c1130a",
   "metadata": {},
   "outputs": [
    {
     "data": {
      "text/plain": [
       "(178812, 12)"
      ]
     },
     "execution_count": 310,
     "metadata": {},
     "output_type": "execute_result"
    }
   ],
   "source": [
    "# getting 10% sample of the merged data frame\n",
    "book_rating_s= book_rating.sample(frac=0.1, replace=True, random_state=1)\n",
    "\n",
    "# selecting the columns needed for the recommendation system\n",
    "book_rating_s.shape"
   ]
  },
  {
   "cell_type": "code",
   "execution_count": 311,
   "id": "473eb0e1",
   "metadata": {},
   "outputs": [
    {
     "name": "stdout",
     "output_type": "stream",
     "text": [
      "<class 'pandas.core.frame.DataFrame'>\n",
      "Index: 178812 entries, 128763 to 970894\n",
      "Data columns (total 12 columns):\n",
      " #   Column            Non-Null Count   Dtype  \n",
      "---  ------            --------------   -----  \n",
      " 0   BookTitle         178812 non-null  object \n",
      " 1   Book_Description  178812 non-null  object \n",
      " 2   Book_Category     178812 non-null  object \n",
      " 3   Published_Date    178812 non-null  object \n",
      " 4   Main_Author       178812 non-null  object \n",
      " 5   RatingID          178812 non-null  object \n",
      " 6   UserID            178812 non-null  object \n",
      " 7   Review_Score      178812 non-null  float64\n",
      " 8   Review_Summary    178812 non-null  object \n",
      " 9   Review_Text       178812 non-null  object \n",
      " 10  Review_Counts     178812 non-null  int64  \n",
      " 11  Average_Rating    178812 non-null  float64\n",
      "dtypes: float64(2), int64(1), object(9)\n",
      "memory usage: 17.7+ MB\n"
     ]
    }
   ],
   "source": [
    "book_rating_s.info()"
   ]
  },
  {
   "attachments": {},
   "cell_type": "markdown",
   "id": "b7cb20cf",
   "metadata": {},
   "source": [
    "### 5.1 Transforming Data <a class=\"anchor\" id=\"_5.1\"></a>\n"
   ]
  },
  {
   "attachments": {},
   "cell_type": "markdown",
   "id": "d573395e",
   "metadata": {},
   "source": [
    "Creating numerical values for the `UserID` and `BookTitle` columns"
   ]
  },
  {
   "cell_type": "code",
   "execution_count": 312,
   "id": "3638a794",
   "metadata": {},
   "outputs": [
    {
     "data": {
      "text/html": [
       "<div>\n",
       "<style scoped>\n",
       "    .dataframe tbody tr th:only-of-type {\n",
       "        vertical-align: middle;\n",
       "    }\n",
       "\n",
       "    .dataframe tbody tr th {\n",
       "        vertical-align: top;\n",
       "    }\n",
       "\n",
       "    .dataframe thead th {\n",
       "        text-align: right;\n",
       "    }\n",
       "</style>\n",
       "<table border=\"1\" class=\"dataframe\">\n",
       "  <thead>\n",
       "    <tr style=\"text-align: right;\">\n",
       "      <th></th>\n",
       "      <th>BookTitle</th>\n",
       "      <th>Book_Description</th>\n",
       "      <th>Book_Category</th>\n",
       "      <th>Published_Date</th>\n",
       "      <th>Main_Author</th>\n",
       "      <th>RatingID</th>\n",
       "      <th>UserID</th>\n",
       "      <th>Review_Score</th>\n",
       "      <th>Review_Summary</th>\n",
       "      <th>Review_Text</th>\n",
       "      <th>Review_Counts</th>\n",
       "      <th>Average_Rating</th>\n",
       "      <th>UserID_</th>\n",
       "      <th>BookTitle_</th>\n",
       "    </tr>\n",
       "  </thead>\n",
       "  <tbody>\n",
       "    <tr>\n",
       "      <th>1202471</th>\n",
       "      <td>All One Universe</td>\n",
       "      <td>Poul Anderson himself has put together a retro...</td>\n",
       "      <td>Fiction</td>\n",
       "      <td>1997-05-15</td>\n",
       "      <td>Poul Anderson</td>\n",
       "      <td>0812539095</td>\n",
       "      <td>A1V34YV8D0TNGP</td>\n",
       "      <td>4.0</td>\n",
       "      <td>Atoms and Unclefts</td>\n",
       "      <td>The reason I purchased this book was for the e...</td>\n",
       "      <td>5</td>\n",
       "      <td>4.000</td>\n",
       "      <td>29354</td>\n",
       "      <td>2501</td>\n",
       "    </tr>\n",
       "    <tr>\n",
       "      <th>580339</th>\n",
       "      <td>Vanity Fair (Bantam Classic)</td>\n",
       "      <td>\"I do not say there is no character as well dr...</td>\n",
       "      <td>Fiction</td>\n",
       "      <td>2005-12-27</td>\n",
       "      <td>William Makepeace Thackeray</td>\n",
       "      <td>B000FCKLXY</td>\n",
       "      <td>A1APHERUJIKK3I</td>\n",
       "      <td>5.0</td>\n",
       "      <td>insightful and witty</td>\n",
       "      <td>Vanity Fair by William Makepeace ThackerayVani...</td>\n",
       "      <td>127</td>\n",
       "      <td>4.272</td>\n",
       "      <td>10180</td>\n",
       "      <td>45648</td>\n",
       "    </tr>\n",
       "    <tr>\n",
       "      <th>1683138</th>\n",
       "      <td>Microsoft .NET Platform and Technologies</td>\n",
       "      <td>This guide covers evaluating .NET: technical c...</td>\n",
       "      <td>Computers</td>\n",
       "      <td>2002</td>\n",
       "      <td>Curt Simmons</td>\n",
       "      <td>0130341789</td>\n",
       "      <td>A1RTSGY2749P9Z</td>\n",
       "      <td>3.0</td>\n",
       "      <td>Useful But Uneven Overview of .NET for Softwar...</td>\n",
       "      <td>In 254 pages prolific Microsoft technologies a...</td>\n",
       "      <td>2</td>\n",
       "      <td>3.000</td>\n",
       "      <td>26159</td>\n",
       "      <td>22929</td>\n",
       "    </tr>\n",
       "  </tbody>\n",
       "</table>\n",
       "</div>"
      ],
      "text/plain": [
       "                                        BookTitle  \\\n",
       "1202471                          All One Universe   \n",
       "580339               Vanity Fair (Bantam Classic)   \n",
       "1683138  Microsoft .NET Platform and Technologies   \n",
       "\n",
       "                                          Book_Description Book_Category  \\\n",
       "1202471  Poul Anderson himself has put together a retro...       Fiction   \n",
       "580339   \"I do not say there is no character as well dr...       Fiction   \n",
       "1683138  This guide covers evaluating .NET: technical c...     Computers   \n",
       "\n",
       "        Published_Date                  Main_Author    RatingID  \\\n",
       "1202471     1997-05-15                Poul Anderson  0812539095   \n",
       "580339      2005-12-27  William Makepeace Thackeray  B000FCKLXY   \n",
       "1683138           2002                 Curt Simmons  0130341789   \n",
       "\n",
       "                 UserID  Review_Score  \\\n",
       "1202471  A1V34YV8D0TNGP           4.0   \n",
       "580339   A1APHERUJIKK3I           5.0   \n",
       "1683138  A1RTSGY2749P9Z           3.0   \n",
       "\n",
       "                                            Review_Summary  \\\n",
       "1202471                                 Atoms and Unclefts   \n",
       "580339                                insightful and witty   \n",
       "1683138  Useful But Uneven Overview of .NET for Softwar...   \n",
       "\n",
       "                                               Review_Text  Review_Counts  \\\n",
       "1202471  The reason I purchased this book was for the e...              5   \n",
       "580339   Vanity Fair by William Makepeace ThackerayVani...            127   \n",
       "1683138  In 254 pages prolific Microsoft technologies a...              2   \n",
       "\n",
       "         Average_Rating  UserID_  BookTitle_  \n",
       "1202471           4.000    29354        2501  \n",
       "580339            4.272    10180       45648  \n",
       "1683138           3.000    26159       22929  "
      ]
     },
     "execution_count": 312,
     "metadata": {},
     "output_type": "execute_result"
    }
   ],
   "source": [
    "# assigne a numeric value to the user_id column\n",
    "book_rating_s[\"UserID_\"] = book_rating_s[\"UserID\"].astype(\"category\").cat.codes\n",
    "\n",
    "# assigne a numeric value to the Title column\n",
    "book_rating_s[\"BookTitle_\"] = book_rating_s[\"BookTitle\"].astype(\"category\").cat.codes\n",
    "\n",
    "book_rating_s.sample(3)"
   ]
  },
  {
   "attachments": {},
   "cell_type": "markdown",
   "id": "9f6723e3",
   "metadata": {},
   "source": [
    "---"
   ]
  },
  {
   "attachments": {},
   "cell_type": "markdown",
   "id": "a210d18a",
   "metadata": {},
   "source": [
    "## 6. Modeling Recommender Systems <a class=\"anchor\" id=\"_6\"></a>\n"
   ]
  },
  {
   "attachments": {},
   "cell_type": "markdown",
   "id": "16903a80",
   "metadata": {},
   "source": [
    "### 6.1 User Independent System <a class=\"anchor\" id=\"_6.1\"></a>\n",
    "\n",
    "Use it to find the most popular items, and recommend them to our user."
   ]
  },
  {
   "cell_type": "code",
   "execution_count": 313,
   "id": "7b659547",
   "metadata": {},
   "outputs": [
    {
     "data": {
      "text/html": [
       "<div>\n",
       "<style scoped>\n",
       "    .dataframe tbody tr th:only-of-type {\n",
       "        vertical-align: middle;\n",
       "    }\n",
       "\n",
       "    .dataframe tbody tr th {\n",
       "        vertical-align: top;\n",
       "    }\n",
       "\n",
       "    .dataframe thead th {\n",
       "        text-align: right;\n",
       "    }\n",
       "</style>\n",
       "<table border=\"1\" class=\"dataframe\">\n",
       "  <thead>\n",
       "    <tr style=\"text-align: right;\">\n",
       "      <th></th>\n",
       "      <th>BookTitle_</th>\n",
       "      <th>BookTitle</th>\n",
       "      <th>Average_Rating</th>\n",
       "      <th>Review_Counts</th>\n",
       "    </tr>\n",
       "  </thead>\n",
       "  <tbody>\n",
       "    <tr>\n",
       "      <th>128763</th>\n",
       "      <td>40327</td>\n",
       "      <td>The Princess Bride</td>\n",
       "      <td>4.410299</td>\n",
       "      <td>1210</td>\n",
       "    </tr>\n",
       "    <tr>\n",
       "      <th>494478</th>\n",
       "      <td>39946</td>\n",
       "      <td>The Pdr Family Guide to Prescription Drugs 8th Ed</td>\n",
       "      <td>4.000000</td>\n",
       "      <td>4</td>\n",
       "    </tr>\n",
       "    <tr>\n",
       "      <th>473572</th>\n",
       "      <td>19244</td>\n",
       "      <td>Joy in the Morning</td>\n",
       "      <td>4.228571</td>\n",
       "      <td>178</td>\n",
       "    </tr>\n",
       "  </tbody>\n",
       "</table>\n",
       "</div>"
      ],
      "text/plain": [
       "        BookTitle_                                          BookTitle  \\\n",
       "128763       40327                                 The Princess Bride   \n",
       "494478       39946  The Pdr Family Guide to Prescription Drugs 8th Ed   \n",
       "473572       19244                                 Joy in the Morning   \n",
       "\n",
       "        Average_Rating  Review_Counts  \n",
       "128763        4.410299           1210  \n",
       "494478        4.000000              4  \n",
       "473572        4.228571            178  "
      ]
     },
     "execution_count": 313,
     "metadata": {},
     "output_type": "execute_result"
    }
   ],
   "source": [
    "# creat a new df top_rated with BookTitle_, BookTitle, Book_Description, Average_Rating, and Review_Counts columns\n",
    "top_rated = book_rating_s[[\"BookTitle_\",\"BookTitle\",\"Average_Rating\",\"Review_Counts\"]]\n",
    "top_rated.head(3)\n"
   ]
  },
  {
   "cell_type": "code",
   "execution_count": 314,
   "id": "fda44917",
   "metadata": {},
   "outputs": [
    {
     "data": {
      "text/plain": [
       "(178812, 4)"
      ]
     },
     "execution_count": 314,
     "metadata": {},
     "output_type": "execute_result"
    }
   ],
   "source": [
    "top_rated.shape"
   ]
  },
  {
   "cell_type": "code",
   "execution_count": 315,
   "id": "ccb1dbf7",
   "metadata": {},
   "outputs": [
    {
     "data": {
      "text/plain": [
       "(48278, 4)"
      ]
     },
     "execution_count": 315,
     "metadata": {},
     "output_type": "execute_result"
    }
   ],
   "source": [
    "# update the top_rated df with unique values of BookTitle_ and Book_Description\n",
    "top_rated = top_rated.drop_duplicates(subset=['BookTitle_'], keep='first')\n",
    "top_rated.shape"
   ]
  },
  {
   "cell_type": "code",
   "execution_count": 316,
   "id": "465aedc1",
   "metadata": {},
   "outputs": [
    {
     "data": {
      "text/html": [
       "<div>\n",
       "<style scoped>\n",
       "    .dataframe tbody tr th:only-of-type {\n",
       "        vertical-align: middle;\n",
       "    }\n",
       "\n",
       "    .dataframe tbody tr th {\n",
       "        vertical-align: top;\n",
       "    }\n",
       "\n",
       "    .dataframe thead th {\n",
       "        text-align: right;\n",
       "    }\n",
       "</style>\n",
       "<table border=\"1\" class=\"dataframe\">\n",
       "  <thead>\n",
       "    <tr style=\"text-align: right;\">\n",
       "      <th></th>\n",
       "      <th>BookTitle_</th>\n",
       "      <th>BookTitle</th>\n",
       "      <th>Average_Rating</th>\n",
       "      <th>Review_Counts</th>\n",
       "    </tr>\n",
       "  </thead>\n",
       "  <tbody>\n",
       "    <tr>\n",
       "      <th>128763</th>\n",
       "      <td>40327</td>\n",
       "      <td>The Princess Bride</td>\n",
       "      <td>4.410299</td>\n",
       "      <td>1210</td>\n",
       "    </tr>\n",
       "    <tr>\n",
       "      <th>494478</th>\n",
       "      <td>39946</td>\n",
       "      <td>The Pdr Family Guide to Prescription Drugs 8th Ed</td>\n",
       "      <td>4.000000</td>\n",
       "      <td>4</td>\n",
       "    </tr>\n",
       "    <tr>\n",
       "      <th>473572</th>\n",
       "      <td>19244</td>\n",
       "      <td>Joy in the Morning</td>\n",
       "      <td>4.228571</td>\n",
       "      <td>178</td>\n",
       "    </tr>\n",
       "    <tr>\n",
       "      <th>493986</th>\n",
       "      <td>28906</td>\n",
       "      <td>Return to Promise (Heart of Texas)</td>\n",
       "      <td>3.750000</td>\n",
       "      <td>16</td>\n",
       "    </tr>\n",
       "    <tr>\n",
       "      <th>840772</th>\n",
       "      <td>29903</td>\n",
       "      <td>Scar Tissue</td>\n",
       "      <td>4.287975</td>\n",
       "      <td>317</td>\n",
       "    </tr>\n",
       "    <tr>\n",
       "      <th>...</th>\n",
       "      <td>...</td>\n",
       "      <td>...</td>\n",
       "      <td>...</td>\n",
       "      <td>...</td>\n",
       "    </tr>\n",
       "    <tr>\n",
       "      <th>1346725</th>\n",
       "      <td>6379</td>\n",
       "      <td>COIN LOCKER BABIES.</td>\n",
       "      <td>4.045455</td>\n",
       "      <td>22</td>\n",
       "    </tr>\n",
       "    <tr>\n",
       "      <th>690798</th>\n",
       "      <td>8162</td>\n",
       "      <td>Complete Sonnets</td>\n",
       "      <td>4.071429</td>\n",
       "      <td>14</td>\n",
       "    </tr>\n",
       "    <tr>\n",
       "      <th>1570655</th>\n",
       "      <td>32300</td>\n",
       "      <td>Stories I Wouldn't Tell Nobody But God</td>\n",
       "      <td>4.250000</td>\n",
       "      <td>16</td>\n",
       "    </tr>\n",
       "    <tr>\n",
       "      <th>462524</th>\n",
       "      <td>7604</td>\n",
       "      <td>Classic Four Block Applique Quilts</td>\n",
       "      <td>4.600000</td>\n",
       "      <td>5</td>\n",
       "    </tr>\n",
       "    <tr>\n",
       "      <th>972637</th>\n",
       "      <td>17692</td>\n",
       "      <td>Illuminations of Calistis: First Theatre: The ...</td>\n",
       "      <td>4.666667</td>\n",
       "      <td>3</td>\n",
       "    </tr>\n",
       "  </tbody>\n",
       "</table>\n",
       "<p>48278 rows × 4 columns</p>\n",
       "</div>"
      ],
      "text/plain": [
       "         BookTitle_                                          BookTitle  \\\n",
       "128763        40327                                 The Princess Bride   \n",
       "494478        39946  The Pdr Family Guide to Prescription Drugs 8th Ed   \n",
       "473572        19244                                 Joy in the Morning   \n",
       "493986        28906                 Return to Promise (Heart of Texas)   \n",
       "840772        29903                                        Scar Tissue   \n",
       "...             ...                                                ...   \n",
       "1346725        6379                                COIN LOCKER BABIES.   \n",
       "690798         8162                                   Complete Sonnets   \n",
       "1570655       32300             Stories I Wouldn't Tell Nobody But God   \n",
       "462524         7604                 Classic Four Block Applique Quilts   \n",
       "972637        17692  Illuminations of Calistis: First Theatre: The ...   \n",
       "\n",
       "         Average_Rating  Review_Counts  \n",
       "128763         4.410299           1210  \n",
       "494478         4.000000              4  \n",
       "473572         4.228571            178  \n",
       "493986         3.750000             16  \n",
       "840772         4.287975            317  \n",
       "...                 ...            ...  \n",
       "1346725        4.045455             22  \n",
       "690798         4.071429             14  \n",
       "1570655        4.250000             16  \n",
       "462524         4.600000              5  \n",
       "972637         4.666667              3  \n",
       "\n",
       "[48278 rows x 4 columns]"
      ]
     },
     "execution_count": 316,
     "metadata": {},
     "output_type": "execute_result"
    }
   ],
   "source": [
    "top_rated"
   ]
  },
  {
   "cell_type": "code",
   "execution_count": 317,
   "id": "a004b4f8",
   "metadata": {},
   "outputs": [
    {
     "data": {
      "text/plain": [
       "432252     How to Read the Catechism of the Catholic Chur...\n",
       "479310     Systematic Theology, vol. 2: Existence and the...\n",
       "800683     If You Love Me, Don't Love Me: Undoing Recipro...\n",
       "1589642                                       Holiday Baking\n",
       "498034     Judgment on Nuremburg: American Attitudes Towa...\n",
       "1073641                  Sweet & Simple Country Cross-Stitch\n",
       "1131540    The Janowska Road (Also Published As 'The Deat...\n",
       "538917                                    RIVER THROUGH TIME\n",
       "959029                   Cam Jansen: The Ghostly Mystery #16\n",
       "862673                                               Curries\n",
       "Name: BookTitle, dtype: object"
      ]
     },
     "execution_count": 317,
     "metadata": {},
     "output_type": "execute_result"
    }
   ],
   "source": [
    "# Finding the top rated books\n",
    "top_rated = top_rated.sort_values(by=['Average_Rating'], ascending=False)\n",
    "top_rated['BookTitle'].head(10)"
   ]
  },
  {
   "cell_type": "code",
   "execution_count": 318,
   "id": "7be5111f",
   "metadata": {},
   "outputs": [
    {
     "data": {
      "text/html": [
       "<div>\n",
       "<style scoped>\n",
       "    .dataframe tbody tr th:only-of-type {\n",
       "        vertical-align: middle;\n",
       "    }\n",
       "\n",
       "    .dataframe tbody tr th {\n",
       "        vertical-align: top;\n",
       "    }\n",
       "\n",
       "    .dataframe thead th {\n",
       "        text-align: right;\n",
       "    }\n",
       "</style>\n",
       "<table border=\"1\" class=\"dataframe\">\n",
       "  <thead>\n",
       "    <tr style=\"text-align: right;\">\n",
       "      <th></th>\n",
       "      <th>BookTitle_</th>\n",
       "      <th>BookTitle</th>\n",
       "      <th>Average_Rating</th>\n",
       "      <th>Review_Counts</th>\n",
       "    </tr>\n",
       "  </thead>\n",
       "  <tbody>\n",
       "    <tr>\n",
       "      <th>432252</th>\n",
       "      <td>17017</td>\n",
       "      <td>How to Read the Catechism of the Catholic Chur...</td>\n",
       "      <td>5.0</td>\n",
       "      <td>1</td>\n",
       "    </tr>\n",
       "    <tr>\n",
       "      <th>479310</th>\n",
       "      <td>32863</td>\n",
       "      <td>Systematic Theology, vol. 2: Existence and the...</td>\n",
       "      <td>5.0</td>\n",
       "      <td>6</td>\n",
       "    </tr>\n",
       "    <tr>\n",
       "      <th>800683</th>\n",
       "      <td>17651</td>\n",
       "      <td>If You Love Me, Don't Love Me: Undoing Recipro...</td>\n",
       "      <td>5.0</td>\n",
       "      <td>2</td>\n",
       "    </tr>\n",
       "    <tr>\n",
       "      <th>1589642</th>\n",
       "      <td>16336</td>\n",
       "      <td>Holiday Baking</td>\n",
       "      <td>5.0</td>\n",
       "      <td>3</td>\n",
       "    </tr>\n",
       "    <tr>\n",
       "      <th>498034</th>\n",
       "      <td>19266</td>\n",
       "      <td>Judgment on Nuremburg: American Attitudes Towa...</td>\n",
       "      <td>5.0</td>\n",
       "      <td>1</td>\n",
       "    </tr>\n",
       "  </tbody>\n",
       "</table>\n",
       "</div>"
      ],
      "text/plain": [
       "         BookTitle_                                          BookTitle  \\\n",
       "432252        17017  How to Read the Catechism of the Catholic Chur...   \n",
       "479310        32863  Systematic Theology, vol. 2: Existence and the...   \n",
       "800683        17651  If You Love Me, Don't Love Me: Undoing Recipro...   \n",
       "1589642       16336                                     Holiday Baking   \n",
       "498034        19266  Judgment on Nuremburg: American Attitudes Towa...   \n",
       "\n",
       "         Average_Rating  Review_Counts  \n",
       "432252              5.0              1  \n",
       "479310              5.0              6  \n",
       "800683              5.0              2  \n",
       "1589642             5.0              3  \n",
       "498034              5.0              1  "
      ]
     },
     "execution_count": 318,
     "metadata": {},
     "output_type": "execute_result"
    }
   ],
   "source": [
    "# These are the top rated books. However, they are not considering the number of reviews per book\n",
    "top_rated.head(5)"
   ]
  },
  {
   "attachments": {},
   "cell_type": "markdown",
   "id": "f95897e8",
   "metadata": {},
   "source": [
    "- ##### **Thresholding**"
   ]
  },
  {
   "cell_type": "code",
   "execution_count": 319,
   "id": "73870fc9",
   "metadata": {},
   "outputs": [
    {
     "data": {
      "text/html": [
       "<div>\n",
       "<style scoped>\n",
       "    .dataframe tbody tr th:only-of-type {\n",
       "        vertical-align: middle;\n",
       "    }\n",
       "\n",
       "    .dataframe tbody tr th {\n",
       "        vertical-align: top;\n",
       "    }\n",
       "\n",
       "    .dataframe thead th {\n",
       "        text-align: right;\n",
       "    }\n",
       "</style>\n",
       "<table border=\"1\" class=\"dataframe\">\n",
       "  <thead>\n",
       "    <tr style=\"text-align: right;\">\n",
       "      <th></th>\n",
       "      <th>BookTitle_</th>\n",
       "      <th>BookTitle</th>\n",
       "      <th>Average_Rating</th>\n",
       "      <th>Review_Counts</th>\n",
       "    </tr>\n",
       "  </thead>\n",
       "  <tbody>\n",
       "    <tr>\n",
       "      <th>955698</th>\n",
       "      <td>15603</td>\n",
       "      <td>Harry Potter &amp; the Prisoner of Azkaban</td>\n",
       "      <td>4.769741</td>\n",
       "      <td>1513</td>\n",
       "    </tr>\n",
       "    <tr>\n",
       "      <th>1186954</th>\n",
       "      <td>28656</td>\n",
       "      <td>Redeeming Love</td>\n",
       "      <td>4.745455</td>\n",
       "      <td>1210</td>\n",
       "    </tr>\n",
       "    <tr>\n",
       "      <th>112582</th>\n",
       "      <td>22004</td>\n",
       "      <td>Man's Search for Meaning</td>\n",
       "      <td>4.735404</td>\n",
       "      <td>2424</td>\n",
       "    </tr>\n",
       "    <tr>\n",
       "      <th>37349</th>\n",
       "      <td>1533</td>\n",
       "      <td>A Tree Grows in Brooklyn</td>\n",
       "      <td>4.714389</td>\n",
       "      <td>2776</td>\n",
       "    </tr>\n",
       "    <tr>\n",
       "      <th>467957</th>\n",
       "      <td>15606</td>\n",
       "      <td>Harry Potter and The Sorcerer's Stone</td>\n",
       "      <td>4.687938</td>\n",
       "      <td>3729</td>\n",
       "    </tr>\n",
       "  </tbody>\n",
       "</table>\n",
       "</div>"
      ],
      "text/plain": [
       "         BookTitle_                               BookTitle  Average_Rating  \\\n",
       "955698        15603  Harry Potter & the Prisoner of Azkaban        4.769741   \n",
       "1186954       28656                          Redeeming Love        4.745455   \n",
       "112582        22004                Man's Search for Meaning        4.735404   \n",
       "37349          1533                A Tree Grows in Brooklyn        4.714389   \n",
       "467957        15606   Harry Potter and The Sorcerer's Stone        4.687938   \n",
       "\n",
       "         Review_Counts  \n",
       "955698            1513  \n",
       "1186954           1210  \n",
       "112582            2424  \n",
       "37349             2776  \n",
       "467957            3729  "
      ]
     },
     "execution_count": 319,
     "metadata": {},
     "output_type": "execute_result"
    }
   ],
   "source": [
    "threshold = 1000  # Set the threshold for the minimum number of reviews\n",
    "\n",
    "# Filter the 'top_rated' DataFrame to include only books with review counts equal to or above the threshold\n",
    "book_w_many_reviews_df = top_rated[top_rated['Review_Counts'] >= threshold]\n",
    "\n",
    "# Sort the filtered DataFrame by 'Average_Rating' in descending order to get the top-rated books\n",
    "top_rated_v2 = book_w_many_reviews_df.sort_values(by=['Average_Rating'], ascending=False)\n",
    "\n",
    "# Display the top 5 books from the sorted DataFrame\n",
    "top_rated_v2.head(5)\n"
   ]
  },
  {
   "attachments": {},
   "cell_type": "markdown",
   "id": "eaa91ca6",
   "metadata": {},
   "source": [
    "----"
   ]
  },
  {
   "attachments": {},
   "cell_type": "markdown",
   "id": "c08bf3ea",
   "metadata": {},
   "source": [
    "### 6.2 Content Based Recommendations <a class=\"anchor\" id=\"_6.2\"></a>"
   ]
  },
  {
   "cell_type": "code",
   "execution_count": 320,
   "id": "f79fdcb9",
   "metadata": {},
   "outputs": [],
   "source": [
    "# create a new df for the content based recommendation system\n",
    "content_df = book_rating_s[[\"BookTitle_\",\"BookTitle\",\"Book_Description\",\"Average_Rating\",\"Review_Counts\"]]\n",
    "content_df = content_df.drop_duplicates(subset=['BookTitle_'], keep='first')"
   ]
  },
  {
   "cell_type": "code",
   "execution_count": 321,
   "id": "00be3e47",
   "metadata": {},
   "outputs": [
    {
     "data": {
      "text/html": [
       "<div>\n",
       "<style scoped>\n",
       "    .dataframe tbody tr th:only-of-type {\n",
       "        vertical-align: middle;\n",
       "    }\n",
       "\n",
       "    .dataframe tbody tr th {\n",
       "        vertical-align: top;\n",
       "    }\n",
       "\n",
       "    .dataframe thead th {\n",
       "        text-align: right;\n",
       "    }\n",
       "</style>\n",
       "<table border=\"1\" class=\"dataframe\">\n",
       "  <thead>\n",
       "    <tr style=\"text-align: right;\">\n",
       "      <th></th>\n",
       "      <th>BookTitle_</th>\n",
       "      <th>BookTitle</th>\n",
       "      <th>Book_Description</th>\n",
       "      <th>Average_Rating</th>\n",
       "      <th>Review_Counts</th>\n",
       "    </tr>\n",
       "  </thead>\n",
       "  <tbody>\n",
       "    <tr>\n",
       "      <th>0</th>\n",
       "      <td>40327</td>\n",
       "      <td>The Princess Bride</td>\n",
       "      <td>In a twenty-fifth anniversary, behind-the-scen...</td>\n",
       "      <td>4.410299</td>\n",
       "      <td>1210</td>\n",
       "    </tr>\n",
       "    <tr>\n",
       "      <th>1</th>\n",
       "      <td>39946</td>\n",
       "      <td>The Pdr Family Guide to Prescription Drugs 8th Ed</td>\n",
       "      <td>Based on the Physicians' Desk Reference, the n...</td>\n",
       "      <td>4.000000</td>\n",
       "      <td>4</td>\n",
       "    </tr>\n",
       "    <tr>\n",
       "      <th>2</th>\n",
       "      <td>19244</td>\n",
       "      <td>Joy in the Morning</td>\n",
       "      <td>A timeless classic is reborn! From Betty Smith...</td>\n",
       "      <td>4.228571</td>\n",
       "      <td>178</td>\n",
       "    </tr>\n",
       "  </tbody>\n",
       "</table>\n",
       "</div>"
      ],
      "text/plain": [
       "   BookTitle_                                          BookTitle  \\\n",
       "0       40327                                 The Princess Bride   \n",
       "1       39946  The Pdr Family Guide to Prescription Drugs 8th Ed   \n",
       "2       19244                                 Joy in the Morning   \n",
       "\n",
       "                                    Book_Description  Average_Rating  \\\n",
       "0  In a twenty-fifth anniversary, behind-the-scen...        4.410299   \n",
       "1  Based on the Physicians' Desk Reference, the n...        4.000000   \n",
       "2  A timeless classic is reborn! From Betty Smith...        4.228571   \n",
       "\n",
       "   Review_Counts  \n",
       "0           1210  \n",
       "1              4  \n",
       "2            178  "
      ]
     },
     "execution_count": 321,
     "metadata": {},
     "output_type": "execute_result"
    }
   ],
   "source": [
    "# update the index of the content_df\n",
    "content_df = content_df.reset_index(drop=True)\n",
    "content_df.head(3)"
   ]
  },
  {
   "cell_type": "code",
   "execution_count": 322,
   "id": "9e3fc0e0",
   "metadata": {},
   "outputs": [
    {
     "data": {
      "text/html": [
       "<div>\n",
       "<style scoped>\n",
       "    .dataframe tbody tr th:only-of-type {\n",
       "        vertical-align: middle;\n",
       "    }\n",
       "\n",
       "    .dataframe tbody tr th {\n",
       "        vertical-align: top;\n",
       "    }\n",
       "\n",
       "    .dataframe thead th {\n",
       "        text-align: right;\n",
       "    }\n",
       "</style>\n",
       "<table border=\"1\" class=\"dataframe\">\n",
       "  <thead>\n",
       "    <tr style=\"text-align: right;\">\n",
       "      <th></th>\n",
       "      <th>BookTitle</th>\n",
       "      <th>Book_Description</th>\n",
       "    </tr>\n",
       "  </thead>\n",
       "  <tbody>\n",
       "    <tr>\n",
       "      <th>0</th>\n",
       "      <td>The Princess Bride</td>\n",
       "      <td>In a twenty-fifth anniversary, behind-the-scen...</td>\n",
       "    </tr>\n",
       "    <tr>\n",
       "      <th>1</th>\n",
       "      <td>The Pdr Family Guide to Prescription Drugs 8th Ed</td>\n",
       "      <td>Based on the Physicians' Desk Reference, the n...</td>\n",
       "    </tr>\n",
       "    <tr>\n",
       "      <th>2</th>\n",
       "      <td>Joy in the Morning</td>\n",
       "      <td>A timeless classic is reborn! From Betty Smith...</td>\n",
       "    </tr>\n",
       "    <tr>\n",
       "      <th>3</th>\n",
       "      <td>Return to Promise (Heart of Texas)</td>\n",
       "      <td>Come back again to Promise, Texas, in this cla...</td>\n",
       "    </tr>\n",
       "    <tr>\n",
       "      <th>4</th>\n",
       "      <td>Scar Tissue</td>\n",
       "      <td>In this \"vivid and inspiring\" NYT bestseller (...</td>\n",
       "    </tr>\n",
       "  </tbody>\n",
       "</table>\n",
       "</div>"
      ],
      "text/plain": [
       "                                           BookTitle  \\\n",
       "0                                 The Princess Bride   \n",
       "1  The Pdr Family Guide to Prescription Drugs 8th Ed   \n",
       "2                                 Joy in the Morning   \n",
       "3                 Return to Promise (Heart of Texas)   \n",
       "4                                        Scar Tissue   \n",
       "\n",
       "                                    Book_Description  \n",
       "0  In a twenty-fifth anniversary, behind-the-scen...  \n",
       "1  Based on the Physicians' Desk Reference, the n...  \n",
       "2  A timeless classic is reborn! From Betty Smith...  \n",
       "3  Come back again to Promise, Texas, in this cla...  \n",
       "4  In this \"vivid and inspiring\" NYT bestseller (...  "
      ]
     },
     "execution_count": 322,
     "metadata": {},
     "output_type": "execute_result"
    }
   ],
   "source": [
    "df_descriptions = content_df[['BookTitle', 'Book_Description']]\n",
    "df_descriptions.head(5)"
   ]
  },
  {
   "cell_type": "code",
   "execution_count": 323,
   "id": "de85e3f1",
   "metadata": {},
   "outputs": [],
   "source": [
    "vectorizer = TfidfVectorizer(stop_words = \"english\", min_df=2)\n",
    "content_df['Book_Description'] = content_df['Book_Description'].fillna(\"\")\n",
    "\n",
    "TF_IDF_matrix = vectorizer.fit_transform(content_df['Book_Description'])"
   ]
  },
  {
   "cell_type": "code",
   "execution_count": 324,
   "id": "20ab0e65",
   "metadata": {},
   "outputs": [
    {
     "data": {
      "text/plain": [
       "(48278, 56555)"
      ]
     },
     "execution_count": 324,
     "metadata": {},
     "output_type": "execute_result"
    }
   ],
   "source": [
    "TF_IDF_matrix.shape"
   ]
  },
  {
   "cell_type": "code",
   "execution_count": 325,
   "id": "083be37b",
   "metadata": {},
   "outputs": [
    {
     "data": {
      "text/html": [
       "<div>\n",
       "<style scoped>\n",
       "    .dataframe tbody tr th:only-of-type {\n",
       "        vertical-align: middle;\n",
       "    }\n",
       "\n",
       "    .dataframe tbody tr th {\n",
       "        vertical-align: top;\n",
       "    }\n",
       "\n",
       "    .dataframe thead th {\n",
       "        text-align: right;\n",
       "    }\n",
       "</style>\n",
       "<table border=\"1\" class=\"dataframe\">\n",
       "  <thead>\n",
       "    <tr style=\"text-align: right;\">\n",
       "      <th></th>\n",
       "      <th>BookTitle_</th>\n",
       "      <th>BookTitle</th>\n",
       "      <th>Book_Description</th>\n",
       "      <th>Average_Rating</th>\n",
       "      <th>Review_Counts</th>\n",
       "    </tr>\n",
       "  </thead>\n",
       "  <tbody>\n",
       "    <tr>\n",
       "      <th>530</th>\n",
       "      <td>15607</td>\n",
       "      <td>Harry Potter and the Chamber of Secrets</td>\n",
       "      <td>Witchcraft, wizardry - fiction.</td>\n",
       "      <td>4.672855</td>\n",
       "      <td>1572</td>\n",
       "    </tr>\n",
       "    <tr>\n",
       "      <th>1214</th>\n",
       "      <td>15603</td>\n",
       "      <td>Harry Potter &amp; the Prisoner of Azkaban</td>\n",
       "      <td>Through classroom activities, wizard rock conc...</td>\n",
       "      <td>4.769741</td>\n",
       "      <td>1513</td>\n",
       "    </tr>\n",
       "    <tr>\n",
       "      <th>1891</th>\n",
       "      <td>15606</td>\n",
       "      <td>Harry Potter and The Sorcerer's Stone</td>\n",
       "      <td>Celebrate 20 years of Harry Potter magic! Harr...</td>\n",
       "      <td>4.687938</td>\n",
       "      <td>3729</td>\n",
       "    </tr>\n",
       "    <tr>\n",
       "      <th>3127</th>\n",
       "      <td>40971</td>\n",
       "      <td>The Science of Harry Potter: How Magic Really ...</td>\n",
       "      <td>A look at the scientific principles underpinni...</td>\n",
       "      <td>3.523810</td>\n",
       "      <td>21</td>\n",
       "    </tr>\n",
       "    <tr>\n",
       "      <th>9716</th>\n",
       "      <td>15604</td>\n",
       "      <td>Harry Potter Hogwarts School: A Magical 3-D Ca...</td>\n",
       "      <td>Magic abounds in this tall, deluxe pop-up caro...</td>\n",
       "      <td>5.000000</td>\n",
       "      <td>8</td>\n",
       "    </tr>\n",
       "    <tr>\n",
       "      <th>18785</th>\n",
       "      <td>15605</td>\n",
       "      <td>Harry Potter and Philosophy: If Aristotle Ran ...</td>\n",
       "      <td>Urging readers of the Harry Potter series to d...</td>\n",
       "      <td>4.192308</td>\n",
       "      <td>26</td>\n",
       "    </tr>\n",
       "    <tr>\n",
       "      <th>20234</th>\n",
       "      <td>15609</td>\n",
       "      <td>Harry Potter et le prisonnier d'Azkaban</td>\n",
       "      <td>Sirius Black, le dangereux criminel qui s’est ...</td>\n",
       "      <td>4.714286</td>\n",
       "      <td>14</td>\n",
       "    </tr>\n",
       "    <tr>\n",
       "      <th>21501</th>\n",
       "      <td>15608</td>\n",
       "      <td>Harry Potter and the Prisoner of Azkaban 2005 ...</td>\n",
       "      <td>Now in its twentieth edition, a concise guide ...</td>\n",
       "      <td>4.333333</td>\n",
       "      <td>3</td>\n",
       "    </tr>\n",
       "  </tbody>\n",
       "</table>\n",
       "</div>"
      ],
      "text/plain": [
       "       BookTitle_                                          BookTitle  \\\n",
       "530         15607            Harry Potter and the Chamber of Secrets   \n",
       "1214        15603             Harry Potter & the Prisoner of Azkaban   \n",
       "1891        15606              Harry Potter and The Sorcerer's Stone   \n",
       "3127        40971  The Science of Harry Potter: How Magic Really ...   \n",
       "9716        15604  Harry Potter Hogwarts School: A Magical 3-D Ca...   \n",
       "18785       15605  Harry Potter and Philosophy: If Aristotle Ran ...   \n",
       "20234       15609            Harry Potter et le prisonnier d'Azkaban   \n",
       "21501       15608  Harry Potter and the Prisoner of Azkaban 2005 ...   \n",
       "\n",
       "                                        Book_Description  Average_Rating  \\\n",
       "530                      Witchcraft, wizardry - fiction.        4.672855   \n",
       "1214   Through classroom activities, wizard rock conc...        4.769741   \n",
       "1891   Celebrate 20 years of Harry Potter magic! Harr...        4.687938   \n",
       "3127   A look at the scientific principles underpinni...        3.523810   \n",
       "9716   Magic abounds in this tall, deluxe pop-up caro...        5.000000   \n",
       "18785  Urging readers of the Harry Potter series to d...        4.192308   \n",
       "20234  Sirius Black, le dangereux criminel qui s’est ...        4.714286   \n",
       "21501  Now in its twentieth edition, a concise guide ...        4.333333   \n",
       "\n",
       "       Review_Counts  \n",
       "530             1572  \n",
       "1214            1513  \n",
       "1891            3729  \n",
       "3127              21  \n",
       "9716               8  \n",
       "18785             26  \n",
       "20234             14  \n",
       "21501              3  "
      ]
     },
     "execution_count": 325,
     "metadata": {},
     "output_type": "execute_result"
    }
   ],
   "source": [
    "content_df[content_df['BookTitle'].str.contains('Harry Potter', na=False)].head(8)"
   ]
  },
  {
   "cell_type": "code",
   "execution_count": 326,
   "id": "7796ac6d",
   "metadata": {},
   "outputs": [
    {
     "name": "stdout",
     "output_type": "stream",
     "text": [
      "Similarity: [[0.32375119]]\n"
     ]
    }
   ],
   "source": [
    "book_1 = TF_IDF_matrix[(content_df['BookTitle'] == 'Harry Potter & the Prisoner of Azkaban').values,]\n",
    "book_2 = TF_IDF_matrix[(content_df['BookTitle'] == \"Harry Potter and The Sorcerer's Stone\").values,]\n",
    "\n",
    "print(\"Similarity:\", cosine_similarity(book_1, book_2)) "
   ]
  },
  {
   "cell_type": "code",
   "execution_count": 327,
   "id": "ed4d1f7e",
   "metadata": {},
   "outputs": [
    {
     "name": "stdout",
     "output_type": "stream",
     "text": [
      "Similarity: [[0.16951278]]\n"
     ]
    }
   ],
   "source": [
    "book_1 = TF_IDF_matrix[(content_df['BookTitle'] == 'Harry Potter & the Prisoner of Azkaban').values,]\n",
    "book_3 = TF_IDF_matrix[(content_df['BookTitle'] == \"Harry Potter et le prisonnier d'Azkaban\").values,]\n",
    "\n",
    "print(\"Similarity:\", cosine_similarity(book_1, book_3)) "
   ]
  },
  {
   "cell_type": "code",
   "execution_count": 328,
   "id": "76251dd1",
   "metadata": {},
   "outputs": [],
   "source": [
    "similarities = cosine_similarity(TF_IDF_matrix, dense_output=False)"
   ]
  },
  {
   "cell_type": "code",
   "execution_count": 329,
   "id": "e3bb8fd7",
   "metadata": {},
   "outputs": [
    {
     "data": {
      "text/plain": [
       "(48278, 48278)"
      ]
     },
     "execution_count": 329,
     "metadata": {},
     "output_type": "execute_result"
    }
   ],
   "source": [
    "similarities.shape"
   ]
  },
  {
   "cell_type": "code",
   "execution_count": 330,
   "id": "12865985",
   "metadata": {},
   "outputs": [
    {
     "data": {
      "text/html": [
       "<div>\n",
       "<style scoped>\n",
       "    .dataframe tbody tr th:only-of-type {\n",
       "        vertical-align: middle;\n",
       "    }\n",
       "\n",
       "    .dataframe tbody tr th {\n",
       "        vertical-align: top;\n",
       "    }\n",
       "\n",
       "    .dataframe thead th {\n",
       "        text-align: right;\n",
       "    }\n",
       "</style>\n",
       "<table border=\"1\" class=\"dataframe\">\n",
       "  <thead>\n",
       "    <tr style=\"text-align: right;\">\n",
       "      <th></th>\n",
       "      <th>BookTitle_</th>\n",
       "      <th>BookTitle</th>\n",
       "      <th>Book_Description</th>\n",
       "      <th>Average_Rating</th>\n",
       "      <th>Review_Counts</th>\n",
       "    </tr>\n",
       "  </thead>\n",
       "  <tbody>\n",
       "    <tr>\n",
       "      <th>1214</th>\n",
       "      <td>15603</td>\n",
       "      <td>Harry Potter &amp; the Prisoner of Azkaban</td>\n",
       "      <td>Through classroom activities, wizard rock conc...</td>\n",
       "      <td>4.769741</td>\n",
       "      <td>1513</td>\n",
       "    </tr>\n",
       "  </tbody>\n",
       "</table>\n",
       "</div>"
      ],
      "text/plain": [
       "      BookTitle_                               BookTitle  \\\n",
       "1214       15603  Harry Potter & the Prisoner of Azkaban   \n",
       "\n",
       "                                       Book_Description  Average_Rating  \\\n",
       "1214  Through classroom activities, wizard rock conc...        4.769741   \n",
       "\n",
       "      Review_Counts  \n",
       "1214           1513  "
      ]
     },
     "execution_count": 330,
     "metadata": {},
     "output_type": "execute_result"
    }
   ],
   "source": [
    "# Test with a sample book\n",
    "content_df[content_df['BookTitle'] == 'Harry Potter & the Prisoner of Azkaban']"
   ]
  },
  {
   "cell_type": "code",
   "execution_count": 331,
   "id": "8f1e0200",
   "metadata": {},
   "outputs": [
    {
     "data": {
      "text/plain": [
       "(48278, 5)"
      ]
     },
     "execution_count": 331,
     "metadata": {},
     "output_type": "execute_result"
    }
   ],
   "source": [
    "content_df.shape"
   ]
  },
  {
   "cell_type": "code",
   "execution_count": 332,
   "id": "8b4c0247",
   "metadata": {},
   "outputs": [],
   "source": [
    "# Get the column based upon the index\n",
    "book_index = content_df[content_df['BookTitle'] == 'Harry Potter & the Prisoner of Azkaban'].index\n",
    "\n",
    "# Create a dataframe with the book titles\n",
    "sim_df = pd.DataFrame({'book':content_df['BookTitle'], \n",
    "                       'similarity': np.array(similarities[book_index, :].todense()).squeeze()})"
   ]
  },
  {
   "cell_type": "code",
   "execution_count": 333,
   "id": "67aad0af",
   "metadata": {},
   "outputs": [
    {
     "data": {
      "text/html": [
       "<div>\n",
       "<style scoped>\n",
       "    .dataframe tbody tr th:only-of-type {\n",
       "        vertical-align: middle;\n",
       "    }\n",
       "\n",
       "    .dataframe tbody tr th {\n",
       "        vertical-align: top;\n",
       "    }\n",
       "\n",
       "    .dataframe thead th {\n",
       "        text-align: right;\n",
       "    }\n",
       "</style>\n",
       "<table border=\"1\" class=\"dataframe\">\n",
       "  <thead>\n",
       "    <tr style=\"text-align: right;\">\n",
       "      <th></th>\n",
       "      <th>book</th>\n",
       "      <th>similarity</th>\n",
       "    </tr>\n",
       "  </thead>\n",
       "  <tbody>\n",
       "    <tr>\n",
       "      <th>1214</th>\n",
       "      <td>Harry Potter &amp; the Prisoner of Azkaban</td>\n",
       "      <td>1.000000</td>\n",
       "    </tr>\n",
       "    <tr>\n",
       "      <th>25942</th>\n",
       "      <td>Harry Potter und der Gefangene von Azkaban</td>\n",
       "      <td>0.386375</td>\n",
       "    </tr>\n",
       "    <tr>\n",
       "      <th>30457</th>\n",
       "      <td>The Sorcerer's Companion: A Guide to the Magic...</td>\n",
       "      <td>0.338209</td>\n",
       "    </tr>\n",
       "    <tr>\n",
       "      <th>35265</th>\n",
       "      <td>Critical Perspectives on Harry Potter</td>\n",
       "      <td>0.329599</td>\n",
       "    </tr>\n",
       "    <tr>\n",
       "      <th>1891</th>\n",
       "      <td>Harry Potter and The Sorcerer's Stone</td>\n",
       "      <td>0.323751</td>\n",
       "    </tr>\n",
       "    <tr>\n",
       "      <th>38275</th>\n",
       "      <td>There's Something About Harry: A Catholic Anal...</td>\n",
       "      <td>0.284528</td>\n",
       "    </tr>\n",
       "    <tr>\n",
       "      <th>3127</th>\n",
       "      <td>The Science of Harry Potter: How Magic Really ...</td>\n",
       "      <td>0.259456</td>\n",
       "    </tr>\n",
       "    <tr>\n",
       "      <th>21981</th>\n",
       "      <td>An Unofficial Muggle's Guide to the Wizarding ...</td>\n",
       "      <td>0.254043</td>\n",
       "    </tr>\n",
       "    <tr>\n",
       "      <th>38850</th>\n",
       "      <td>Science of Harry Potter: How Magic Really Works</td>\n",
       "      <td>0.231103</td>\n",
       "    </tr>\n",
       "    <tr>\n",
       "      <th>18785</th>\n",
       "      <td>Harry Potter and Philosophy: If Aristotle Ran ...</td>\n",
       "      <td>0.223275</td>\n",
       "    </tr>\n",
       "  </tbody>\n",
       "</table>\n",
       "</div>"
      ],
      "text/plain": [
       "                                                    book  similarity\n",
       "1214              Harry Potter & the Prisoner of Azkaban    1.000000\n",
       "25942         Harry Potter und der Gefangene von Azkaban    0.386375\n",
       "30457  The Sorcerer's Companion: A Guide to the Magic...    0.338209\n",
       "35265              Critical Perspectives on Harry Potter    0.329599\n",
       "1891               Harry Potter and The Sorcerer's Stone    0.323751\n",
       "38275  There's Something About Harry: A Catholic Anal...    0.284528\n",
       "3127   The Science of Harry Potter: How Magic Really ...    0.259456\n",
       "21981  An Unofficial Muggle's Guide to the Wizarding ...    0.254043\n",
       "38850    Science of Harry Potter: How Magic Really Works    0.231103\n",
       "18785  Harry Potter and Philosophy: If Aristotle Ran ...    0.223275"
      ]
     },
     "execution_count": 333,
     "metadata": {},
     "output_type": "execute_result"
    }
   ],
   "source": [
    "# Return the top 10 most similar books\n",
    "sim_df.sort_values(by='similarity', ascending=False).head(10)"
   ]
  },
  {
   "cell_type": "code",
   "execution_count": 334,
   "id": "8344c0b5",
   "metadata": {},
   "outputs": [],
   "source": [
    "def content_recommender(title, books, similarities, vote_threshold=10) :\n",
    "    \n",
    "    # Get the book by the title\n",
    "    book_index = content_df[content_df['BookTitle'] == title].index\n",
    "    \n",
    "    # Create a dataframe with the book titles\n",
    "    sim_df = pd.DataFrame(\n",
    "        {'books': books['BookTitle'], \n",
    "         'similarity': np.array(similarities[book_index, :].todense()).squeeze(),\n",
    "         'Review_Counts': books['Review_Counts']\n",
    "        })\n",
    "    \n",
    "    # Get the top 10 books with > 10 votes\n",
    "    top_books = sim_df[sim_df['Review_Counts'] > vote_threshold].sort_values(by='similarity', ascending=False).head(10)\n",
    "    \n",
    "    return top_books"
   ]
  },
  {
   "cell_type": "code",
   "execution_count": 335,
   "id": "7be1c0a3",
   "metadata": {},
   "outputs": [
    {
     "data": {
      "text/html": [
       "<div>\n",
       "<style scoped>\n",
       "    .dataframe tbody tr th:only-of-type {\n",
       "        vertical-align: middle;\n",
       "    }\n",
       "\n",
       "    .dataframe tbody tr th {\n",
       "        vertical-align: top;\n",
       "    }\n",
       "\n",
       "    .dataframe thead th {\n",
       "        text-align: right;\n",
       "    }\n",
       "</style>\n",
       "<table border=\"1\" class=\"dataframe\">\n",
       "  <thead>\n",
       "    <tr style=\"text-align: right;\">\n",
       "      <th></th>\n",
       "      <th>books</th>\n",
       "      <th>similarity</th>\n",
       "      <th>Review_Counts</th>\n",
       "    </tr>\n",
       "  </thead>\n",
       "  <tbody>\n",
       "    <tr>\n",
       "      <th>1214</th>\n",
       "      <td>Harry Potter &amp; the Prisoner of Azkaban</td>\n",
       "      <td>1.000000</td>\n",
       "      <td>1513</td>\n",
       "    </tr>\n",
       "    <tr>\n",
       "      <th>1891</th>\n",
       "      <td>Harry Potter and The Sorcerer's Stone</td>\n",
       "      <td>0.323751</td>\n",
       "      <td>3729</td>\n",
       "    </tr>\n",
       "    <tr>\n",
       "      <th>620</th>\n",
       "      <td>Jane Eyre (New Windmill)</td>\n",
       "      <td>0.053729</td>\n",
       "      <td>1189</td>\n",
       "    </tr>\n",
       "    <tr>\n",
       "      <th>0</th>\n",
       "      <td>The Princess Bride</td>\n",
       "      <td>0.038248</td>\n",
       "      <td>1210</td>\n",
       "    </tr>\n",
       "    <tr>\n",
       "      <th>706</th>\n",
       "      <td>The Hobbit There and Back Again</td>\n",
       "      <td>0.024916</td>\n",
       "      <td>3675</td>\n",
       "    </tr>\n",
       "    <tr>\n",
       "      <th>1188</th>\n",
       "      <td>Alice's Adventures in Wonderland</td>\n",
       "      <td>0.022321</td>\n",
       "      <td>2817</td>\n",
       "    </tr>\n",
       "    <tr>\n",
       "      <th>155</th>\n",
       "      <td>The Hitchhiker's Guide to the Galaxy</td>\n",
       "      <td>0.020917</td>\n",
       "      <td>2698</td>\n",
       "    </tr>\n",
       "    <tr>\n",
       "      <th>220</th>\n",
       "      <td>The Hobbitt, or there and back again; illustra...</td>\n",
       "      <td>0.019332</td>\n",
       "      <td>3658</td>\n",
       "    </tr>\n",
       "    <tr>\n",
       "      <th>216</th>\n",
       "      <td>Dracula (G. K. Hall (Large Print))</td>\n",
       "      <td>0.018415</td>\n",
       "      <td>1034</td>\n",
       "    </tr>\n",
       "    <tr>\n",
       "      <th>1828</th>\n",
       "      <td>Catch-22</td>\n",
       "      <td>0.018199</td>\n",
       "      <td>1603</td>\n",
       "    </tr>\n",
       "  </tbody>\n",
       "</table>\n",
       "</div>"
      ],
      "text/plain": [
       "                                                  books  similarity  \\\n",
       "1214             Harry Potter & the Prisoner of Azkaban    1.000000   \n",
       "1891              Harry Potter and The Sorcerer's Stone    0.323751   \n",
       "620                            Jane Eyre (New Windmill)    0.053729   \n",
       "0                                    The Princess Bride    0.038248   \n",
       "706                     The Hobbit There and Back Again    0.024916   \n",
       "1188                   Alice's Adventures in Wonderland    0.022321   \n",
       "155                The Hitchhiker's Guide to the Galaxy    0.020917   \n",
       "220   The Hobbitt, or there and back again; illustra...    0.019332   \n",
       "216                  Dracula (G. K. Hall (Large Print))    0.018415   \n",
       "1828                                           Catch-22    0.018199   \n",
       "\n",
       "      Review_Counts  \n",
       "1214           1513  \n",
       "1891           3729  \n",
       "620            1189  \n",
       "0              1210  \n",
       "706            3675  \n",
       "1188           2817  \n",
       "155            2698  \n",
       "220            3658  \n",
       "216            1034  \n",
       "1828           1603  "
      ]
     },
     "execution_count": 335,
     "metadata": {},
     "output_type": "execute_result"
    }
   ],
   "source": [
    "# Test the recommender\n",
    "similar_books = content_recommender(\"Harry Potter & the Prisoner of Azkaban\", content_df, similarities, vote_threshold=1000)\n",
    "similar_books.head(10)"
   ]
  },
  {
   "attachments": {},
   "cell_type": "markdown",
   "id": "e140807c",
   "metadata": {},
   "source": [
    "### 6.3 Collaborative Based Recommendations - NEEDS WORK"
   ]
  },
  {
   "cell_type": "code",
   "execution_count": 369,
   "id": "1c7e7cb2",
   "metadata": {},
   "outputs": [
    {
     "data": {
      "text/html": [
       "<div>\n",
       "<style scoped>\n",
       "    .dataframe tbody tr th:only-of-type {\n",
       "        vertical-align: middle;\n",
       "    }\n",
       "\n",
       "    .dataframe tbody tr th {\n",
       "        vertical-align: top;\n",
       "    }\n",
       "\n",
       "    .dataframe thead th {\n",
       "        text-align: right;\n",
       "    }\n",
       "</style>\n",
       "<table border=\"1\" class=\"dataframe\">\n",
       "  <thead>\n",
       "    <tr style=\"text-align: right;\">\n",
       "      <th></th>\n",
       "      <th>UserID_</th>\n",
       "      <th>BookTitle_</th>\n",
       "      <th>Review_Score</th>\n",
       "    </tr>\n",
       "  </thead>\n",
       "  <tbody>\n",
       "    <tr>\n",
       "      <th>400891</th>\n",
       "      <td>0</td>\n",
       "      <td>17076</td>\n",
       "      <td>5.0</td>\n",
       "    </tr>\n",
       "    <tr>\n",
       "      <th>375919</th>\n",
       "      <td>1</td>\n",
       "      <td>37693</td>\n",
       "      <td>5.0</td>\n",
       "    </tr>\n",
       "    <tr>\n",
       "      <th>1435184</th>\n",
       "      <td>1</td>\n",
       "      <td>37694</td>\n",
       "      <td>5.0</td>\n",
       "    </tr>\n",
       "    <tr>\n",
       "      <th>777439</th>\n",
       "      <td>2</td>\n",
       "      <td>944</td>\n",
       "      <td>5.0</td>\n",
       "    </tr>\n",
       "    <tr>\n",
       "      <th>752192</th>\n",
       "      <td>2</td>\n",
       "      <td>19229</td>\n",
       "      <td>5.0</td>\n",
       "    </tr>\n",
       "    <tr>\n",
       "      <th>812562</th>\n",
       "      <td>3</td>\n",
       "      <td>38560</td>\n",
       "      <td>5.0</td>\n",
       "    </tr>\n",
       "    <tr>\n",
       "      <th>361369</th>\n",
       "      <td>4</td>\n",
       "      <td>37693</td>\n",
       "      <td>5.0</td>\n",
       "    </tr>\n",
       "    <tr>\n",
       "      <th>366044</th>\n",
       "      <td>4</td>\n",
       "      <td>37693</td>\n",
       "      <td>5.0</td>\n",
       "    </tr>\n",
       "    <tr>\n",
       "      <th>1131418</th>\n",
       "      <td>5</td>\n",
       "      <td>42637</td>\n",
       "      <td>5.0</td>\n",
       "    </tr>\n",
       "    <tr>\n",
       "      <th>799182</th>\n",
       "      <td>5</td>\n",
       "      <td>42638</td>\n",
       "      <td>5.0</td>\n",
       "    </tr>\n",
       "  </tbody>\n",
       "</table>\n",
       "</div>"
      ],
      "text/plain": [
       "         UserID_  BookTitle_  Review_Score\n",
       "400891         0       17076           5.0\n",
       "375919         1       37693           5.0\n",
       "1435184        1       37694           5.0\n",
       "777439         2         944           5.0\n",
       "752192         2       19229           5.0\n",
       "812562         3       38560           5.0\n",
       "361369         4       37693           5.0\n",
       "366044         4       37693           5.0\n",
       "1131418        5       42637           5.0\n",
       "799182         5       42638           5.0"
      ]
     },
     "execution_count": 369,
     "metadata": {},
     "output_type": "execute_result"
    }
   ],
   "source": [
    "# create a new df for the collaborative based recommendation system\n",
    "collab_df = book_rating_s[[\"UserID_\",\"BookTitle_\",\"Review_Score\"]]\n",
    "\n",
    "#order the df by UserID_ and BookTitle_\n",
    "collab_df = collab_df.sort_values(by=['UserID_','BookTitle_'], ascending=True)\n",
    "\n",
    "collab_df.head(10)"
   ]
  },
  {
   "cell_type": "code",
   "execution_count": 337,
   "id": "856845d0",
   "metadata": {},
   "outputs": [
    {
     "data": {
      "text/plain": [
       "(25631, 3)"
      ]
     },
     "execution_count": 337,
     "metadata": {},
     "output_type": "execute_result"
    }
   ],
   "source": [
    "# filter the collab_df to include only the users with more than 5 reviews\n",
    "collab_df = collab_df.groupby(\"UserID_\").filter(lambda x: len(x) >= 5)\n",
    "\n",
    "# update the index of the collab_df starting from 1\n",
    "collab_df = collab_df.reset_index(drop=True)\n",
    "\n",
    "collab_df.shape"
   ]
  },
  {
   "cell_type": "code",
   "execution_count": 338,
   "id": "bf564afc",
   "metadata": {},
   "outputs": [
    {
     "data": {
      "text/html": [
       "<div>\n",
       "<style scoped>\n",
       "    .dataframe tbody tr th:only-of-type {\n",
       "        vertical-align: middle;\n",
       "    }\n",
       "\n",
       "    .dataframe tbody tr th {\n",
       "        vertical-align: top;\n",
       "    }\n",
       "\n",
       "    .dataframe thead th {\n",
       "        text-align: right;\n",
       "    }\n",
       "</style>\n",
       "<table border=\"1\" class=\"dataframe\">\n",
       "  <thead>\n",
       "    <tr style=\"text-align: right;\">\n",
       "      <th></th>\n",
       "      <th>UserID_</th>\n",
       "      <th>BookTitle_</th>\n",
       "      <th>Review_Score</th>\n",
       "    </tr>\n",
       "  </thead>\n",
       "  <tbody>\n",
       "    <tr>\n",
       "      <th>0</th>\n",
       "      <td>153</td>\n",
       "      <td>7664</td>\n",
       "      <td>5.0</td>\n",
       "    </tr>\n",
       "    <tr>\n",
       "      <th>1</th>\n",
       "      <td>153</td>\n",
       "      <td>16204</td>\n",
       "      <td>5.0</td>\n",
       "    </tr>\n",
       "    <tr>\n",
       "      <th>2</th>\n",
       "      <td>153</td>\n",
       "      <td>28700</td>\n",
       "      <td>5.0</td>\n",
       "    </tr>\n",
       "    <tr>\n",
       "      <th>3</th>\n",
       "      <td>153</td>\n",
       "      <td>28700</td>\n",
       "      <td>5.0</td>\n",
       "    </tr>\n",
       "    <tr>\n",
       "      <th>4</th>\n",
       "      <td>153</td>\n",
       "      <td>33689</td>\n",
       "      <td>5.0</td>\n",
       "    </tr>\n",
       "    <tr>\n",
       "      <th>...</th>\n",
       "      <td>...</td>\n",
       "      <td>...</td>\n",
       "      <td>...</td>\n",
       "    </tr>\n",
       "    <tr>\n",
       "      <th>25626</th>\n",
       "      <td>128456</td>\n",
       "      <td>579</td>\n",
       "      <td>5.0</td>\n",
       "    </tr>\n",
       "    <tr>\n",
       "      <th>25627</th>\n",
       "      <td>128456</td>\n",
       "      <td>6676</td>\n",
       "      <td>5.0</td>\n",
       "    </tr>\n",
       "    <tr>\n",
       "      <th>25628</th>\n",
       "      <td>128456</td>\n",
       "      <td>13682</td>\n",
       "      <td>5.0</td>\n",
       "    </tr>\n",
       "    <tr>\n",
       "      <th>25629</th>\n",
       "      <td>128456</td>\n",
       "      <td>39015</td>\n",
       "      <td>5.0</td>\n",
       "    </tr>\n",
       "    <tr>\n",
       "      <th>25630</th>\n",
       "      <td>128456</td>\n",
       "      <td>43774</td>\n",
       "      <td>5.0</td>\n",
       "    </tr>\n",
       "  </tbody>\n",
       "</table>\n",
       "<p>25631 rows × 3 columns</p>\n",
       "</div>"
      ],
      "text/plain": [
       "       UserID_  BookTitle_  Review_Score\n",
       "0          153        7664           5.0\n",
       "1          153       16204           5.0\n",
       "2          153       28700           5.0\n",
       "3          153       28700           5.0\n",
       "4          153       33689           5.0\n",
       "...        ...         ...           ...\n",
       "25626   128456         579           5.0\n",
       "25627   128456        6676           5.0\n",
       "25628   128456       13682           5.0\n",
       "25629   128456       39015           5.0\n",
       "25630   128456       43774           5.0\n",
       "\n",
       "[25631 rows x 3 columns]"
      ]
     },
     "execution_count": 338,
     "metadata": {},
     "output_type": "execute_result"
    }
   ],
   "source": [
    "collab_df"
   ]
  },
  {
   "attachments": {},
   "cell_type": "markdown",
   "id": "90548743",
   "metadata": {},
   "source": [
    "#### Utility Matrix"
   ]
  },
  {
   "cell_type": "code",
   "execution_count": 339,
   "id": "d0eed667",
   "metadata": {},
   "outputs": [
    {
     "ename": "IndexError",
     "evalue": "index 16203 is out of bounds for axis 1 with size 12153",
     "output_type": "error",
     "traceback": [
      "\u001b[0;31m---------------------------------------------------------------------------\u001b[0m",
      "\u001b[0;31mIndexError\u001b[0m                                Traceback (most recent call last)",
      "Cell \u001b[0;32mIn[339], line 13\u001b[0m\n\u001b[1;32m     11\u001b[0m     book \u001b[39m=\u001b[39m row[\u001b[39m2\u001b[39m]\n\u001b[1;32m     12\u001b[0m     rating \u001b[39m=\u001b[39m row[\u001b[39m3\u001b[39m]\n\u001b[0;32m---> 13\u001b[0m     R[user\u001b[39m-\u001b[39m\u001b[39m1\u001b[39m, book\u001b[39m-\u001b[39m\u001b[39m1\u001b[39m] \u001b[39m=\u001b[39m rating\n\u001b[1;32m     16\u001b[0m R_df \u001b[39m=\u001b[39m pd\u001b[39m.\u001b[39mDataFrame(data\u001b[39m=\u001b[39mR, index\u001b[39m=\u001b[39m\u001b[39mrange\u001b[39m(\u001b[39m1\u001b[39m, num_users\u001b[39m+\u001b[39m\u001b[39m1\u001b[39m), columns\u001b[39m=\u001b[39m\u001b[39mrange\u001b[39m(\u001b[39m1\u001b[39m, num_books\u001b[39m+\u001b[39m\u001b[39m1\u001b[39m))\n",
      "\u001b[0;31mIndexError\u001b[0m: index 16203 is out of bounds for axis 1 with size 12153"
     ]
    }
   ],
   "source": [
    "users = collab_df['UserID_'].unique()\n",
    "books = collab_df['BookTitle_'].unique()\n",
    "\n",
    "num_users = len(users)\n",
    "num_books = len(books)\n",
    "\n",
    "R = np.full((num_users, num_books), np.nan)\n",
    "\n",
    "for row in collab_df.itertuples():\n",
    "    user = row[1]\n",
    "    book = row[2]\n",
    "    rating = row[3]\n",
    "    R[user-1, book-1] = rating\n",
    "\n",
    "    \n",
    "R_df = pd.DataFrame(data=R, index=range(1, num_users+1), columns=range(1, num_books+1))"
   ]
  },
  {
   "cell_type": "code",
   "execution_count": null,
   "id": "8d1df847",
   "metadata": {},
   "outputs": [],
   "source": [
    "users = collab_df['UserID_'].unique()\n",
    "books = collab_df['BookTitle_'].unique()\n",
    "\n",
    "num_users = len(users)\n",
    "num_books = len(books)"
   ]
  },
  {
   "cell_type": "code",
   "execution_count": null,
   "id": "9c45ea94",
   "metadata": {},
   "outputs": [],
   "source": [
    "num_users, num_books"
   ]
  },
  {
   "cell_type": "code",
   "execution_count": null,
   "id": "d291c4aa",
   "metadata": {},
   "outputs": [],
   "source": [
    "# np.nan means they user has not reviewed the movie\n",
    "R = np.full((num_users, num_books), np.nan)\n",
    "R.shape"
   ]
  },
  {
   "cell_type": "code",
   "execution_count": null,
   "id": "4c315861",
   "metadata": {},
   "outputs": [],
   "source": [
    "#Build the user-item matrix\n",
    "for row in collab_df.itertuples(): # same as zip(df.index, df[\"user\"], df[\"movie\"], df[\"score\"])\n",
    "    user = row[1]\n",
    "    book = row[2]\n",
    "    rating = row[3]\n",
    "    R[user-1, book-1] = rating\n",
    "    \n",
    "R_df = pd.DataFrame(data=R, index=range(1, num_users+1), columns=range(1, num_books+1))"
   ]
  },
  {
   "cell_type": "code",
   "execution_count": null,
   "id": "f5de8438",
   "metadata": {},
   "outputs": [],
   "source": []
  },
  {
   "cell_type": "code",
   "execution_count": null,
   "id": "150ba7b9",
   "metadata": {},
   "outputs": [],
   "source": [
    "users = collab_df['UserID_'].unique()\n",
    "books = collab_df['BookTitle_'].unique()\n",
    "\n",
    "num_users = len(users)\n",
    "num_books = len(books)\n",
    "           \n",
    "# np.nan means they user has not reviewed the movie\n",
    "R = np.full((num_users, num_books), np.nan)\n",
    "\n",
    "#Build the user-item matrix\n",
    "for row in collab_df.itertuples(): # same as zip(df.index, df[\"user\"], df[\"movie\"], df[\"score\"])\n",
    "    user = row[1]\n",
    "    book = row[2]\n",
    "    rating = row[3]\n",
    "    R[user-1, book-1] = rating\n",
    "    \n",
    "R_df = pd.DataFrame(data=R, index=range(1, num_users+1), columns=range(1, num_books+1))"
   ]
  },
  {
   "cell_type": "code",
   "execution_count": null,
   "id": "d5d4d7d0",
   "metadata": {},
   "outputs": [],
   "source": [
    "users = collab_df['UserID_'].unique()\n",
    "books = collab_df['BookTitle_'].unique()\n",
    "\n",
    "num_users = len(users)\n",
    "num_books = len(books)\n",
    "\n",
    "# np.nan means the user has not reviewed the books\n",
    "R = np.full((num_users, num_books), np.nan)\n",
    "\n",
    "# Build the user-item matrix\n",
    "for row in collab_df.itertuples():\n",
    "    user = row[1]\n",
    "    book = row[2]\n",
    "    rating = row[3]\n",
    "    book_index = np.where(books == book)[0][0]  # Find the index of the book title\n",
    "    R[user-1, book_index] = rating\n",
    "\n",
    "R_df = pd.DataFrame(data=R, index=range(1, num_users+1), columns=books)\n"
   ]
  },
  {
   "cell_type": "code",
   "execution_count": null,
   "id": "43490065",
   "metadata": {},
   "outputs": [],
   "source": [
    "R_df"
   ]
  },
  {
   "attachments": {},
   "cell_type": "markdown",
   "id": "16a15eb1",
   "metadata": {},
   "source": [
    "#### Identify users with the most reviews"
   ]
  },
  {
   "attachments": {},
   "cell_type": "markdown",
   "id": "dfc20d62",
   "metadata": {},
   "source": [
    "#### Similar Users"
   ]
  },
  {
   "cell_type": "code",
   "execution_count": null,
   "id": "2afbc9fb",
   "metadata": {},
   "outputs": [],
   "source": [
    "R_df.loc[5, :]"
   ]
  },
  {
   "cell_type": "code",
   "execution_count": null,
   "id": "32247a00",
   "metadata": {},
   "outputs": [],
   "source": [
    "R_df.loc[48, :]"
   ]
  },
  {
   "cell_type": "code",
   "execution_count": null,
   "id": "2f355042",
   "metadata": {},
   "outputs": [],
   "source": [
    "### Similar Users\n",
    "books_1st_user_rated = ~R_df.loc[5, :].isna()\n",
    "books_2nd_user_rated = ~R_df.loc[48, :].isna()\n",
    "\n",
    "books_both_users_rated = books_1st_user_rated & books_2nd_user_rated\n",
    "print(books_both_users_rated.sum())"
   ]
  },
  {
   "cell_type": "code",
   "execution_count": null,
   "id": "b95d2fe8",
   "metadata": {},
   "outputs": [],
   "source": [
    "print(\"Reviewers' scores:\")\n",
    "R_df.loc[[5, 48], books_both_users_rated]"
   ]
  },
  {
   "cell_type": "code",
   "execution_count": null,
   "id": "d3f0a469",
   "metadata": {},
   "outputs": [],
   "source": [
    "print(\"Similarity:\", cosine_similarity(R_df.loc[5, books_both_users_rated].values.reshape(1,-1), \n",
    "                                       R_df.loc[48, books_both_users_rated].values.reshape(1,-1)))"
   ]
  },
  {
   "cell_type": "code",
   "execution_count": null,
   "id": "a6c61421",
   "metadata": {},
   "outputs": [],
   "source": [
    "### Making Predictions\n",
    "\n",
    "def find_user_similarity(user_1, user_2, R_df):\n",
    "    \n",
    "    # Define the mask which finds all movies they rated together\n",
    "    books_1st_user_rated = ~R_df.loc[user_1, :].isna()\n",
    "    books_2nd_user_rated = ~R_df.loc[user_2, :].isna()\n",
    "\n",
    "    books_both_users_rated = books_1st_user_rated & books_2nd_user_rated\n",
    "\n",
    "    # Sum boolean to get the counts\n",
    "    number_of_books_rated_together = books_both_users_rated.sum()\n",
    "        \n",
    "    # Find the ratings of both users for movies they both watched\n",
    "    ratings_of_user1 = R_df.loc[user_1, books_both_users_rated].values.reshape(1, -1)\n",
    "    ratings_of_user2 = R_df.loc[user_2, books_both_users_rated].values.reshape(1, -1)\n",
    "    \n",
    "    # Finally, calculate the similarity between them\n",
    "    similarity = cosine_similarity(ratings_of_user1, ratings_of_user2)[0][0]\n",
    "    \n",
    "    return similarity, number_of_books_rated_together"
   ]
  },
  {
   "cell_type": "code",
   "execution_count": null,
   "id": "047500c1",
   "metadata": {},
   "outputs": [],
   "source": [
    "current_user = 4531 # we will only do this to user 16 for demonstration purposes\n",
    "current_book = 4531\n",
    "similarities_to_user_16 = []\n",
    "ratings_given_to_book_2 = []\n",
    "\n",
    "# Find only the users who rated movie 2 (rows)\n",
    "R_df2 = R_df[~R_df.iloc[:, 1].isna()].copy()\n",
    "\n",
    "for other_user in R_df2.index:\n",
    "    \n",
    "    similarity, number_of_books_rated_together = find_user_similarity(current_user, other_user, R_df)\n",
    "    similarities_to_user_16.append(similarity)\n",
    "    ratings_given_to_book_2.append(R_df.loc[other_user, current_book])\n",
    "            \n",
    "# Finally, let's turn these into numpy arrays so life is easier\n",
    "similarities_to_user_16 = np.array(similarities_to_user_16)\n",
    "ratings_given_to_book_2 = np.array(ratings_given_to_book_2)"
   ]
  },
  {
   "attachments": {},
   "cell_type": "markdown",
   "id": "a162dc13",
   "metadata": {},
   "source": [
    "### 6.4 Matrix Factorization Methods and Latent Features - NEEDS WORK"
   ]
  },
  {
   "attachments": {},
   "cell_type": "markdown",
   "id": "3c1e504a",
   "metadata": {},
   "source": [
    "#### Funk Singular Value Decomposition (FunkSVD)"
   ]
  },
  {
   "cell_type": "code",
   "execution_count": 340,
   "id": "8066edd5",
   "metadata": {},
   "outputs": [],
   "source": [
    "from surprise import Dataset\n",
    "from surprise.reader import Reader\n",
    "from surprise.prediction_algorithms.matrix_factorization import SVD as FunkSVD"
   ]
  },
  {
   "cell_type": "code",
   "execution_count": 351,
   "id": "ace72683",
   "metadata": {},
   "outputs": [
    {
     "data": {
      "text/html": [
       "<div>\n",
       "<style scoped>\n",
       "    .dataframe tbody tr th:only-of-type {\n",
       "        vertical-align: middle;\n",
       "    }\n",
       "\n",
       "    .dataframe tbody tr th {\n",
       "        vertical-align: top;\n",
       "    }\n",
       "\n",
       "    .dataframe thead th {\n",
       "        text-align: right;\n",
       "    }\n",
       "</style>\n",
       "<table border=\"1\" class=\"dataframe\">\n",
       "  <thead>\n",
       "    <tr style=\"text-align: right;\">\n",
       "      <th></th>\n",
       "      <th>UserID_</th>\n",
       "      <th>BookTitle_</th>\n",
       "      <th>Review_Score</th>\n",
       "    </tr>\n",
       "  </thead>\n",
       "  <tbody>\n",
       "    <tr>\n",
       "      <th>174482</th>\n",
       "      <td>153</td>\n",
       "      <td>7664</td>\n",
       "      <td>5.0</td>\n",
       "    </tr>\n",
       "    <tr>\n",
       "      <th>238598</th>\n",
       "      <td>153</td>\n",
       "      <td>16204</td>\n",
       "      <td>5.0</td>\n",
       "    </tr>\n",
       "    <tr>\n",
       "      <th>1547173</th>\n",
       "      <td>153</td>\n",
       "      <td>28700</td>\n",
       "      <td>5.0</td>\n",
       "    </tr>\n",
       "    <tr>\n",
       "      <th>1547173</th>\n",
       "      <td>153</td>\n",
       "      <td>28700</td>\n",
       "      <td>5.0</td>\n",
       "    </tr>\n",
       "    <tr>\n",
       "      <th>726001</th>\n",
       "      <td>153</td>\n",
       "      <td>33689</td>\n",
       "      <td>5.0</td>\n",
       "    </tr>\n",
       "    <tr>\n",
       "      <th>548525</th>\n",
       "      <td>204</td>\n",
       "      <td>218</td>\n",
       "      <td>4.0</td>\n",
       "    </tr>\n",
       "    <tr>\n",
       "      <th>422548</th>\n",
       "      <td>204</td>\n",
       "      <td>396</td>\n",
       "      <td>5.0</td>\n",
       "    </tr>\n",
       "    <tr>\n",
       "      <th>1023762</th>\n",
       "      <td>204</td>\n",
       "      <td>599</td>\n",
       "      <td>2.0</td>\n",
       "    </tr>\n",
       "    <tr>\n",
       "      <th>132639</th>\n",
       "      <td>204</td>\n",
       "      <td>2402</td>\n",
       "      <td>4.0</td>\n",
       "    </tr>\n",
       "    <tr>\n",
       "      <th>1065690</th>\n",
       "      <td>204</td>\n",
       "      <td>4197</td>\n",
       "      <td>5.0</td>\n",
       "    </tr>\n",
       "  </tbody>\n",
       "</table>\n",
       "</div>"
      ],
      "text/plain": [
       "         UserID_  BookTitle_  Review_Score\n",
       "174482       153        7664           5.0\n",
       "238598       153       16204           5.0\n",
       "1547173      153       28700           5.0\n",
       "1547173      153       28700           5.0\n",
       "726001       153       33689           5.0\n",
       "548525       204         218           4.0\n",
       "422548       204         396           5.0\n",
       "1023762      204         599           2.0\n",
       "132639       204        2402           4.0\n",
       "1065690      204        4197           5.0"
      ]
     },
     "execution_count": 351,
     "metadata": {},
     "output_type": "execute_result"
    }
   ],
   "source": [
    "# create a new df for the FunkSVD recommendation system\n",
    "funk_df = book_rating_s[[\"UserID_\",\"BookTitle_\",\"Review_Score\"]]\n",
    "\n",
    "#order the df by UserID_ and BookTitle_\n",
    "funk_df = funk_df.sort_values(by=['UserID_','BookTitle_'], ascending=True)\n",
    "\n",
    "# filter the collab_df to include only the users with more than 5 reviews\n",
    "funk_df = funk_df.groupby(\"UserID_\").filter(lambda x: len(x) >= 5)\n",
    "\n",
    "funk_df.head(10)"
   ]
  },
  {
   "cell_type": "code",
   "execution_count": 352,
   "id": "39300123",
   "metadata": {},
   "outputs": [],
   "source": [
    "my_dataset = Dataset.load_from_df(funk_df, Reader(rating_scale=(1, 5)))\n",
    "my_train_dataset = my_dataset.build_full_trainset()"
   ]
  },
  {
   "cell_type": "code",
   "execution_count": 353,
   "id": "f4828bbc",
   "metadata": {},
   "outputs": [
    {
     "data": {
      "text/plain": [
       "<surprise.trainset.Trainset at 0x7fc2fc125d80>"
      ]
     },
     "execution_count": 353,
     "metadata": {},
     "output_type": "execute_result"
    }
   ],
   "source": [
    "my_train_dataset"
   ]
  },
  {
   "cell_type": "code",
   "execution_count": 354,
   "id": "a0a1049c",
   "metadata": {},
   "outputs": [
    {
     "data": {
      "text/plain": [
       "<surprise.prediction_algorithms.matrix_factorization.SVD at 0x7fc3be2b3070>"
      ]
     },
     "execution_count": 354,
     "metadata": {},
     "output_type": "execute_result"
    }
   ],
   "source": [
    "my_algorithm = FunkSVD(n_factors=10, \n",
    "                       n_epochs=100, \n",
    "                       lr_all=0.1,    # Learning rate for each epoch\n",
    "                       biased=False,  # This forces the algorithm to store all latent information in the matrices\n",
    "                       verbose=0)\n",
    "\n",
    "my_algorithm.fit(my_train_dataset)"
   ]
  },
  {
   "cell_type": "code",
   "execution_count": 360,
   "id": "51f54273",
   "metadata": {},
   "outputs": [
    {
     "name": "stdout",
     "output_type": "stream",
     "text": [
      "User Matrix Shape: (2517, 10)\n",
      "User Book Shape: (10, 12153)\n"
     ]
    }
   ],
   "source": [
    "# User Matrix\n",
    "U = my_algorithm.pu\n",
    "U.shape\n",
    "\n",
    "# Book Matrix\n",
    "B = my_algorithm.qi.T\n",
    "B.shape\n",
    "\n",
    "print(\"User Matrix Shape:\", U.shape)\n",
    "print(\"User Book Shape:\", B.shape)"
   ]
  },
  {
   "cell_type": "code",
   "execution_count": 359,
   "id": "5488e6ff",
   "metadata": {},
   "outputs": [
    {
     "data": {
      "image/png": "[encoded data removed]",
      "text/plain": [
       "<Figure size 1500x700 with 1 Axes>"
      ]
     },
     "metadata": {},
     "output_type": "display_data"
    }
   ],
   "source": [
    "first_book = B[:, 0]\n",
    "\n",
    "plt.figure(figsize=(15, 7))\n",
    "plt.barh([f'Latent Var{i}' for i in range(1,len(first_book)+1)], first_book)\n",
    "plt.title(\"Latent Variable Composition of Book #1\")\n",
    "plt.ylabel(\"Latent Variable\")\n",
    "plt.xlabel(\"Value\")\n",
    "plt.show()"
   ]
  },
  {
   "cell_type": "code",
   "execution_count": 362,
   "id": "d487b004",
   "metadata": {},
   "outputs": [
    {
     "data": {
      "text/plain": [
       "array([-0.86663012, -0.98880424, -0.15221115,  0.00160331, -1.34677748,\n",
       "       -0.77473034, -0.45042532, -0.41201296,  0.09458753,  1.27929464])"
      ]
     },
     "execution_count": 362,
     "metadata": {},
     "output_type": "execute_result"
    }
   ],
   "source": [
    "inner_user_id = my_train_dataset.to_inner_uid(153) # find the inner representation of user 1\n",
    "user_profile = U[inner_user_id]\n",
    "user_profile"
   ]
  },
  {
   "cell_type": "code",
   "execution_count": 363,
   "id": "3f905c35",
   "metadata": {},
   "outputs": [
    {
     "data": {
      "image/png": "[encoded data removed]",
      "text/plain": [
       "<Figure size 1500x700 with 1 Axes>"
      ]
     },
     "metadata": {},
     "output_type": "display_data"
    }
   ],
   "source": [
    "plt.figure(figsize=(15, 7))\n",
    "plt.barh([f'Latent Var{i}' for i in range(1,len(first_book)+1)], user_profile)\n",
    "plt.title(\"Latent Variable Profile of User #1\")\n",
    "plt.ylabel(\"Latent Variable\")\n",
    "plt.xlabel(\"Value\")\n",
    "plt.show()"
   ]
  },
  {
   "cell_type": "code",
   "execution_count": 364,
   "id": "924ed517",
   "metadata": {},
   "outputs": [
    {
     "data": {
      "text/plain": [
       "array([ 1.41344157e-01,  2.74411669e-01,  9.25984376e-02, -5.68455016e-01,\n",
       "       -8.86023348e-01,  4.25964804e-01, -3.52115636e-04, -4.36989229e-01,\n",
       "        1.36687639e+00,  5.90568770e-01])"
      ]
     },
     "execution_count": 364,
     "metadata": {},
     "output_type": "execute_result"
    }
   ],
   "source": [
    "inner_book_id = my_train_dataset.to_inner_iid(2) # find the inner representation of item 1\n",
    "book_profile = M[:, inner_book_id]\n",
    "book_profile"
   ]
  },
  {
   "cell_type": "code",
   "execution_count": 366,
   "id": "1ba87a1d",
   "metadata": {},
   "outputs": [
    {
     "data": {
      "image/png": "[encoded data removed]",
      "text/plain": [
       "<Figure size 1500x700 with 1 Axes>"
      ]
     },
     "metadata": {},
     "output_type": "display_data"
    }
   ],
   "source": [
    "plt.figure(figsize=(15, 7))\n",
    "plt.barh([f'Latent Var{i}' for i in range(1,len(first_book)+1)], book_profile)\n",
    "plt.title(\"Latent Variable Profile of Book #2\")\n",
    "plt.ylabel(\"Latent Variable\")\n",
    "plt.xlabel(\"Value\")\n",
    "plt.show()"
   ]
  },
  {
   "cell_type": "code",
   "execution_count": 368,
   "id": "41b4ef1e",
   "metadata": {},
   "outputs": [
    {
     "data": {
      "text/plain": [
       "1.5194347369610393"
      ]
     },
     "execution_count": 368,
     "metadata": {},
     "output_type": "execute_result"
    }
   ],
   "source": [
    "expected_rating = np.dot(user_profile, book_profile)\n",
    "expected_rating"
   ]
  }
 ],
 "metadata": {
  "kernelspec": {
   "display_name": "Python 3 (ipykernel)",
   "language": "python",
   "name": "python3"
  },
  "language_info": {
   "codemirror_mode": {
    "name": "ipython",
    "version": 3
   },
   "file_extension": ".py",
   "mimetype": "text/x-python",
   "name": "python",
   "nbconvert_exporter": "python",
   "pygments_lexer": "ipython3",
   "version": "3.10.9"
  }
 },
 "nbformat": 4,
 "nbformat_minor": 5
}
